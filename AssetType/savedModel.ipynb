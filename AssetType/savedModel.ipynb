{
 "cells": [
  {
   "cell_type": "code",
   "execution_count": 17,
   "id": "b6a397d9",
   "metadata": {},
   "outputs": [],
   "source": [
    "import pandas as pd\n",
    "import numpy as np\n",
    "from sklearn.impute import SimpleImputer\n",
    "from sklearn.metrics import accuracy_score\n",
    "import joblib"
   ]
  },
  {
   "cell_type": "code",
   "execution_count": 28,
   "id": "462d6bff",
   "metadata": {},
   "outputs": [],
   "source": [
    "dataset = 'Asset15k.xlsx'\n",
    "df = pd.read_excel(dataset)"
   ]
  },
  {
   "cell_type": "code",
   "execution_count": 29,
   "id": "7b0bfbef",
   "metadata": {},
   "outputs": [],
   "source": [
    "X = df.iloc[:, 1:-2]\n",
    "y = df['AssetType']"
   ]
  },
  {
   "cell_type": "code",
   "execution_count": 30,
   "id": "9fd368ff",
   "metadata": {
    "scrolled": true
   },
   "outputs": [
    {
     "data": {
      "text/html": [
       "<div>\n",
       "<style scoped>\n",
       "    .dataframe tbody tr th:only-of-type {\n",
       "        vertical-align: middle;\n",
       "    }\n",
       "\n",
       "    .dataframe tbody tr th {\n",
       "        vertical-align: top;\n",
       "    }\n",
       "\n",
       "    .dataframe thead th {\n",
       "        text-align: right;\n",
       "    }\n",
       "</style>\n",
       "<table border=\"1\" class=\"dataframe\">\n",
       "  <thead>\n",
       "    <tr style=\"text-align: right;\">\n",
       "      <th></th>\n",
       "      <th>SerialNo</th>\n",
       "      <th>Manufacturer</th>\n",
       "      <th>ModelNbr</th>\n",
       "    </tr>\n",
       "  </thead>\n",
       "  <tbody>\n",
       "    <tr>\n",
       "      <th>0</th>\n",
       "      <td>NaN</td>\n",
       "      <td>NaN</td>\n",
       "      <td>NaN</td>\n",
       "    </tr>\n",
       "    <tr>\n",
       "      <th>1</th>\n",
       "      <td>TBA</td>\n",
       "      <td>NaN</td>\n",
       "      <td>TBA</td>\n",
       "    </tr>\n",
       "    <tr>\n",
       "      <th>2</th>\n",
       "      <td>TBA</td>\n",
       "      <td>NaN</td>\n",
       "      <td>TBA</td>\n",
       "    </tr>\n",
       "    <tr>\n",
       "      <th>3</th>\n",
       "      <td>NaN</td>\n",
       "      <td>NaN</td>\n",
       "      <td>NaN</td>\n",
       "    </tr>\n",
       "    <tr>\n",
       "      <th>4</th>\n",
       "      <td>TBA</td>\n",
       "      <td>NaN</td>\n",
       "      <td>TBA</td>\n",
       "    </tr>\n",
       "    <tr>\n",
       "      <th>...</th>\n",
       "      <td>...</td>\n",
       "      <td>...</td>\n",
       "      <td>...</td>\n",
       "    </tr>\n",
       "    <tr>\n",
       "      <th>14470</th>\n",
       "      <td>TBA</td>\n",
       "      <td>COOLAIR</td>\n",
       "      <td>ASH 2000 FMSP</td>\n",
       "    </tr>\n",
       "    <tr>\n",
       "      <th>14471</th>\n",
       "      <td>TBA</td>\n",
       "      <td>NaN</td>\n",
       "      <td>TBA</td>\n",
       "    </tr>\n",
       "    <tr>\n",
       "      <th>14472</th>\n",
       "      <td>TBA</td>\n",
       "      <td>COOLAIR</td>\n",
       "      <td>ASH 1500 FMSP</td>\n",
       "    </tr>\n",
       "    <tr>\n",
       "      <th>14473</th>\n",
       "      <td>TBA</td>\n",
       "      <td>NaN</td>\n",
       "      <td>TBA</td>\n",
       "    </tr>\n",
       "    <tr>\n",
       "      <th>14474</th>\n",
       "      <td>TBA</td>\n",
       "      <td>COOLAIR</td>\n",
       "      <td>ASH 10000 FMSP</td>\n",
       "    </tr>\n",
       "  </tbody>\n",
       "</table>\n",
       "<p>14475 rows × 3 columns</p>\n",
       "</div>"
      ],
      "text/plain": [
       "      SerialNo Manufacturer        ModelNbr\n",
       "0          NaN          NaN             NaN\n",
       "1          TBA          NaN             TBA\n",
       "2          TBA          NaN             TBA\n",
       "3          NaN          NaN             NaN\n",
       "4          TBA          NaN             TBA\n",
       "...        ...          ...             ...\n",
       "14470      TBA      COOLAIR   ASH 2000 FMSP\n",
       "14471      TBA          NaN             TBA\n",
       "14472      TBA      COOLAIR   ASH 1500 FMSP\n",
       "14473      TBA          NaN             TBA\n",
       "14474      TBA      COOLAIR  ASH 10000 FMSP\n",
       "\n",
       "[14475 rows x 3 columns]"
      ]
     },
     "execution_count": 30,
     "metadata": {},
     "output_type": "execute_result"
    }
   ],
   "source": [
    "X"
   ]
  },
  {
   "cell_type": "code",
   "execution_count": 31,
   "id": "967f0caa",
   "metadata": {},
   "outputs": [],
   "source": [
    "# Impute missing values\n",
    "imputer = SimpleImputer(strategy='most_frequent')\n",
    "X = pd.DataFrame(imputer.fit_transform(X), columns=X.columns)"
   ]
  },
  {
   "cell_type": "code",
   "execution_count": 32,
   "id": "39b986e5",
   "metadata": {},
   "outputs": [
    {
     "data": {
      "text/html": [
       "<div>\n",
       "<style scoped>\n",
       "    .dataframe tbody tr th:only-of-type {\n",
       "        vertical-align: middle;\n",
       "    }\n",
       "\n",
       "    .dataframe tbody tr th {\n",
       "        vertical-align: top;\n",
       "    }\n",
       "\n",
       "    .dataframe thead th {\n",
       "        text-align: right;\n",
       "    }\n",
       "</style>\n",
       "<table border=\"1\" class=\"dataframe\">\n",
       "  <thead>\n",
       "    <tr style=\"text-align: right;\">\n",
       "      <th></th>\n",
       "      <th>SerialNo</th>\n",
       "      <th>Manufacturer</th>\n",
       "      <th>ModelNbr</th>\n",
       "    </tr>\n",
       "  </thead>\n",
       "  <tbody>\n",
       "    <tr>\n",
       "      <th>0</th>\n",
       "      <td>TBA</td>\n",
       "      <td>FANTECH</td>\n",
       "      <td>TBA</td>\n",
       "    </tr>\n",
       "    <tr>\n",
       "      <th>1</th>\n",
       "      <td>TBA</td>\n",
       "      <td>FANTECH</td>\n",
       "      <td>TBA</td>\n",
       "    </tr>\n",
       "    <tr>\n",
       "      <th>2</th>\n",
       "      <td>TBA</td>\n",
       "      <td>FANTECH</td>\n",
       "      <td>TBA</td>\n",
       "    </tr>\n",
       "    <tr>\n",
       "      <th>3</th>\n",
       "      <td>TBA</td>\n",
       "      <td>FANTECH</td>\n",
       "      <td>TBA</td>\n",
       "    </tr>\n",
       "    <tr>\n",
       "      <th>4</th>\n",
       "      <td>TBA</td>\n",
       "      <td>FANTECH</td>\n",
       "      <td>TBA</td>\n",
       "    </tr>\n",
       "    <tr>\n",
       "      <th>...</th>\n",
       "      <td>...</td>\n",
       "      <td>...</td>\n",
       "      <td>...</td>\n",
       "    </tr>\n",
       "    <tr>\n",
       "      <th>14470</th>\n",
       "      <td>TBA</td>\n",
       "      <td>COOLAIR</td>\n",
       "      <td>ASH 2000 FMSP</td>\n",
       "    </tr>\n",
       "    <tr>\n",
       "      <th>14471</th>\n",
       "      <td>TBA</td>\n",
       "      <td>FANTECH</td>\n",
       "      <td>TBA</td>\n",
       "    </tr>\n",
       "    <tr>\n",
       "      <th>14472</th>\n",
       "      <td>TBA</td>\n",
       "      <td>COOLAIR</td>\n",
       "      <td>ASH 1500 FMSP</td>\n",
       "    </tr>\n",
       "    <tr>\n",
       "      <th>14473</th>\n",
       "      <td>TBA</td>\n",
       "      <td>FANTECH</td>\n",
       "      <td>TBA</td>\n",
       "    </tr>\n",
       "    <tr>\n",
       "      <th>14474</th>\n",
       "      <td>TBA</td>\n",
       "      <td>COOLAIR</td>\n",
       "      <td>ASH 10000 FMSP</td>\n",
       "    </tr>\n",
       "  </tbody>\n",
       "</table>\n",
       "<p>14475 rows × 3 columns</p>\n",
       "</div>"
      ],
      "text/plain": [
       "      SerialNo Manufacturer        ModelNbr\n",
       "0          TBA      FANTECH             TBA\n",
       "1          TBA      FANTECH             TBA\n",
       "2          TBA      FANTECH             TBA\n",
       "3          TBA      FANTECH             TBA\n",
       "4          TBA      FANTECH             TBA\n",
       "...        ...          ...             ...\n",
       "14470      TBA      COOLAIR   ASH 2000 FMSP\n",
       "14471      TBA      FANTECH             TBA\n",
       "14472      TBA      COOLAIR   ASH 1500 FMSP\n",
       "14473      TBA      FANTECH             TBA\n",
       "14474      TBA      COOLAIR  ASH 10000 FMSP\n",
       "\n",
       "[14475 rows x 3 columns]"
      ]
     },
     "execution_count": 32,
     "metadata": {},
     "output_type": "execute_result"
    }
   ],
   "source": [
    "X"
   ]
  },
  {
   "cell_type": "code",
   "execution_count": 33,
   "id": "c39903d2",
   "metadata": {},
   "outputs": [],
   "source": [
    "special_values = [1234, 'UNKOWN', 'Unknown', 'NA', 'NULL', 'UNKNOWN', 'TBA', 'N/A', 'NOT VISIBLE', '123TEST', 'UNABLE TO LOCATE', 'NO ID', 'NO ACCESS', 'UNKOWN', 'NaN', 'na', 'AS PER PICS','nan']\n",
    "\n",
    "# Create a copy of the DataFrame to avoid SettingWithCopyWarning\n",
    "X_copy = X.copy()\n",
    "\n",
    "# Replace values using .loc to avoid SettingWithCopyWarning\n",
    "X_copy.loc[:, 'SerialNo'] = X_copy['SerialNo'].replace(special_values, pd.NA)\n",
    "X_copy.loc[:, 'Manufacturer'] = X_copy['Manufacturer'].replace(special_values, pd.NA)\n",
    "X_copy.loc[:, 'ModelNbr'] = X_copy['ModelNbr'].replace(special_values, pd.NA)\n",
    "\n",
    "X = X_copy"
   ]
  },
  {
   "cell_type": "code",
   "execution_count": 34,
   "id": "b39d26a1",
   "metadata": {},
   "outputs": [],
   "source": [
    "LE_SerialNo = joblib.load('model/LE_Serial')\n",
    "LE_ModelNbr = joblib.load('model/LE_ModelNbr')\n",
    "LE_Manufact = joblib.load('model/LE_Manufact')\n",
    "LE_Asset = joblib.load('model/LE_Asset')"
   ]
  },
  {
   "cell_type": "code",
   "execution_count": 35,
   "id": "da257881",
   "metadata": {},
   "outputs": [],
   "source": [
    "X['ModelNbr'] = LE_ModelNbr.transform(X['ModelNbr'].astype(str))\n",
    "X['SerialNo'] = LE_SerialNo.transform(X['SerialNo'].astype(str))\n",
    "X['Manufacturer'] = LE_Manufact.transform(X['Manufacturer'].astype(str))\n",
    "\n",
    "y = LE_Asset.transform(y.astype(str))"
   ]
  },
  {
   "cell_type": "code",
   "execution_count": 36,
   "id": "ee3285e7",
   "metadata": {},
   "outputs": [],
   "source": [
    "rf_classifier = joblib.load('model/rf_final2')"
   ]
  },
  {
   "cell_type": "code",
   "execution_count": 37,
   "id": "7a68bc76",
   "metadata": {},
   "outputs": [],
   "source": [
    "y_pred_encoded = rf_classifier.predict(X)"
   ]
  },
  {
   "cell_type": "code",
   "execution_count": 38,
   "id": "339ed614",
   "metadata": {},
   "outputs": [
    {
     "name": "stdout",
     "output_type": "stream",
     "text": [
      "Accuracy on the chunk: 0.609119170984456\n"
     ]
    }
   ],
   "source": [
    "accuracy = accuracy_score(y, y_pred_encoded)\n",
    "print(f\"Accuracy on the chunk: {accuracy}\")"
   ]
  },
  {
   "cell_type": "code",
   "execution_count": null,
   "id": "d9c1de61",
   "metadata": {},
   "outputs": [],
   "source": []
  }
 ],
 "metadata": {
  "kernelspec": {
   "display_name": "Python 3 (ipykernel)",
   "language": "python",
   "name": "python3"
  },
  "language_info": {
   "codemirror_mode": {
    "name": "ipython",
    "version": 3
   },
   "file_extension": ".py",
   "mimetype": "text/x-python",
   "name": "python",
   "nbconvert_exporter": "python",
   "pygments_lexer": "ipython3",
   "version": "3.9.13"
  }
 },
 "nbformat": 4,
 "nbformat_minor": 5
}
