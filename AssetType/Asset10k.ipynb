{
 "cells": [
  {
   "cell_type": "code",
   "execution_count": 2,
   "id": "601f420e",
   "metadata": {},
   "outputs": [],
   "source": [
    "import pandas as pd\n",
    "from sklearn.model_selection import train_test_split\n",
    "from sklearn.tree import DecisionTreeClassifier\n",
    "from sklearn.ensemble import RandomForestClassifier\n",
    "from sklearn.preprocessing import LabelEncoder\n",
    "from sklearn.impute import SimpleImputer\n",
    "from sklearn.metrics import accuracy_score, classification_report, confusion_matrix"
   ]
  },
  {
   "cell_type": "code",
   "execution_count": 3,
   "id": "36cde39f",
   "metadata": {},
   "outputs": [],
   "source": [
    "dataset = 'Asset10k.xlsx'\n",
    "df = pd.read_excel(dataset)"
   ]
  },
  {
   "cell_type": "code",
   "execution_count": 4,
   "id": "eca3ab82",
   "metadata": {},
   "outputs": [
    {
     "data": {
      "text/html": [
       "<div>\n",
       "<style scoped>\n",
       "    .dataframe tbody tr th:only-of-type {\n",
       "        vertical-align: middle;\n",
       "    }\n",
       "\n",
       "    .dataframe tbody tr th {\n",
       "        vertical-align: top;\n",
       "    }\n",
       "\n",
       "    .dataframe thead th {\n",
       "        text-align: right;\n",
       "    }\n",
       "</style>\n",
       "<table border=\"1\" class=\"dataframe\">\n",
       "  <thead>\n",
       "    <tr style=\"text-align: right;\">\n",
       "      <th></th>\n",
       "      <th>AssetType</th>\n",
       "      <th>SerialNo</th>\n",
       "      <th>Manufacturer</th>\n",
       "      <th>ModelNbr</th>\n",
       "      <th>Refrigerant</th>\n",
       "      <th>RefrigerantQty</th>\n",
       "    </tr>\n",
       "  </thead>\n",
       "  <tbody>\n",
       "    <tr>\n",
       "      <th>0</th>\n",
       "      <td>CHILLED BEAMS - PASSIVE</td>\n",
       "      <td>NaN</td>\n",
       "      <td>NaN</td>\n",
       "      <td>NaN</td>\n",
       "      <td>NaN</td>\n",
       "      <td>NaN</td>\n",
       "    </tr>\n",
       "    <tr>\n",
       "      <th>1</th>\n",
       "      <td>CHILLED BEAMS - PASSIVE</td>\n",
       "      <td>NaN</td>\n",
       "      <td>NaN</td>\n",
       "      <td>NaN</td>\n",
       "      <td>NaN</td>\n",
       "      <td>NaN</td>\n",
       "    </tr>\n",
       "    <tr>\n",
       "      <th>2</th>\n",
       "      <td>CHILLED BEAMS - PASSIVE</td>\n",
       "      <td>NaN</td>\n",
       "      <td>NaN</td>\n",
       "      <td>NaN</td>\n",
       "      <td>NaN</td>\n",
       "      <td>NaN</td>\n",
       "    </tr>\n",
       "    <tr>\n",
       "      <th>3</th>\n",
       "      <td>CHILLED BEAMS - PASSIVE</td>\n",
       "      <td>0</td>\n",
       "      <td>NaN</td>\n",
       "      <td>O</td>\n",
       "      <td>NaN</td>\n",
       "      <td>NaN</td>\n",
       "    </tr>\n",
       "    <tr>\n",
       "      <th>4</th>\n",
       "      <td>CHILLED BEAMS - PASSIVE</td>\n",
       "      <td>NaN</td>\n",
       "      <td>NaN</td>\n",
       "      <td>FRENGER</td>\n",
       "      <td>NaN</td>\n",
       "      <td>NaN</td>\n",
       "    </tr>\n",
       "    <tr>\n",
       "      <th>...</th>\n",
       "      <td>...</td>\n",
       "      <td>...</td>\n",
       "      <td>...</td>\n",
       "      <td>...</td>\n",
       "      <td>...</td>\n",
       "      <td>...</td>\n",
       "    </tr>\n",
       "    <tr>\n",
       "      <th>10148</th>\n",
       "      <td>CASSETTE SPLIT SYSTEM</td>\n",
       "      <td>329</td>\n",
       "      <td>MODULEX</td>\n",
       "      <td>PUH-4YKSA</td>\n",
       "      <td>NaN</td>\n",
       "      <td>0.0</td>\n",
       "    </tr>\n",
       "    <tr>\n",
       "      <th>10149</th>\n",
       "      <td>CASSETTE SPLIT SYSTEM</td>\n",
       "      <td>NaN</td>\n",
       "      <td>MODULEX</td>\n",
       "      <td>PUH-3YKA</td>\n",
       "      <td>NaN</td>\n",
       "      <td>0.0</td>\n",
       "    </tr>\n",
       "    <tr>\n",
       "      <th>10150</th>\n",
       "      <td>WALL MOUNTED SPLIT SYSTEM</td>\n",
       "      <td>H803 03649 NF</td>\n",
       "      <td>MITSUBISHI</td>\n",
       "      <td>FDC306HEN3</td>\n",
       "      <td>NaN</td>\n",
       "      <td>0.0</td>\n",
       "    </tr>\n",
       "    <tr>\n",
       "      <th>10151</th>\n",
       "      <td>WALL MOUNTED SPLIT SYSTEM</td>\n",
       "      <td>833325020</td>\n",
       "      <td>MITSUBISHI</td>\n",
       "      <td>SRC35ZG-S</td>\n",
       "      <td>NaN</td>\n",
       "      <td>0.0</td>\n",
       "    </tr>\n",
       "    <tr>\n",
       "      <th>10152</th>\n",
       "      <td>WALL MOUNTED SPLIT SYSTEM</td>\n",
       "      <td>33808014</td>\n",
       "      <td>MITSUBISHI</td>\n",
       "      <td>SRC71ZE-S1</td>\n",
       "      <td>NaN</td>\n",
       "      <td>0.0</td>\n",
       "    </tr>\n",
       "  </tbody>\n",
       "</table>\n",
       "<p>10153 rows × 6 columns</p>\n",
       "</div>"
      ],
      "text/plain": [
       "                       AssetType       SerialNo Manufacturer    ModelNbr  \\\n",
       "0        CHILLED BEAMS - PASSIVE            NaN          NaN         NaN   \n",
       "1        CHILLED BEAMS - PASSIVE            NaN          NaN         NaN   \n",
       "2        CHILLED BEAMS - PASSIVE            NaN          NaN         NaN   \n",
       "3        CHILLED BEAMS - PASSIVE              0          NaN           O   \n",
       "4        CHILLED BEAMS - PASSIVE            NaN          NaN     FRENGER   \n",
       "...                          ...            ...          ...         ...   \n",
       "10148      CASSETTE SPLIT SYSTEM            329      MODULEX   PUH-4YKSA   \n",
       "10149      CASSETTE SPLIT SYSTEM            NaN      MODULEX    PUH-3YKA   \n",
       "10150  WALL MOUNTED SPLIT SYSTEM  H803 03649 NF   MITSUBISHI  FDC306HEN3   \n",
       "10151  WALL MOUNTED SPLIT SYSTEM      833325020   MITSUBISHI   SRC35ZG-S   \n",
       "10152  WALL MOUNTED SPLIT SYSTEM       33808014   MITSUBISHI  SRC71ZE-S1   \n",
       "\n",
       "      Refrigerant  RefrigerantQty  \n",
       "0             NaN             NaN  \n",
       "1             NaN             NaN  \n",
       "2             NaN             NaN  \n",
       "3             NaN             NaN  \n",
       "4             NaN             NaN  \n",
       "...           ...             ...  \n",
       "10148         NaN             0.0  \n",
       "10149         NaN             0.0  \n",
       "10150         NaN             0.0  \n",
       "10151         NaN             0.0  \n",
       "10152         NaN             0.0  \n",
       "\n",
       "[10153 rows x 6 columns]"
      ]
     },
     "execution_count": 4,
     "metadata": {},
     "output_type": "execute_result"
    }
   ],
   "source": [
    "df"
   ]
  },
  {
   "cell_type": "code",
   "execution_count": 29,
   "id": "8ddd7295",
   "metadata": {},
   "outputs": [],
   "source": [
    "X = df.iloc[:, 1:]\n",
    "y = df['AssetType']"
   ]
  },
  {
   "cell_type": "code",
   "execution_count": 30,
   "id": "0f87a820",
   "metadata": {},
   "outputs": [
    {
     "data": {
      "text/html": [
       "<div>\n",
       "<style scoped>\n",
       "    .dataframe tbody tr th:only-of-type {\n",
       "        vertical-align: middle;\n",
       "    }\n",
       "\n",
       "    .dataframe tbody tr th {\n",
       "        vertical-align: top;\n",
       "    }\n",
       "\n",
       "    .dataframe thead th {\n",
       "        text-align: right;\n",
       "    }\n",
       "</style>\n",
       "<table border=\"1\" class=\"dataframe\">\n",
       "  <thead>\n",
       "    <tr style=\"text-align: right;\">\n",
       "      <th></th>\n",
       "      <th>SerialNo</th>\n",
       "      <th>Manufacturer</th>\n",
       "      <th>ModelNbr</th>\n",
       "      <th>Refrigerant</th>\n",
       "      <th>RefrigerantQty</th>\n",
       "    </tr>\n",
       "  </thead>\n",
       "  <tbody>\n",
       "    <tr>\n",
       "      <th>0</th>\n",
       "      <td>NaN</td>\n",
       "      <td>NaN</td>\n",
       "      <td>NaN</td>\n",
       "      <td>NaN</td>\n",
       "      <td>NaN</td>\n",
       "    </tr>\n",
       "    <tr>\n",
       "      <th>1</th>\n",
       "      <td>NaN</td>\n",
       "      <td>NaN</td>\n",
       "      <td>NaN</td>\n",
       "      <td>NaN</td>\n",
       "      <td>NaN</td>\n",
       "    </tr>\n",
       "    <tr>\n",
       "      <th>2</th>\n",
       "      <td>NaN</td>\n",
       "      <td>NaN</td>\n",
       "      <td>NaN</td>\n",
       "      <td>NaN</td>\n",
       "      <td>NaN</td>\n",
       "    </tr>\n",
       "    <tr>\n",
       "      <th>3</th>\n",
       "      <td>0</td>\n",
       "      <td>NaN</td>\n",
       "      <td>O</td>\n",
       "      <td>NaN</td>\n",
       "      <td>NaN</td>\n",
       "    </tr>\n",
       "    <tr>\n",
       "      <th>4</th>\n",
       "      <td>NaN</td>\n",
       "      <td>NaN</td>\n",
       "      <td>FRENGER</td>\n",
       "      <td>NaN</td>\n",
       "      <td>NaN</td>\n",
       "    </tr>\n",
       "    <tr>\n",
       "      <th>...</th>\n",
       "      <td>...</td>\n",
       "      <td>...</td>\n",
       "      <td>...</td>\n",
       "      <td>...</td>\n",
       "      <td>...</td>\n",
       "    </tr>\n",
       "    <tr>\n",
       "      <th>10148</th>\n",
       "      <td>329</td>\n",
       "      <td>MODULEX</td>\n",
       "      <td>PUH-4YKSA</td>\n",
       "      <td>NaN</td>\n",
       "      <td>0.0</td>\n",
       "    </tr>\n",
       "    <tr>\n",
       "      <th>10149</th>\n",
       "      <td>NaN</td>\n",
       "      <td>MODULEX</td>\n",
       "      <td>PUH-3YKA</td>\n",
       "      <td>NaN</td>\n",
       "      <td>0.0</td>\n",
       "    </tr>\n",
       "    <tr>\n",
       "      <th>10150</th>\n",
       "      <td>H803 03649 NF</td>\n",
       "      <td>MITSUBISHI</td>\n",
       "      <td>FDC306HEN3</td>\n",
       "      <td>NaN</td>\n",
       "      <td>0.0</td>\n",
       "    </tr>\n",
       "    <tr>\n",
       "      <th>10151</th>\n",
       "      <td>833325020</td>\n",
       "      <td>MITSUBISHI</td>\n",
       "      <td>SRC35ZG-S</td>\n",
       "      <td>NaN</td>\n",
       "      <td>0.0</td>\n",
       "    </tr>\n",
       "    <tr>\n",
       "      <th>10152</th>\n",
       "      <td>33808014</td>\n",
       "      <td>MITSUBISHI</td>\n",
       "      <td>SRC71ZE-S1</td>\n",
       "      <td>NaN</td>\n",
       "      <td>0.0</td>\n",
       "    </tr>\n",
       "  </tbody>\n",
       "</table>\n",
       "<p>10153 rows × 5 columns</p>\n",
       "</div>"
      ],
      "text/plain": [
       "            SerialNo Manufacturer    ModelNbr Refrigerant  RefrigerantQty\n",
       "0                NaN          NaN         NaN         NaN             NaN\n",
       "1                NaN          NaN         NaN         NaN             NaN\n",
       "2                NaN          NaN         NaN         NaN             NaN\n",
       "3                  0          NaN           O         NaN             NaN\n",
       "4                NaN          NaN     FRENGER         NaN             NaN\n",
       "...              ...          ...         ...         ...             ...\n",
       "10148            329      MODULEX   PUH-4YKSA         NaN             0.0\n",
       "10149            NaN      MODULEX    PUH-3YKA         NaN             0.0\n",
       "10150  H803 03649 NF   MITSUBISHI  FDC306HEN3         NaN             0.0\n",
       "10151      833325020   MITSUBISHI   SRC35ZG-S         NaN             0.0\n",
       "10152       33808014   MITSUBISHI  SRC71ZE-S1         NaN             0.0\n",
       "\n",
       "[10153 rows x 5 columns]"
      ]
     },
     "execution_count": 30,
     "metadata": {},
     "output_type": "execute_result"
    }
   ],
   "source": [
    "X"
   ]
  },
  {
   "cell_type": "code",
   "execution_count": 31,
   "id": "bec099f7",
   "metadata": {},
   "outputs": [
    {
     "data": {
      "text/plain": [
       "0    CHILLED BEAMS - PASSIVE\n",
       "1    CHILLED BEAMS - PASSIVE\n",
       "2    CHILLED BEAMS - PASSIVE\n",
       "3    CHILLED BEAMS - PASSIVE\n",
       "4    CHILLED BEAMS - PASSIVE\n",
       "Name: AssetType, dtype: object"
      ]
     },
     "execution_count": 31,
     "metadata": {},
     "output_type": "execute_result"
    }
   ],
   "source": [
    "y.head()"
   ]
  },
  {
   "cell_type": "code",
   "execution_count": 32,
   "id": "ffe84a75",
   "metadata": {},
   "outputs": [],
   "source": [
    "special_values = ['NA', 'NULL', 'UNKNOWN', 'UNABLE TO LOCATE', 'NO ID', 'NO ACCESS', 'UNKOWN', 'NaN', 'na']\n",
    "\n",
    "for column in X.columns:\n",
    "    X[column] = X[column].replace(special_values, pd.NA)"
   ]
  },
  {
   "cell_type": "code",
   "execution_count": 33,
   "id": "3c1b6cc2",
   "metadata": {},
   "outputs": [],
   "source": [
    "# Label encoding for both X and y\n",
    "label_encoder = LabelEncoder()\n",
    "\n",
    "for column in X.select_dtypes(include=['object']).columns:\n",
    "    X[column] = label_encoder.fit_transform(X[column].astype(str))\n",
    "\n",
    "y = label_encoder.fit_transform(y.astype(str))"
   ]
  },
  {
   "cell_type": "code",
   "execution_count": 34,
   "id": "6882382b",
   "metadata": {},
   "outputs": [
    {
     "name": "stderr",
     "output_type": "stream",
     "text": [
      "C:\\ML\\lib\\site-packages\\sklearn\\impute\\_base.py:49: FutureWarning: Unlike other reduction functions (e.g. `skew`, `kurtosis`), the default behavior of `mode` typically preserves the axis it acts along. In SciPy 1.11.0, this behavior will change: the default value of `keepdims` will become False, the `axis` over which the statistic is taken will be eliminated, and the value None will no longer be accepted. Set `keepdims` to True or False to avoid this warning.\n",
      "  mode = stats.mode(array)\n"
     ]
    }
   ],
   "source": [
    "imputer = SimpleImputer(strategy='most_frequent')\n",
    "X_imputed = pd.DataFrame(imputer.fit_transform(X), columns=X.columns)"
   ]
  },
  {
   "cell_type": "code",
   "execution_count": 35,
   "id": "31be3a91",
   "metadata": {},
   "outputs": [],
   "source": [
    "# Split the dataset into training and testing sets\n",
    "X_train_sampled, X_test, y_train_sampled, y_test = train_test_split(X_imputed, y, test_size=0.2, random_state=42)"
   ]
  },
  {
   "cell_type": "code",
   "execution_count": 36,
   "id": "b998f9c8",
   "metadata": {},
   "outputs": [],
   "source": [
    "# Create a Random Forest classifier\n",
    "rf_classifier = RandomForestClassifier(n_estimators=100, random_state=42)"
   ]
  },
  {
   "cell_type": "code",
   "execution_count": 37,
   "id": "b1ec93b6",
   "metadata": {},
   "outputs": [
    {
     "data": {
      "text/plain": [
       "RandomForestClassifier(random_state=42)"
      ]
     },
     "execution_count": 37,
     "metadata": {},
     "output_type": "execute_result"
    }
   ],
   "source": [
    "# Train the classifier on the training data\n",
    "rf_classifier.fit(X_train_sampled, y_train_sampled)"
   ]
  },
  {
   "cell_type": "code",
   "execution_count": 38,
   "id": "a14c91a5",
   "metadata": {},
   "outputs": [],
   "source": [
    "# Make predictions on the test set\n",
    "y_pred = rf_classifier.predict(X_test)"
   ]
  },
  {
   "cell_type": "code",
   "execution_count": 39,
   "id": "a547a61a",
   "metadata": {},
   "outputs": [
    {
     "name": "stderr",
     "output_type": "stream",
     "text": [
      "C:\\ML\\lib\\site-packages\\sklearn\\metrics\\_classification.py:1318: UndefinedMetricWarning: Precision and F-score are ill-defined and being set to 0.0 in labels with no predicted samples. Use `zero_division` parameter to control this behavior.\n",
      "  _warn_prf(average, modifier, msg_start, len(result))\n",
      "C:\\ML\\lib\\site-packages\\sklearn\\metrics\\_classification.py:1318: UndefinedMetricWarning: Recall and F-score are ill-defined and being set to 0.0 in labels with no true samples. Use `zero_division` parameter to control this behavior.\n",
      "  _warn_prf(average, modifier, msg_start, len(result))\n",
      "C:\\ML\\lib\\site-packages\\sklearn\\metrics\\_classification.py:1318: UndefinedMetricWarning: Precision and F-score are ill-defined and being set to 0.0 in labels with no predicted samples. Use `zero_division` parameter to control this behavior.\n",
      "  _warn_prf(average, modifier, msg_start, len(result))\n",
      "C:\\ML\\lib\\site-packages\\sklearn\\metrics\\_classification.py:1318: UndefinedMetricWarning: Recall and F-score are ill-defined and being set to 0.0 in labels with no true samples. Use `zero_division` parameter to control this behavior.\n",
      "  _warn_prf(average, modifier, msg_start, len(result))\n",
      "C:\\ML\\lib\\site-packages\\sklearn\\metrics\\_classification.py:1318: UndefinedMetricWarning: Precision and F-score are ill-defined and being set to 0.0 in labels with no predicted samples. Use `zero_division` parameter to control this behavior.\n",
      "  _warn_prf(average, modifier, msg_start, len(result))\n",
      "C:\\ML\\lib\\site-packages\\sklearn\\metrics\\_classification.py:1318: UndefinedMetricWarning: Recall and F-score are ill-defined and being set to 0.0 in labels with no true samples. Use `zero_division` parameter to control this behavior.\n",
      "  _warn_prf(average, modifier, msg_start, len(result))\n"
     ]
    }
   ],
   "source": [
    "accuracy = accuracy_score(y_test, y_pred)\n",
    "conf_matrix = confusion_matrix(y_test, y_pred)\n",
    "classification_rep = classification_report(y_test, y_pred)"
   ]
  },
  {
   "cell_type": "code",
   "execution_count": 41,
   "id": "08097855",
   "metadata": {},
   "outputs": [
    {
     "name": "stdout",
     "output_type": "stream",
     "text": [
      "Accuracy: 0.6518956179222059\n"
     ]
    }
   ],
   "source": [
    "print(f\"Accuracy: {accuracy}\")"
   ]
  },
  {
   "cell_type": "code",
   "execution_count": 17,
   "id": "914ff196",
   "metadata": {},
   "outputs": [],
   "source": [
    "y_pred_actual = label_encoder.inverse_transform(y_pred)"
   ]
  },
  {
   "cell_type": "code",
   "execution_count": 18,
   "id": "fbac6bb7",
   "metadata": {},
   "outputs": [
    {
     "data": {
      "text/plain": [
       "array(['WALL MOUNTED SPLIT SYSTEM', 'GAS DUCT HEATER',\n",
       "       'KITCHEN EXHAUST FAN', ..., 'AIR FAN - EXHAUST',\n",
       "       'DUCTED SPLIT SYSTEM', 'DUCTED SPLIT SYSTEM'], dtype=object)"
      ]
     },
     "execution_count": 18,
     "metadata": {},
     "output_type": "execute_result"
    }
   ],
   "source": [
    "y_pred_actual"
   ]
  },
  {
   "cell_type": "code",
   "execution_count": 42,
   "id": "68be7f59",
   "metadata": {},
   "outputs": [],
   "source": [
    "random_states = range(1,101)"
   ]
  },
  {
   "cell_type": "code",
   "execution_count": 44,
   "id": "9fedb1a8",
   "metadata": {},
   "outputs": [
    {
     "name": "stdout",
     "output_type": "stream",
     "text": [
      "Random State : 1 , Accuracy : 0.6474643032988675\n",
      "Random State : 2 , Accuracy : 0.6474643032988675\n",
      "Random State : 3 , Accuracy : 0.6479566715903495\n",
      "Random State : 4 , Accuracy : 0.6464795667159035\n",
      "Random State : 5 , Accuracy : 0.6484490398818316\n",
      "Random State : 6 , Accuracy : 0.6484490398818316\n",
      "Random State : 7 , Accuracy : 0.6484490398818316\n",
      "Random State : 8 , Accuracy : 0.6484490398818316\n",
      "Random State : 9 , Accuracy : 0.6474643032988675\n",
      "Random State : 10 , Accuracy : 0.6484490398818316\n",
      "Random State : 11 , Accuracy : 0.6479566715903495\n",
      "Random State : 12 , Accuracy : 0.6469719350073855\n",
      "Random State : 13 , Accuracy : 0.6435253569670113\n",
      "Random State : 14 , Accuracy : 0.6484490398818316\n",
      "Random State : 15 , Accuracy : 0.6474643032988675\n",
      "Random State : 16 , Accuracy : 0.6514032496307238\n",
      "Random State : 17 , Accuracy : 0.6440177252584933\n",
      "Random State : 18 , Accuracy : 0.6459871984244214\n",
      "Random State : 19 , Accuracy : 0.6474643032988675\n",
      "Random State : 20 , Accuracy : 0.6450024618414574\n",
      "Random State : 21 , Accuracy : 0.6484490398818316\n",
      "Random State : 22 , Accuracy : 0.6469719350073855\n",
      "Random State : 23 , Accuracy : 0.6474643032988675\n",
      "Random State : 24 , Accuracy : 0.6469719350073855\n",
      "Random State : 25 , Accuracy : 0.6440177252584933\n",
      "Random State : 26 , Accuracy : 0.6489414081733137\n",
      "Random State : 27 , Accuracy : 0.6499261447562777\n",
      "Random State : 28 , Accuracy : 0.6440177252584933\n",
      "Random State : 29 , Accuracy : 0.6474643032988675\n",
      "Random State : 30 , Accuracy : 0.6459871984244214\n",
      "Random State : 31 , Accuracy : 0.6450024618414574\n",
      "Random State : 32 , Accuracy : 0.6454948301329394\n",
      "Random State : 33 , Accuracy : 0.6474643032988675\n",
      "Random State : 34 , Accuracy : 0.6528803545051699\n",
      "Random State : 35 , Accuracy : 0.6499261447562777\n",
      "Random State : 36 , Accuracy : 0.6469719350073855\n",
      "Random State : 37 , Accuracy : 0.6518956179222059\n",
      "Random State : 38 , Accuracy : 0.6469719350073855\n",
      "Random State : 39 , Accuracy : 0.6459871984244214\n",
      "Random State : 40 , Accuracy : 0.6469719350073855\n",
      "Random State : 41 , Accuracy : 0.6469719350073855\n",
      "Random State : 42 , Accuracy : 0.6518956179222059\n",
      "Random State : 43 , Accuracy : 0.6435253569670113\n",
      "Random State : 44 , Accuracy : 0.6514032496307238\n",
      "Random State : 45 , Accuracy : 0.6494337764647957\n",
      "Random State : 46 , Accuracy : 0.6464795667159035\n",
      "Random State : 47 , Accuracy : 0.6420482520925652\n",
      "Random State : 48 , Accuracy : 0.6425406203840472\n",
      "Random State : 49 , Accuracy : 0.6469719350073855\n",
      "Random State : 50 , Accuracy : 0.6484490398818316\n",
      "Random State : 51 , Accuracy : 0.6464795667159035\n",
      "Random State : 52 , Accuracy : 0.6454948301329394\n",
      "Random State : 53 , Accuracy : 0.6509108813392418\n",
      "Random State : 54 , Accuracy : 0.6474643032988675\n",
      "Random State : 55 , Accuracy : 0.6474643032988675\n",
      "Random State : 56 , Accuracy : 0.6454948301329394\n",
      "Random State : 57 , Accuracy : 0.6484490398818316\n",
      "Random State : 58 , Accuracy : 0.6509108813392418\n",
      "Random State : 59 , Accuracy : 0.6459871984244214\n",
      "Random State : 60 , Accuracy : 0.6479566715903495\n",
      "Random State : 61 , Accuracy : 0.6464795667159035\n",
      "Random State : 62 , Accuracy : 0.6479566715903495\n",
      "Random State : 63 , Accuracy : 0.6528803545051699\n",
      "Random State : 64 , Accuracy : 0.6523879862136879\n",
      "Random State : 65 , Accuracy : 0.6484490398818316\n",
      "Random State : 66 , Accuracy : 0.6484490398818316\n",
      "Random State : 67 , Accuracy : 0.6469719350073855\n",
      "Random State : 68 , Accuracy : 0.6523879862136879\n",
      "Random State : 69 , Accuracy : 0.6459871984244214\n",
      "Random State : 70 , Accuracy : 0.6459871984244214\n",
      "Random State : 71 , Accuracy : 0.6464795667159035\n",
      "Random State : 72 , Accuracy : 0.6469719350073855\n",
      "Random State : 73 , Accuracy : 0.6509108813392418\n",
      "Random State : 74 , Accuracy : 0.6494337764647957\n",
      "Random State : 75 , Accuracy : 0.6489414081733137\n",
      "Random State : 76 , Accuracy : 0.6479566715903495\n",
      "Random State : 77 , Accuracy : 0.6479566715903495\n",
      "Random State : 78 , Accuracy : 0.6484490398818316\n",
      "Random State : 79 , Accuracy : 0.6474643032988675\n",
      "Random State : 80 , Accuracy : 0.6454948301329394\n",
      "Random State : 81 , Accuracy : 0.6499261447562777\n",
      "Random State : 82 , Accuracy : 0.6504185130477598\n",
      "Random State : 83 , Accuracy : 0.6494337764647957\n",
      "Random State : 84 , Accuracy : 0.6484490398818316\n",
      "Random State : 85 , Accuracy : 0.6469719350073855\n",
      "Random State : 86 , Accuracy : 0.6445100935499753\n",
      "Random State : 87 , Accuracy : 0.6489414081733137\n",
      "Random State : 88 , Accuracy : 0.6445100935499753\n",
      "Random State : 89 , Accuracy : 0.6469719350073855\n",
      "Random State : 90 , Accuracy : 0.6489414081733137\n",
      "Random State : 91 , Accuracy : 0.6489414081733137\n",
      "Random State : 92 , Accuracy : 0.6454948301329394\n",
      "Random State : 93 , Accuracy : 0.6469719350073855\n",
      "Random State : 94 , Accuracy : 0.6459871984244214\n",
      "Random State : 95 , Accuracy : 0.6469719350073855\n",
      "Random State : 96 , Accuracy : 0.6440177252584933\n",
      "Random State : 97 , Accuracy : 0.6509108813392418\n",
      "Random State : 98 , Accuracy : 0.6450024618414574\n",
      "Random State : 99 , Accuracy : 0.6514032496307238\n",
      "Random State : 100 , Accuracy : 0.6459871984244214\n"
     ]
    }
   ],
   "source": [
    "for state in random_states:\n",
    "    rf = RandomForestClassifier(n_estimators=100, random_state=state)\n",
    "    rf.fit(X_train_sampled, y_train_sampled)\n",
    "    y_pred = rf.predict(X_test)\n",
    "    \n",
    "    accuracy = accuracy_score(y_test, y_pred)\n",
    "    print(f\"Random State : {state} , Accuracy : {accuracy}\")"
   ]
  },
  {
   "cell_type": "code",
   "execution_count": 45,
   "id": "bfd09469",
   "metadata": {},
   "outputs": [],
   "source": [
    "rf_classifier = RandomForestClassifier(n_estimators=100, random_state=63)"
   ]
  },
  {
   "cell_type": "code",
   "execution_count": 46,
   "id": "dc422c9d",
   "metadata": {},
   "outputs": [
    {
     "data": {
      "text/plain": [
       "RandomForestClassifier(random_state=63)"
      ]
     },
     "execution_count": 46,
     "metadata": {},
     "output_type": "execute_result"
    }
   ],
   "source": [
    "# Train the classifier on the training data\n",
    "rf_classifier.fit(X_train_sampled, y_train_sampled)"
   ]
  },
  {
   "cell_type": "code",
   "execution_count": 47,
   "id": "4775afd4",
   "metadata": {},
   "outputs": [],
   "source": [
    "# Make predictions on the test set\n",
    "y_pred = rf_classifier.predict(X_test)"
   ]
  },
  {
   "cell_type": "code",
   "execution_count": 48,
   "id": "96c25955",
   "metadata": {},
   "outputs": [],
   "source": [
    "accuracy = accuracy_score(y_test, y_pred)"
   ]
  },
  {
   "cell_type": "code",
   "execution_count": 49,
   "id": "7f97aa69",
   "metadata": {},
   "outputs": [
    {
     "name": "stdout",
     "output_type": "stream",
     "text": [
      "Accuracy: 0.6528803545051699\n"
     ]
    }
   ],
   "source": [
    "print(f\"Accuracy: {accuracy}\")"
   ]
  },
  {
   "cell_type": "code",
   "execution_count": 50,
   "id": "49ba9ea8",
   "metadata": {},
   "outputs": [],
   "source": [
    "import joblib"
   ]
  },
  {
   "cell_type": "code",
   "execution_count": 51,
   "id": "e3708042",
   "metadata": {},
   "outputs": [
    {
     "data": {
      "text/plain": [
       "['rf_63_AssetType']"
      ]
     },
     "execution_count": 51,
     "metadata": {},
     "output_type": "execute_result"
    }
   ],
   "source": [
    "modelName = 'rf_63_AssetType'\n",
    "joblib.dump(rf_classifier, modelName)"
   ]
  },
  {
   "cell_type": "code",
   "execution_count": 52,
   "id": "63739222",
   "metadata": {},
   "outputs": [],
   "source": [
    "loaded_model = joblib.load('rf_63_AssetType')"
   ]
  },
  {
   "cell_type": "code",
   "execution_count": 54,
   "id": "33bed254",
   "metadata": {},
   "outputs": [],
   "source": [
    "new_prediction = loaded_model.predict(X_test)"
   ]
  },
  {
   "cell_type": "code",
   "execution_count": 55,
   "id": "cbbbb339",
   "metadata": {},
   "outputs": [
    {
     "data": {
      "text/plain": [
       "array([117,  74,  88, ...,   6,  52,  52])"
      ]
     },
     "execution_count": 55,
     "metadata": {},
     "output_type": "execute_result"
    }
   ],
   "source": [
    "new_prediction"
   ]
  },
  {
   "cell_type": "code",
   "execution_count": 56,
   "id": "d313b08d",
   "metadata": {},
   "outputs": [
    {
     "data": {
      "text/plain": [
       "['label_encoder.joblib']"
      ]
     },
     "execution_count": 56,
     "metadata": {},
     "output_type": "execute_result"
    }
   ],
   "source": [
    "label_encoder_filename = 'label_encoder.joblib'\n",
    "\n",
    "joblib.dump(label_encoder,label_encoder_filename)"
   ]
  },
  {
   "cell_type": "code",
   "execution_count": null,
   "id": "b447e681",
   "metadata": {},
   "outputs": [],
   "source": []
  }
 ],
 "metadata": {
  "kernelspec": {
   "display_name": "Python 3 (ipykernel)",
   "language": "python",
   "name": "python3"
  },
  "language_info": {
   "codemirror_mode": {
    "name": "ipython",
    "version": 3
   },
   "file_extension": ".py",
   "mimetype": "text/x-python",
   "name": "python",
   "nbconvert_exporter": "python",
   "pygments_lexer": "ipython3",
   "version": "3.9.13"
  }
 },
 "nbformat": 4,
 "nbformat_minor": 5
}
