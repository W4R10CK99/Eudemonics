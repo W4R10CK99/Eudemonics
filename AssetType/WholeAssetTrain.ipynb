{
 "cells": [
  {
   "cell_type": "code",
   "execution_count": 1,
   "id": "18e85a36",
   "metadata": {},
   "outputs": [
    {
     "name": "stdout",
     "output_type": "stream",
     "text": [
      "Requirement already satisfied: scikit-learn==1.3.1 in c:\\ml\\lib\\site-packages (1.3.1)\n",
      "Requirement already satisfied: joblib>=1.1.1 in c:\\ml\\lib\\site-packages (from scikit-learn==1.3.1) (1.3.2)\n",
      "Requirement already satisfied: threadpoolctl>=2.0.0 in c:\\ml\\lib\\site-packages (from scikit-learn==1.3.1) (2.2.0)\n",
      "Requirement already satisfied: scipy>=1.5.0 in c:\\ml\\lib\\site-packages (from scikit-learn==1.3.1) (1.9.1)\n",
      "Requirement already satisfied: numpy<2.0,>=1.17.3 in c:\\ml\\lib\\site-packages (from scikit-learn==1.3.1) (1.24.4)\n",
      "Note: you may need to restart the kernel to use updated packages.\n"
     ]
    }
   ],
   "source": [
    "pip install --upgrade scikit-learn==1.3.1"
   ]
  },
  {
   "cell_type": "code",
   "execution_count": 1,
   "id": "e7384082",
   "metadata": {},
   "outputs": [],
   "source": [
    "import pandas as pd\n",
    "from sklearn.model_selection import train_test_split\n",
    "from sklearn.ensemble import RandomForestClassifier\n",
    "from sklearn.preprocessing import LabelEncoder\n",
    "from sklearn.impute import SimpleImputer\n",
    "from sklearn.metrics import accuracy_score"
   ]
  },
  {
   "cell_type": "code",
   "execution_count": 2,
   "id": "e2dd3d54",
   "metadata": {},
   "outputs": [],
   "source": [
    "# Load the dataset\n",
    "dataset = 'Asset.xlsx'\n",
    "df = pd.read_excel(dataset)"
   ]
  },
  {
   "cell_type": "code",
   "execution_count": 3,
   "id": "c7aadb12",
   "metadata": {},
   "outputs": [],
   "source": [
    "X = df.iloc[:, 1:]\n",
    "y = df['AssetType']"
   ]
  },
  {
   "cell_type": "code",
   "execution_count": 4,
   "id": "a5a2f86d",
   "metadata": {},
   "outputs": [
    {
     "data": {
      "text/html": [
       "<div>\n",
       "<style scoped>\n",
       "    .dataframe tbody tr th:only-of-type {\n",
       "        vertical-align: middle;\n",
       "    }\n",
       "\n",
       "    .dataframe tbody tr th {\n",
       "        vertical-align: top;\n",
       "    }\n",
       "\n",
       "    .dataframe thead th {\n",
       "        text-align: right;\n",
       "    }\n",
       "</style>\n",
       "<table border=\"1\" class=\"dataframe\">\n",
       "  <thead>\n",
       "    <tr style=\"text-align: right;\">\n",
       "      <th></th>\n",
       "      <th>SerialNo</th>\n",
       "      <th>Manufacturer</th>\n",
       "      <th>ModelNbr</th>\n",
       "    </tr>\n",
       "  </thead>\n",
       "  <tbody>\n",
       "    <tr>\n",
       "      <th>0</th>\n",
       "      <td>NaN</td>\n",
       "      <td>NaN</td>\n",
       "      <td>NaN</td>\n",
       "    </tr>\n",
       "    <tr>\n",
       "      <th>1</th>\n",
       "      <td>NaN</td>\n",
       "      <td>NaN</td>\n",
       "      <td>NaN</td>\n",
       "    </tr>\n",
       "    <tr>\n",
       "      <th>2</th>\n",
       "      <td>NaN</td>\n",
       "      <td>NaN</td>\n",
       "      <td>NaN</td>\n",
       "    </tr>\n",
       "    <tr>\n",
       "      <th>3</th>\n",
       "      <td>0</td>\n",
       "      <td>NaN</td>\n",
       "      <td>O</td>\n",
       "    </tr>\n",
       "    <tr>\n",
       "      <th>4</th>\n",
       "      <td>NaN</td>\n",
       "      <td>NaN</td>\n",
       "      <td>FRENGER</td>\n",
       "    </tr>\n",
       "  </tbody>\n",
       "</table>\n",
       "</div>"
      ],
      "text/plain": [
       "  SerialNo Manufacturer ModelNbr\n",
       "0      NaN          NaN      NaN\n",
       "1      NaN          NaN      NaN\n",
       "2      NaN          NaN      NaN\n",
       "3        0          NaN        O\n",
       "4      NaN          NaN  FRENGER"
      ]
     },
     "execution_count": 4,
     "metadata": {},
     "output_type": "execute_result"
    }
   ],
   "source": [
    "X.head()"
   ]
  },
  {
   "cell_type": "code",
   "execution_count": 5,
   "id": "a334b047",
   "metadata": {
    "scrolled": true
   },
   "outputs": [
    {
     "data": {
      "text/plain": [
       "0    CHILLED BEAMS - PASSIVE\n",
       "1    CHILLED BEAMS - PASSIVE\n",
       "2    CHILLED BEAMS - PASSIVE\n",
       "3    CHILLED BEAMS - PASSIVE\n",
       "4    CHILLED BEAMS - PASSIVE\n",
       "Name: AssetType, dtype: object"
      ]
     },
     "execution_count": 5,
     "metadata": {},
     "output_type": "execute_result"
    }
   ],
   "source": [
    "y.head()"
   ]
  },
  {
   "cell_type": "code",
   "execution_count": 6,
   "id": "2dba512e",
   "metadata": {},
   "outputs": [],
   "source": [
    "# Impute missing values\n",
    "imputer = SimpleImputer(strategy='most_frequent')\n",
    "X_imputed = pd.DataFrame(imputer.fit_transform(X), columns=X.columns)"
   ]
  },
  {
   "cell_type": "code",
   "execution_count": 7,
   "id": "9523378d",
   "metadata": {},
   "outputs": [],
   "source": [
    "X = X_imputed"
   ]
  },
  {
   "cell_type": "code",
   "execution_count": 8,
   "id": "05085dc3",
   "metadata": {},
   "outputs": [
    {
     "data": {
      "text/html": [
       "<div>\n",
       "<style scoped>\n",
       "    .dataframe tbody tr th:only-of-type {\n",
       "        vertical-align: middle;\n",
       "    }\n",
       "\n",
       "    .dataframe tbody tr th {\n",
       "        vertical-align: top;\n",
       "    }\n",
       "\n",
       "    .dataframe thead th {\n",
       "        text-align: right;\n",
       "    }\n",
       "</style>\n",
       "<table border=\"1\" class=\"dataframe\">\n",
       "  <thead>\n",
       "    <tr style=\"text-align: right;\">\n",
       "      <th></th>\n",
       "      <th>SerialNo</th>\n",
       "      <th>Manufacturer</th>\n",
       "      <th>ModelNbr</th>\n",
       "    </tr>\n",
       "  </thead>\n",
       "  <tbody>\n",
       "    <tr>\n",
       "      <th>0</th>\n",
       "      <td>TBA</td>\n",
       "      <td>DAIKIN</td>\n",
       "      <td>TBA</td>\n",
       "    </tr>\n",
       "    <tr>\n",
       "      <th>1</th>\n",
       "      <td>TBA</td>\n",
       "      <td>DAIKIN</td>\n",
       "      <td>TBA</td>\n",
       "    </tr>\n",
       "    <tr>\n",
       "      <th>2</th>\n",
       "      <td>TBA</td>\n",
       "      <td>DAIKIN</td>\n",
       "      <td>TBA</td>\n",
       "    </tr>\n",
       "    <tr>\n",
       "      <th>3</th>\n",
       "      <td>0</td>\n",
       "      <td>DAIKIN</td>\n",
       "      <td>O</td>\n",
       "    </tr>\n",
       "    <tr>\n",
       "      <th>4</th>\n",
       "      <td>TBA</td>\n",
       "      <td>DAIKIN</td>\n",
       "      <td>FRENGER</td>\n",
       "    </tr>\n",
       "    <tr>\n",
       "      <th>...</th>\n",
       "      <td>...</td>\n",
       "      <td>...</td>\n",
       "      <td>...</td>\n",
       "    </tr>\n",
       "    <tr>\n",
       "      <th>289048</th>\n",
       "      <td>3163605860</td>\n",
       "      <td>ABB</td>\n",
       "      <td>ACH550</td>\n",
       "    </tr>\n",
       "    <tr>\n",
       "      <th>289049</th>\n",
       "      <td>3163605907</td>\n",
       "      <td>ABB</td>\n",
       "      <td>ACH550</td>\n",
       "    </tr>\n",
       "    <tr>\n",
       "      <th>289050</th>\n",
       "      <td>3163006120</td>\n",
       "      <td>ABB</td>\n",
       "      <td>ACH550</td>\n",
       "    </tr>\n",
       "    <tr>\n",
       "      <th>289051</th>\n",
       "      <td>42237A0264</td>\n",
       "      <td>ABB</td>\n",
       "      <td>ACH580</td>\n",
       "    </tr>\n",
       "    <tr>\n",
       "      <th>289052</th>\n",
       "      <td>611247:1</td>\n",
       "      <td>FANTECH</td>\n",
       "      <td>AP0564LP9B015</td>\n",
       "    </tr>\n",
       "  </tbody>\n",
       "</table>\n",
       "<p>289053 rows × 3 columns</p>\n",
       "</div>"
      ],
      "text/plain": [
       "          SerialNo Manufacturer       ModelNbr\n",
       "0              TBA       DAIKIN            TBA\n",
       "1              TBA       DAIKIN            TBA\n",
       "2              TBA       DAIKIN            TBA\n",
       "3                0       DAIKIN              O\n",
       "4              TBA       DAIKIN        FRENGER\n",
       "...            ...          ...            ...\n",
       "289048  3163605860          ABB         ACH550\n",
       "289049  3163605907          ABB         ACH550\n",
       "289050  3163006120          ABB         ACH550\n",
       "289051  42237A0264          ABB         ACH580\n",
       "289052    611247:1      FANTECH  AP0564LP9B015\n",
       "\n",
       "[289053 rows x 3 columns]"
      ]
     },
     "execution_count": 8,
     "metadata": {},
     "output_type": "execute_result"
    }
   ],
   "source": [
    "X"
   ]
  },
  {
   "cell_type": "code",
   "execution_count": 9,
   "id": "f3793fd4",
   "metadata": {},
   "outputs": [],
   "source": [
    "special_values = [1234,'SERIAL','NO SERIAL','SERIAL FADED', 'UNKOWN','REFER TO PIC','FADED LABEL','N.A.','NOT SHOWN', 'Unknown', 'NA', 'NULL', 'UNKNOWN', 'TBA', 'N/A', 'NOT VISIBLE', '123TEST', 'UNABLE TO LOCATE', 'NO ID', 'NO ACCESS', 'UNKOWN', 'NaN', 'na', 'AS PER PICS']\n",
    "\n",
    "# Create a copy of the DataFrame to avoid SettingWithCopyWarning\n",
    "X_copy = X.copy()\n",
    "\n",
    "# Replace values using .loc to avoid SettingWithCopyWarning\n",
    "X_copy.loc[:, 'SerialNo'] = X_copy['SerialNo'].replace(special_values, pd.NA)\n",
    "X_copy.loc[:, 'Manufacturer'] = X_copy['Manufacturer'].replace(special_values, pd.NA)\n",
    "X_copy.loc[:, 'ModelNbr'] = X_copy['ModelNbr'].replace(special_values, pd.NA)\n",
    "\n",
    "# Now X_copy contains the modified DataFrame\n",
    "X = X_copy"
   ]
  },
  {
   "cell_type": "code",
   "execution_count": 10,
   "id": "9ab19dca",
   "metadata": {
    "scrolled": true
   },
   "outputs": [],
   "source": [
    "X['SerialNo'] = X['SerialNo'].str.replace(' ', '')"
   ]
  },
  {
   "cell_type": "code",
   "execution_count": 11,
   "id": "fa4bcc0a",
   "metadata": {},
   "outputs": [
    {
     "data": {
      "text/html": [
       "<div>\n",
       "<style scoped>\n",
       "    .dataframe tbody tr th:only-of-type {\n",
       "        vertical-align: middle;\n",
       "    }\n",
       "\n",
       "    .dataframe tbody tr th {\n",
       "        vertical-align: top;\n",
       "    }\n",
       "\n",
       "    .dataframe thead th {\n",
       "        text-align: right;\n",
       "    }\n",
       "</style>\n",
       "<table border=\"1\" class=\"dataframe\">\n",
       "  <thead>\n",
       "    <tr style=\"text-align: right;\">\n",
       "      <th></th>\n",
       "      <th>SerialNo</th>\n",
       "      <th>Manufacturer</th>\n",
       "      <th>ModelNbr</th>\n",
       "    </tr>\n",
       "  </thead>\n",
       "  <tbody>\n",
       "    <tr>\n",
       "      <th>0</th>\n",
       "      <td>NaN</td>\n",
       "      <td>DAIKIN</td>\n",
       "      <td>&lt;NA&gt;</td>\n",
       "    </tr>\n",
       "    <tr>\n",
       "      <th>1</th>\n",
       "      <td>NaN</td>\n",
       "      <td>DAIKIN</td>\n",
       "      <td>&lt;NA&gt;</td>\n",
       "    </tr>\n",
       "    <tr>\n",
       "      <th>2</th>\n",
       "      <td>NaN</td>\n",
       "      <td>DAIKIN</td>\n",
       "      <td>&lt;NA&gt;</td>\n",
       "    </tr>\n",
       "    <tr>\n",
       "      <th>3</th>\n",
       "      <td>NaN</td>\n",
       "      <td>DAIKIN</td>\n",
       "      <td>O</td>\n",
       "    </tr>\n",
       "    <tr>\n",
       "      <th>4</th>\n",
       "      <td>NaN</td>\n",
       "      <td>DAIKIN</td>\n",
       "      <td>FRENGER</td>\n",
       "    </tr>\n",
       "    <tr>\n",
       "      <th>...</th>\n",
       "      <td>...</td>\n",
       "      <td>...</td>\n",
       "      <td>...</td>\n",
       "    </tr>\n",
       "    <tr>\n",
       "      <th>289048</th>\n",
       "      <td>NaN</td>\n",
       "      <td>ABB</td>\n",
       "      <td>ACH550</td>\n",
       "    </tr>\n",
       "    <tr>\n",
       "      <th>289049</th>\n",
       "      <td>NaN</td>\n",
       "      <td>ABB</td>\n",
       "      <td>ACH550</td>\n",
       "    </tr>\n",
       "    <tr>\n",
       "      <th>289050</th>\n",
       "      <td>NaN</td>\n",
       "      <td>ABB</td>\n",
       "      <td>ACH550</td>\n",
       "    </tr>\n",
       "    <tr>\n",
       "      <th>289051</th>\n",
       "      <td>42237A0264</td>\n",
       "      <td>ABB</td>\n",
       "      <td>ACH580</td>\n",
       "    </tr>\n",
       "    <tr>\n",
       "      <th>289052</th>\n",
       "      <td>611247:1</td>\n",
       "      <td>FANTECH</td>\n",
       "      <td>AP0564LP9B015</td>\n",
       "    </tr>\n",
       "  </tbody>\n",
       "</table>\n",
       "<p>289053 rows × 3 columns</p>\n",
       "</div>"
      ],
      "text/plain": [
       "          SerialNo Manufacturer       ModelNbr\n",
       "0              NaN       DAIKIN           <NA>\n",
       "1              NaN       DAIKIN           <NA>\n",
       "2              NaN       DAIKIN           <NA>\n",
       "3              NaN       DAIKIN              O\n",
       "4              NaN       DAIKIN        FRENGER\n",
       "...            ...          ...            ...\n",
       "289048         NaN          ABB         ACH550\n",
       "289049         NaN          ABB         ACH550\n",
       "289050         NaN          ABB         ACH550\n",
       "289051  42237A0264          ABB         ACH580\n",
       "289052    611247:1      FANTECH  AP0564LP9B015\n",
       "\n",
       "[289053 rows x 3 columns]"
      ]
     },
     "execution_count": 11,
     "metadata": {},
     "output_type": "execute_result"
    }
   ],
   "source": [
    "X"
   ]
  },
  {
   "cell_type": "code",
   "execution_count": 12,
   "id": "eb2e1ac0",
   "metadata": {},
   "outputs": [],
   "source": [
    "LE_Asset = LabelEncoder()\n",
    "LE_SERIAL= LabelEncoder()\n",
    "LE_Manufact = LabelEncoder()\n",
    "LE_Model = LabelEncoder()"
   ]
  },
  {
   "cell_type": "code",
   "execution_count": 13,
   "id": "0884a614",
   "metadata": {},
   "outputs": [],
   "source": [
    "X['Manufacturer'] = LE_Manufact.fit_transform(X['Manufacturer'].astype(str))\n",
    "X['ModelNbr'] = LE_Model.fit_transform(X['ModelNbr'].astype(str))\n",
    "X['SerialNo'] = LE_SERIAL.fit_transform(X['SerialNo'].astype(str))"
   ]
  },
  {
   "cell_type": "code",
   "execution_count": 14,
   "id": "cb5cfe7a",
   "metadata": {},
   "outputs": [
    {
     "data": {
      "text/html": [
       "<div>\n",
       "<style scoped>\n",
       "    .dataframe tbody tr th:only-of-type {\n",
       "        vertical-align: middle;\n",
       "    }\n",
       "\n",
       "    .dataframe tbody tr th {\n",
       "        vertical-align: top;\n",
       "    }\n",
       "\n",
       "    .dataframe thead th {\n",
       "        text-align: right;\n",
       "    }\n",
       "</style>\n",
       "<table border=\"1\" class=\"dataframe\">\n",
       "  <thead>\n",
       "    <tr style=\"text-align: right;\">\n",
       "      <th></th>\n",
       "      <th>SerialNo</th>\n",
       "      <th>Manufacturer</th>\n",
       "      <th>ModelNbr</th>\n",
       "    </tr>\n",
       "  </thead>\n",
       "  <tbody>\n",
       "    <tr>\n",
       "      <th>0</th>\n",
       "      <td>27278</td>\n",
       "      <td>286</td>\n",
       "      <td>7364</td>\n",
       "    </tr>\n",
       "    <tr>\n",
       "      <th>1</th>\n",
       "      <td>27278</td>\n",
       "      <td>286</td>\n",
       "      <td>7364</td>\n",
       "    </tr>\n",
       "    <tr>\n",
       "      <th>2</th>\n",
       "      <td>27278</td>\n",
       "      <td>286</td>\n",
       "      <td>7364</td>\n",
       "    </tr>\n",
       "    <tr>\n",
       "      <th>3</th>\n",
       "      <td>61217</td>\n",
       "      <td>286</td>\n",
       "      <td>37748</td>\n",
       "    </tr>\n",
       "    <tr>\n",
       "      <th>4</th>\n",
       "      <td>27278</td>\n",
       "      <td>286</td>\n",
       "      <td>25760</td>\n",
       "    </tr>\n",
       "    <tr>\n",
       "      <th>...</th>\n",
       "      <td>...</td>\n",
       "      <td>...</td>\n",
       "      <td>...</td>\n",
       "    </tr>\n",
       "    <tr>\n",
       "      <th>289048</th>\n",
       "      <td>61217</td>\n",
       "      <td>5</td>\n",
       "      <td>8438</td>\n",
       "    </tr>\n",
       "    <tr>\n",
       "      <th>289049</th>\n",
       "      <td>61217</td>\n",
       "      <td>5</td>\n",
       "      <td>8438</td>\n",
       "    </tr>\n",
       "    <tr>\n",
       "      <th>289050</th>\n",
       "      <td>61217</td>\n",
       "      <td>5</td>\n",
       "      <td>8438</td>\n",
       "    </tr>\n",
       "    <tr>\n",
       "      <th>289051</th>\n",
       "      <td>18157</td>\n",
       "      <td>5</td>\n",
       "      <td>8973</td>\n",
       "    </tr>\n",
       "    <tr>\n",
       "      <th>289052</th>\n",
       "      <td>21886</td>\n",
       "      <td>394</td>\n",
       "      <td>11426</td>\n",
       "    </tr>\n",
       "  </tbody>\n",
       "</table>\n",
       "<p>289053 rows × 3 columns</p>\n",
       "</div>"
      ],
      "text/plain": [
       "        SerialNo  Manufacturer  ModelNbr\n",
       "0          27278           286      7364\n",
       "1          27278           286      7364\n",
       "2          27278           286      7364\n",
       "3          61217           286     37748\n",
       "4          27278           286     25760\n",
       "...          ...           ...       ...\n",
       "289048     61217             5      8438\n",
       "289049     61217             5      8438\n",
       "289050     61217             5      8438\n",
       "289051     18157             5      8973\n",
       "289052     21886           394     11426\n",
       "\n",
       "[289053 rows x 3 columns]"
      ]
     },
     "execution_count": 14,
     "metadata": {},
     "output_type": "execute_result"
    }
   ],
   "source": [
    "X"
   ]
  },
  {
   "cell_type": "code",
   "execution_count": 15,
   "id": "85d9568f",
   "metadata": {},
   "outputs": [],
   "source": [
    "y = LE_Asset.fit_transform(y.astype(str))"
   ]
  },
  {
   "cell_type": "code",
   "execution_count": 16,
   "id": "11567983",
   "metadata": {},
   "outputs": [],
   "source": [
    "# Initial training subset\n",
    "initial_train_size = 100000\n",
    "X_train_initial, _, y_train_initial, _ = train_test_split(X, y, train_size=initial_train_size, random_state=42)"
   ]
  },
  {
   "cell_type": "code",
   "execution_count": 17,
   "id": "6d9f8fb1",
   "metadata": {},
   "outputs": [
    {
     "data": {
      "text/html": [
       "<style>#sk-container-id-1 {color: black;}#sk-container-id-1 pre{padding: 0;}#sk-container-id-1 div.sk-toggleable {background-color: white;}#sk-container-id-1 label.sk-toggleable__label {cursor: pointer;display: block;width: 100%;margin-bottom: 0;padding: 0.3em;box-sizing: border-box;text-align: center;}#sk-container-id-1 label.sk-toggleable__label-arrow:before {content: \"▸\";float: left;margin-right: 0.25em;color: #696969;}#sk-container-id-1 label.sk-toggleable__label-arrow:hover:before {color: black;}#sk-container-id-1 div.sk-estimator:hover label.sk-toggleable__label-arrow:before {color: black;}#sk-container-id-1 div.sk-toggleable__content {max-height: 0;max-width: 0;overflow: hidden;text-align: left;background-color: #f0f8ff;}#sk-container-id-1 div.sk-toggleable__content pre {margin: 0.2em;color: black;border-radius: 0.25em;background-color: #f0f8ff;}#sk-container-id-1 input.sk-toggleable__control:checked~div.sk-toggleable__content {max-height: 200px;max-width: 100%;overflow: auto;}#sk-container-id-1 input.sk-toggleable__control:checked~label.sk-toggleable__label-arrow:before {content: \"▾\";}#sk-container-id-1 div.sk-estimator input.sk-toggleable__control:checked~label.sk-toggleable__label {background-color: #d4ebff;}#sk-container-id-1 div.sk-label input.sk-toggleable__control:checked~label.sk-toggleable__label {background-color: #d4ebff;}#sk-container-id-1 input.sk-hidden--visually {border: 0;clip: rect(1px 1px 1px 1px);clip: rect(1px, 1px, 1px, 1px);height: 1px;margin: -1px;overflow: hidden;padding: 0;position: absolute;width: 1px;}#sk-container-id-1 div.sk-estimator {font-family: monospace;background-color: #f0f8ff;border: 1px dotted black;border-radius: 0.25em;box-sizing: border-box;margin-bottom: 0.5em;}#sk-container-id-1 div.sk-estimator:hover {background-color: #d4ebff;}#sk-container-id-1 div.sk-parallel-item::after {content: \"\";width: 100%;border-bottom: 1px solid gray;flex-grow: 1;}#sk-container-id-1 div.sk-label:hover label.sk-toggleable__label {background-color: #d4ebff;}#sk-container-id-1 div.sk-serial::before {content: \"\";position: absolute;border-left: 1px solid gray;box-sizing: border-box;top: 0;bottom: 0;left: 50%;z-index: 0;}#sk-container-id-1 div.sk-serial {display: flex;flex-direction: column;align-items: center;background-color: white;padding-right: 0.2em;padding-left: 0.2em;position: relative;}#sk-container-id-1 div.sk-item {position: relative;z-index: 1;}#sk-container-id-1 div.sk-parallel {display: flex;align-items: stretch;justify-content: center;background-color: white;position: relative;}#sk-container-id-1 div.sk-item::before, #sk-container-id-1 div.sk-parallel-item::before {content: \"\";position: absolute;border-left: 1px solid gray;box-sizing: border-box;top: 0;bottom: 0;left: 50%;z-index: -1;}#sk-container-id-1 div.sk-parallel-item {display: flex;flex-direction: column;z-index: 1;position: relative;background-color: white;}#sk-container-id-1 div.sk-parallel-item:first-child::after {align-self: flex-end;width: 50%;}#sk-container-id-1 div.sk-parallel-item:last-child::after {align-self: flex-start;width: 50%;}#sk-container-id-1 div.sk-parallel-item:only-child::after {width: 0;}#sk-container-id-1 div.sk-dashed-wrapped {border: 1px dashed gray;margin: 0 0.4em 0.5em 0.4em;box-sizing: border-box;padding-bottom: 0.4em;background-color: white;}#sk-container-id-1 div.sk-label label {font-family: monospace;font-weight: bold;display: inline-block;line-height: 1.2em;}#sk-container-id-1 div.sk-label-container {text-align: center;}#sk-container-id-1 div.sk-container {/* jupyter's `normalize.less` sets `[hidden] { display: none; }` but bootstrap.min.css set `[hidden] { display: none !important; }` so we also need the `!important` here to be able to override the default hidden behavior on the sphinx rendered scikit-learn.org. See: https://github.com/scikit-learn/scikit-learn/issues/21755 */display: inline-block !important;position: relative;}#sk-container-id-1 div.sk-text-repr-fallback {display: none;}</style><div id=\"sk-container-id-1\" class=\"sk-top-container\"><div class=\"sk-text-repr-fallback\"><pre>RandomForestClassifier(n_estimators=10, random_state=63)</pre><b>In a Jupyter environment, please rerun this cell to show the HTML representation or trust the notebook. <br />On GitHub, the HTML representation is unable to render, please try loading this page with nbviewer.org.</b></div><div class=\"sk-container\" hidden><div class=\"sk-item\"><div class=\"sk-estimator sk-toggleable\"><input class=\"sk-toggleable__control sk-hidden--visually\" id=\"sk-estimator-id-1\" type=\"checkbox\" checked><label for=\"sk-estimator-id-1\" class=\"sk-toggleable__label sk-toggleable__label-arrow\">RandomForestClassifier</label><div class=\"sk-toggleable__content\"><pre>RandomForestClassifier(n_estimators=10, random_state=63)</pre></div></div></div></div></div>"
      ],
      "text/plain": [
       "RandomForestClassifier(n_estimators=10, random_state=63)"
      ]
     },
     "execution_count": 17,
     "metadata": {},
     "output_type": "execute_result"
    }
   ],
   "source": [
    "# Train the RandomForestClassifier on the initial subset\n",
    "rf_classifier = RandomForestClassifier(n_estimators=10, random_state=63)\n",
    "rf_classifier.fit(X_train_initial, y_train_initial)"
   ]
  },
  {
   "cell_type": "code",
   "execution_count": 18,
   "id": "83b6ca38",
   "metadata": {},
   "outputs": [],
   "source": [
    "chunk_size = 10000\n",
    "X_test_chunk, _, y_test_chunk, _ = train_test_split(X, y, test_size=chunk_size, random_state=35)\n",
    "y_pred_encoded = rf_classifier.predict(X_test_chunk)"
   ]
  },
  {
   "cell_type": "code",
   "execution_count": 19,
   "id": "ce4bf833",
   "metadata": {},
   "outputs": [
    {
     "name": "stdout",
     "output_type": "stream",
     "text": [
      "Accuracy on the chunk: 0.6193626300380215\n"
     ]
    }
   ],
   "source": [
    "accuracy = accuracy_score(y_test_chunk, y_pred_encoded)\n",
    "print(f\"Accuracy on the chunk: {accuracy}\")"
   ]
  },
  {
   "cell_type": "code",
   "execution_count": 20,
   "id": "d3a0842c",
   "metadata": {},
   "outputs": [],
   "source": [
    "import joblib"
   ]
  },
  {
   "cell_type": "code",
   "execution_count": 21,
   "id": "a4069b71",
   "metadata": {},
   "outputs": [
    {
     "data": {
      "text/plain": [
       "['model/rf_final8']"
      ]
     },
     "execution_count": 21,
     "metadata": {},
     "output_type": "execute_result"
    }
   ],
   "source": [
    "modelName = 'model/rf_final8'\n",
    "joblib.dump(rf_classifier, modelName)"
   ]
  },
  {
   "cell_type": "code",
   "execution_count": 57,
   "id": "4021b9f1",
   "metadata": {},
   "outputs": [
    {
     "data": {
      "text/plain": [
       "['encoders/LE_ASSET']"
      ]
     },
     "execution_count": 57,
     "metadata": {},
     "output_type": "execute_result"
    }
   ],
   "source": [
    "joblib.dump(LE_Asset,'encoders/LE_ASSET')"
   ]
  },
  {
   "cell_type": "code",
   "execution_count": 58,
   "id": "973107ca",
   "metadata": {},
   "outputs": [
    {
     "data": {
      "text/plain": [
       "['encoders/LE_MANUFACT']"
      ]
     },
     "execution_count": 58,
     "metadata": {},
     "output_type": "execute_result"
    }
   ],
   "source": [
    "joblib.dump(LE_Manufact,'encoders/LE_MANUFACT')"
   ]
  },
  {
   "cell_type": "code",
   "execution_count": 59,
   "id": "68392051",
   "metadata": {},
   "outputs": [
    {
     "data": {
      "text/plain": [
       "['encoders/LE_MODEL']"
      ]
     },
     "execution_count": 59,
     "metadata": {},
     "output_type": "execute_result"
    }
   ],
   "source": [
    "joblib.dump(LE_Model,'encoders/LE_MODEL')"
   ]
  },
  {
   "cell_type": "code",
   "execution_count": 60,
   "id": "bae4ed14",
   "metadata": {},
   "outputs": [
    {
     "data": {
      "text/plain": [
       "['encoders/LE_SERIAL']"
      ]
     },
     "execution_count": 60,
     "metadata": {},
     "output_type": "execute_result"
    }
   ],
   "source": [
    "joblib.dump(LE_SERIAL,'encoders/LE_SERIAL')"
   ]
  },
  {
   "cell_type": "code",
   "execution_count": null,
   "id": "ad4ef353",
   "metadata": {},
   "outputs": [],
   "source": []
  }
 ],
 "metadata": {
  "kernelspec": {
   "display_name": "Python 3 (ipykernel)",
   "language": "python",
   "name": "python3"
  },
  "language_info": {
   "codemirror_mode": {
    "name": "ipython",
    "version": 3
   },
   "file_extension": ".py",
   "mimetype": "text/x-python",
   "name": "python",
   "nbconvert_exporter": "python",
   "pygments_lexer": "ipython3",
   "version": "3.9.13"
  }
 },
 "nbformat": 4,
 "nbformat_minor": 5
}
