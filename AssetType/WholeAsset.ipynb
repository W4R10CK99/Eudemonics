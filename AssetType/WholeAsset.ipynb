{
 "cells": [
  {
   "cell_type": "code",
   "execution_count": 1,
   "id": "18e85a36",
   "metadata": {},
   "outputs": [
    {
     "name": "stdout",
     "output_type": "stream",
     "text": [
      "Requirement already satisfied: scikit-learn==1.3.1 in c:\\ml\\lib\\site-packages (1.3.1)\n",
      "Requirement already satisfied: joblib>=1.1.1 in c:\\ml\\lib\\site-packages (from scikit-learn==1.3.1) (1.3.2)\n",
      "Requirement already satisfied: threadpoolctl>=2.0.0 in c:\\ml\\lib\\site-packages (from scikit-learn==1.3.1) (2.2.0)\n",
      "Requirement already satisfied: scipy>=1.5.0 in c:\\ml\\lib\\site-packages (from scikit-learn==1.3.1) (1.9.1)\n",
      "Requirement already satisfied: numpy<2.0,>=1.17.3 in c:\\ml\\lib\\site-packages (from scikit-learn==1.3.1) (1.24.4)\n",
      "Note: you may need to restart the kernel to use updated packages.\n"
     ]
    }
   ],
   "source": [
    "pip install --upgrade scikit-learn==1.3.1"
   ]
  },
  {
   "cell_type": "code",
   "execution_count": 14,
   "id": "e7384082",
   "metadata": {},
   "outputs": [],
   "source": [
    "import pandas as pd\n",
    "from sklearn.model_selection import train_test_split\n",
    "from sklearn.ensemble import RandomForestClassifier\n",
    "from sklearn.preprocessing import OrdinalEncoder, LabelEncoder\n",
    "from sklearn.impute import SimpleImputer\n",
    "from sklearn.metrics import accuracy_score"
   ]
  },
  {
   "cell_type": "code",
   "execution_count": 15,
   "id": "e2dd3d54",
   "metadata": {},
   "outputs": [],
   "source": [
    "# Load the dataset\n",
    "dataset = 'Asset.xlsx'\n",
    "df = pd.read_excel(dataset)\n"
   ]
  },
  {
   "cell_type": "code",
   "execution_count": 40,
   "id": "c7aadb12",
   "metadata": {},
   "outputs": [],
   "source": [
    "X = df.iloc[:, 2:]\n",
    "y = df['AssetType']"
   ]
  },
  {
   "cell_type": "code",
   "execution_count": 41,
   "id": "a5a2f86d",
   "metadata": {},
   "outputs": [
    {
     "data": {
      "text/html": [
       "<div>\n",
       "<style scoped>\n",
       "    .dataframe tbody tr th:only-of-type {\n",
       "        vertical-align: middle;\n",
       "    }\n",
       "\n",
       "    .dataframe tbody tr th {\n",
       "        vertical-align: top;\n",
       "    }\n",
       "\n",
       "    .dataframe thead th {\n",
       "        text-align: right;\n",
       "    }\n",
       "</style>\n",
       "<table border=\"1\" class=\"dataframe\">\n",
       "  <thead>\n",
       "    <tr style=\"text-align: right;\">\n",
       "      <th></th>\n",
       "      <th>Manufacturer</th>\n",
       "      <th>ModelNbr</th>\n",
       "    </tr>\n",
       "  </thead>\n",
       "  <tbody>\n",
       "    <tr>\n",
       "      <th>0</th>\n",
       "      <td>NaN</td>\n",
       "      <td>NaN</td>\n",
       "    </tr>\n",
       "    <tr>\n",
       "      <th>1</th>\n",
       "      <td>NaN</td>\n",
       "      <td>NaN</td>\n",
       "    </tr>\n",
       "    <tr>\n",
       "      <th>2</th>\n",
       "      <td>NaN</td>\n",
       "      <td>NaN</td>\n",
       "    </tr>\n",
       "    <tr>\n",
       "      <th>3</th>\n",
       "      <td>NaN</td>\n",
       "      <td>O</td>\n",
       "    </tr>\n",
       "    <tr>\n",
       "      <th>4</th>\n",
       "      <td>NaN</td>\n",
       "      <td>FRENGER</td>\n",
       "    </tr>\n",
       "  </tbody>\n",
       "</table>\n",
       "</div>"
      ],
      "text/plain": [
       "  Manufacturer ModelNbr\n",
       "0          NaN      NaN\n",
       "1          NaN      NaN\n",
       "2          NaN      NaN\n",
       "3          NaN        O\n",
       "4          NaN  FRENGER"
      ]
     },
     "execution_count": 41,
     "metadata": {},
     "output_type": "execute_result"
    }
   ],
   "source": [
    "X.head()"
   ]
  },
  {
   "cell_type": "code",
   "execution_count": 42,
   "id": "a334b047",
   "metadata": {
    "scrolled": true
   },
   "outputs": [
    {
     "data": {
      "text/plain": [
       "0    CHILLED BEAMS - PASSIVE\n",
       "1    CHILLED BEAMS - PASSIVE\n",
       "2    CHILLED BEAMS - PASSIVE\n",
       "3    CHILLED BEAMS - PASSIVE\n",
       "4    CHILLED BEAMS - PASSIVE\n",
       "Name: AssetType, dtype: object"
      ]
     },
     "execution_count": 42,
     "metadata": {},
     "output_type": "execute_result"
    }
   ],
   "source": [
    "y.head()"
   ]
  },
  {
   "cell_type": "code",
   "execution_count": 43,
   "id": "2dba512e",
   "metadata": {},
   "outputs": [],
   "source": [
    "# Impute missing values\n",
    "imputer = SimpleImputer(strategy='most_frequent')\n",
    "X_imputed = pd.DataFrame(imputer.fit_transform(X), columns=X.columns)"
   ]
  },
  {
   "cell_type": "code",
   "execution_count": 44,
   "id": "9523378d",
   "metadata": {},
   "outputs": [],
   "source": [
    "X = X_imputed"
   ]
  },
  {
   "cell_type": "code",
   "execution_count": 45,
   "id": "05085dc3",
   "metadata": {},
   "outputs": [
    {
     "data": {
      "text/html": [
       "<div>\n",
       "<style scoped>\n",
       "    .dataframe tbody tr th:only-of-type {\n",
       "        vertical-align: middle;\n",
       "    }\n",
       "\n",
       "    .dataframe tbody tr th {\n",
       "        vertical-align: top;\n",
       "    }\n",
       "\n",
       "    .dataframe thead th {\n",
       "        text-align: right;\n",
       "    }\n",
       "</style>\n",
       "<table border=\"1\" class=\"dataframe\">\n",
       "  <thead>\n",
       "    <tr style=\"text-align: right;\">\n",
       "      <th></th>\n",
       "      <th>Manufacturer</th>\n",
       "      <th>ModelNbr</th>\n",
       "    </tr>\n",
       "  </thead>\n",
       "  <tbody>\n",
       "    <tr>\n",
       "      <th>0</th>\n",
       "      <td>DAIKIN</td>\n",
       "      <td>TBA</td>\n",
       "    </tr>\n",
       "    <tr>\n",
       "      <th>1</th>\n",
       "      <td>DAIKIN</td>\n",
       "      <td>TBA</td>\n",
       "    </tr>\n",
       "    <tr>\n",
       "      <th>2</th>\n",
       "      <td>DAIKIN</td>\n",
       "      <td>TBA</td>\n",
       "    </tr>\n",
       "    <tr>\n",
       "      <th>3</th>\n",
       "      <td>DAIKIN</td>\n",
       "      <td>O</td>\n",
       "    </tr>\n",
       "    <tr>\n",
       "      <th>4</th>\n",
       "      <td>DAIKIN</td>\n",
       "      <td>FRENGER</td>\n",
       "    </tr>\n",
       "    <tr>\n",
       "      <th>...</th>\n",
       "      <td>...</td>\n",
       "      <td>...</td>\n",
       "    </tr>\n",
       "    <tr>\n",
       "      <th>289048</th>\n",
       "      <td>ABB</td>\n",
       "      <td>ACH550</td>\n",
       "    </tr>\n",
       "    <tr>\n",
       "      <th>289049</th>\n",
       "      <td>ABB</td>\n",
       "      <td>ACH550</td>\n",
       "    </tr>\n",
       "    <tr>\n",
       "      <th>289050</th>\n",
       "      <td>ABB</td>\n",
       "      <td>ACH550</td>\n",
       "    </tr>\n",
       "    <tr>\n",
       "      <th>289051</th>\n",
       "      <td>ABB</td>\n",
       "      <td>ACH580</td>\n",
       "    </tr>\n",
       "    <tr>\n",
       "      <th>289052</th>\n",
       "      <td>FANTECH</td>\n",
       "      <td>AP0564LP9B015</td>\n",
       "    </tr>\n",
       "  </tbody>\n",
       "</table>\n",
       "<p>289053 rows × 2 columns</p>\n",
       "</div>"
      ],
      "text/plain": [
       "       Manufacturer       ModelNbr\n",
       "0            DAIKIN            TBA\n",
       "1            DAIKIN            TBA\n",
       "2            DAIKIN            TBA\n",
       "3            DAIKIN              O\n",
       "4            DAIKIN        FRENGER\n",
       "...             ...            ...\n",
       "289048          ABB         ACH550\n",
       "289049          ABB         ACH550\n",
       "289050          ABB         ACH550\n",
       "289051          ABB         ACH580\n",
       "289052      FANTECH  AP0564LP9B015\n",
       "\n",
       "[289053 rows x 2 columns]"
      ]
     },
     "execution_count": 45,
     "metadata": {},
     "output_type": "execute_result"
    }
   ],
   "source": [
    "X"
   ]
  },
  {
   "cell_type": "code",
   "execution_count": 46,
   "id": "f3793fd4",
   "metadata": {},
   "outputs": [],
   "source": [
    "special_values = [1234, 'UNKOWN', 'Unknown', 'NA', 'NULL', 'UNKNOWN', 'TBA', 'N/A', 'NOT VISIBLE', '123TEST', 'UNABLE TO LOCATE', 'NO ID', 'NO ACCESS', 'UNKOWN', 'NaN', 'na', 'AS PER PICS']\n",
    "\n",
    "# Create a copy of the DataFrame to avoid SettingWithCopyWarning\n",
    "X_copy = X.copy()\n",
    "\n",
    "# Replace values using .loc to avoid SettingWithCopyWarning\n",
    "X_copy.loc[:, 'Manufacturer'] = X_copy['Manufacturer'].replace(special_values, pd.NA)\n",
    "X_copy.loc[:, 'ModelNbr'] = X_copy['ModelNbr'].replace(special_values, pd.NA)\n",
    "\n",
    "# Now X_copy contains the modified DataFrame\n",
    "X = X_copy"
   ]
  },
  {
   "cell_type": "code",
   "execution_count": 47,
   "id": "9ab19dca",
   "metadata": {
    "scrolled": true
   },
   "outputs": [
    {
     "data": {
      "text/html": [
       "<div>\n",
       "<style scoped>\n",
       "    .dataframe tbody tr th:only-of-type {\n",
       "        vertical-align: middle;\n",
       "    }\n",
       "\n",
       "    .dataframe tbody tr th {\n",
       "        vertical-align: top;\n",
       "    }\n",
       "\n",
       "    .dataframe thead th {\n",
       "        text-align: right;\n",
       "    }\n",
       "</style>\n",
       "<table border=\"1\" class=\"dataframe\">\n",
       "  <thead>\n",
       "    <tr style=\"text-align: right;\">\n",
       "      <th></th>\n",
       "      <th>Manufacturer</th>\n",
       "      <th>ModelNbr</th>\n",
       "    </tr>\n",
       "  </thead>\n",
       "  <tbody>\n",
       "    <tr>\n",
       "      <th>0</th>\n",
       "      <td>DAIKIN</td>\n",
       "      <td>&lt;NA&gt;</td>\n",
       "    </tr>\n",
       "    <tr>\n",
       "      <th>1</th>\n",
       "      <td>DAIKIN</td>\n",
       "      <td>&lt;NA&gt;</td>\n",
       "    </tr>\n",
       "    <tr>\n",
       "      <th>2</th>\n",
       "      <td>DAIKIN</td>\n",
       "      <td>&lt;NA&gt;</td>\n",
       "    </tr>\n",
       "    <tr>\n",
       "      <th>3</th>\n",
       "      <td>DAIKIN</td>\n",
       "      <td>O</td>\n",
       "    </tr>\n",
       "    <tr>\n",
       "      <th>4</th>\n",
       "      <td>DAIKIN</td>\n",
       "      <td>FRENGER</td>\n",
       "    </tr>\n",
       "    <tr>\n",
       "      <th>...</th>\n",
       "      <td>...</td>\n",
       "      <td>...</td>\n",
       "    </tr>\n",
       "    <tr>\n",
       "      <th>289048</th>\n",
       "      <td>ABB</td>\n",
       "      <td>ACH550</td>\n",
       "    </tr>\n",
       "    <tr>\n",
       "      <th>289049</th>\n",
       "      <td>ABB</td>\n",
       "      <td>ACH550</td>\n",
       "    </tr>\n",
       "    <tr>\n",
       "      <th>289050</th>\n",
       "      <td>ABB</td>\n",
       "      <td>ACH550</td>\n",
       "    </tr>\n",
       "    <tr>\n",
       "      <th>289051</th>\n",
       "      <td>ABB</td>\n",
       "      <td>ACH580</td>\n",
       "    </tr>\n",
       "    <tr>\n",
       "      <th>289052</th>\n",
       "      <td>FANTECH</td>\n",
       "      <td>AP0564LP9B015</td>\n",
       "    </tr>\n",
       "  </tbody>\n",
       "</table>\n",
       "<p>289053 rows × 2 columns</p>\n",
       "</div>"
      ],
      "text/plain": [
       "       Manufacturer       ModelNbr\n",
       "0            DAIKIN           <NA>\n",
       "1            DAIKIN           <NA>\n",
       "2            DAIKIN           <NA>\n",
       "3            DAIKIN              O\n",
       "4            DAIKIN        FRENGER\n",
       "...             ...            ...\n",
       "289048          ABB         ACH550\n",
       "289049          ABB         ACH550\n",
       "289050          ABB         ACH550\n",
       "289051          ABB         ACH580\n",
       "289052      FANTECH  AP0564LP9B015\n",
       "\n",
       "[289053 rows x 2 columns]"
      ]
     },
     "execution_count": 47,
     "metadata": {},
     "output_type": "execute_result"
    }
   ],
   "source": [
    "X"
   ]
  },
  {
   "cell_type": "code",
   "execution_count": 48,
   "id": "eb2e1ac0",
   "metadata": {},
   "outputs": [],
   "source": [
    "LE_Asset = LabelEncoder()\n",
    "LE_Manufact = LabelEncoder()\n",
    "LE_Model = LabelEncoder()"
   ]
  },
  {
   "cell_type": "code",
   "execution_count": 49,
   "id": "0884a614",
   "metadata": {},
   "outputs": [],
   "source": [
    "X['Manufacturer'] = LE_Manufact.fit_transform(X['Manufacturer'].astype(str))\n",
    "X['ModelNbr'] = LE_Model.fit_transform(X['ModelNbr'].astype(str))"
   ]
  },
  {
   "cell_type": "code",
   "execution_count": 50,
   "id": "cb5cfe7a",
   "metadata": {},
   "outputs": [
    {
     "data": {
      "text/html": [
       "<div>\n",
       "<style scoped>\n",
       "    .dataframe tbody tr th:only-of-type {\n",
       "        vertical-align: middle;\n",
       "    }\n",
       "\n",
       "    .dataframe tbody tr th {\n",
       "        vertical-align: top;\n",
       "    }\n",
       "\n",
       "    .dataframe thead th {\n",
       "        text-align: right;\n",
       "    }\n",
       "</style>\n",
       "<table border=\"1\" class=\"dataframe\">\n",
       "  <thead>\n",
       "    <tr style=\"text-align: right;\">\n",
       "      <th></th>\n",
       "      <th>Manufacturer</th>\n",
       "      <th>ModelNbr</th>\n",
       "    </tr>\n",
       "  </thead>\n",
       "  <tbody>\n",
       "    <tr>\n",
       "      <th>0</th>\n",
       "      <td>286</td>\n",
       "      <td>7364</td>\n",
       "    </tr>\n",
       "    <tr>\n",
       "      <th>1</th>\n",
       "      <td>286</td>\n",
       "      <td>7364</td>\n",
       "    </tr>\n",
       "    <tr>\n",
       "      <th>2</th>\n",
       "      <td>286</td>\n",
       "      <td>7364</td>\n",
       "    </tr>\n",
       "    <tr>\n",
       "      <th>3</th>\n",
       "      <td>286</td>\n",
       "      <td>37751</td>\n",
       "    </tr>\n",
       "    <tr>\n",
       "      <th>4</th>\n",
       "      <td>286</td>\n",
       "      <td>25761</td>\n",
       "    </tr>\n",
       "    <tr>\n",
       "      <th>...</th>\n",
       "      <td>...</td>\n",
       "      <td>...</td>\n",
       "    </tr>\n",
       "    <tr>\n",
       "      <th>289048</th>\n",
       "      <td>5</td>\n",
       "      <td>8438</td>\n",
       "    </tr>\n",
       "    <tr>\n",
       "      <th>289049</th>\n",
       "      <td>5</td>\n",
       "      <td>8438</td>\n",
       "    </tr>\n",
       "    <tr>\n",
       "      <th>289050</th>\n",
       "      <td>5</td>\n",
       "      <td>8438</td>\n",
       "    </tr>\n",
       "    <tr>\n",
       "      <th>289051</th>\n",
       "      <td>5</td>\n",
       "      <td>8973</td>\n",
       "    </tr>\n",
       "    <tr>\n",
       "      <th>289052</th>\n",
       "      <td>394</td>\n",
       "      <td>11426</td>\n",
       "    </tr>\n",
       "  </tbody>\n",
       "</table>\n",
       "<p>289053 rows × 2 columns</p>\n",
       "</div>"
      ],
      "text/plain": [
       "        Manufacturer  ModelNbr\n",
       "0                286      7364\n",
       "1                286      7364\n",
       "2                286      7364\n",
       "3                286     37751\n",
       "4                286     25761\n",
       "...              ...       ...\n",
       "289048             5      8438\n",
       "289049             5      8438\n",
       "289050             5      8438\n",
       "289051             5      8973\n",
       "289052           394     11426\n",
       "\n",
       "[289053 rows x 2 columns]"
      ]
     },
     "execution_count": 50,
     "metadata": {},
     "output_type": "execute_result"
    }
   ],
   "source": [
    "X"
   ]
  },
  {
   "cell_type": "code",
   "execution_count": 51,
   "id": "85d9568f",
   "metadata": {},
   "outputs": [],
   "source": [
    "y = LE_Asset.fit_transform(y.astype(str))"
   ]
  },
  {
   "cell_type": "code",
   "execution_count": 53,
   "id": "11567983",
   "metadata": {},
   "outputs": [],
   "source": [
    "# Initial training subset\n",
    "initial_train_size = 150000\n",
    "X_train_initial, _, y_train_initial, _ = train_test_split(X, y, train_size=initial_train_size, random_state=42)"
   ]
  },
  {
   "cell_type": "code",
   "execution_count": 54,
   "id": "6d9f8fb1",
   "metadata": {},
   "outputs": [
    {
     "data": {
      "text/html": [
       "<style>#sk-container-id-2 {color: black;}#sk-container-id-2 pre{padding: 0;}#sk-container-id-2 div.sk-toggleable {background-color: white;}#sk-container-id-2 label.sk-toggleable__label {cursor: pointer;display: block;width: 100%;margin-bottom: 0;padding: 0.3em;box-sizing: border-box;text-align: center;}#sk-container-id-2 label.sk-toggleable__label-arrow:before {content: \"▸\";float: left;margin-right: 0.25em;color: #696969;}#sk-container-id-2 label.sk-toggleable__label-arrow:hover:before {color: black;}#sk-container-id-2 div.sk-estimator:hover label.sk-toggleable__label-arrow:before {color: black;}#sk-container-id-2 div.sk-toggleable__content {max-height: 0;max-width: 0;overflow: hidden;text-align: left;background-color: #f0f8ff;}#sk-container-id-2 div.sk-toggleable__content pre {margin: 0.2em;color: black;border-radius: 0.25em;background-color: #f0f8ff;}#sk-container-id-2 input.sk-toggleable__control:checked~div.sk-toggleable__content {max-height: 200px;max-width: 100%;overflow: auto;}#sk-container-id-2 input.sk-toggleable__control:checked~label.sk-toggleable__label-arrow:before {content: \"▾\";}#sk-container-id-2 div.sk-estimator input.sk-toggleable__control:checked~label.sk-toggleable__label {background-color: #d4ebff;}#sk-container-id-2 div.sk-label input.sk-toggleable__control:checked~label.sk-toggleable__label {background-color: #d4ebff;}#sk-container-id-2 input.sk-hidden--visually {border: 0;clip: rect(1px 1px 1px 1px);clip: rect(1px, 1px, 1px, 1px);height: 1px;margin: -1px;overflow: hidden;padding: 0;position: absolute;width: 1px;}#sk-container-id-2 div.sk-estimator {font-family: monospace;background-color: #f0f8ff;border: 1px dotted black;border-radius: 0.25em;box-sizing: border-box;margin-bottom: 0.5em;}#sk-container-id-2 div.sk-estimator:hover {background-color: #d4ebff;}#sk-container-id-2 div.sk-parallel-item::after {content: \"\";width: 100%;border-bottom: 1px solid gray;flex-grow: 1;}#sk-container-id-2 div.sk-label:hover label.sk-toggleable__label {background-color: #d4ebff;}#sk-container-id-2 div.sk-serial::before {content: \"\";position: absolute;border-left: 1px solid gray;box-sizing: border-box;top: 0;bottom: 0;left: 50%;z-index: 0;}#sk-container-id-2 div.sk-serial {display: flex;flex-direction: column;align-items: center;background-color: white;padding-right: 0.2em;padding-left: 0.2em;position: relative;}#sk-container-id-2 div.sk-item {position: relative;z-index: 1;}#sk-container-id-2 div.sk-parallel {display: flex;align-items: stretch;justify-content: center;background-color: white;position: relative;}#sk-container-id-2 div.sk-item::before, #sk-container-id-2 div.sk-parallel-item::before {content: \"\";position: absolute;border-left: 1px solid gray;box-sizing: border-box;top: 0;bottom: 0;left: 50%;z-index: -1;}#sk-container-id-2 div.sk-parallel-item {display: flex;flex-direction: column;z-index: 1;position: relative;background-color: white;}#sk-container-id-2 div.sk-parallel-item:first-child::after {align-self: flex-end;width: 50%;}#sk-container-id-2 div.sk-parallel-item:last-child::after {align-self: flex-start;width: 50%;}#sk-container-id-2 div.sk-parallel-item:only-child::after {width: 0;}#sk-container-id-2 div.sk-dashed-wrapped {border: 1px dashed gray;margin: 0 0.4em 0.5em 0.4em;box-sizing: border-box;padding-bottom: 0.4em;background-color: white;}#sk-container-id-2 div.sk-label label {font-family: monospace;font-weight: bold;display: inline-block;line-height: 1.2em;}#sk-container-id-2 div.sk-label-container {text-align: center;}#sk-container-id-2 div.sk-container {/* jupyter's `normalize.less` sets `[hidden] { display: none; }` but bootstrap.min.css set `[hidden] { display: none !important; }` so we also need the `!important` here to be able to override the default hidden behavior on the sphinx rendered scikit-learn.org. See: https://github.com/scikit-learn/scikit-learn/issues/21755 */display: inline-block !important;position: relative;}#sk-container-id-2 div.sk-text-repr-fallback {display: none;}</style><div id=\"sk-container-id-2\" class=\"sk-top-container\"><div class=\"sk-text-repr-fallback\"><pre>RandomForestClassifier(n_estimators=10, random_state=63)</pre><b>In a Jupyter environment, please rerun this cell to show the HTML representation or trust the notebook. <br />On GitHub, the HTML representation is unable to render, please try loading this page with nbviewer.org.</b></div><div class=\"sk-container\" hidden><div class=\"sk-item\"><div class=\"sk-estimator sk-toggleable\"><input class=\"sk-toggleable__control sk-hidden--visually\" id=\"sk-estimator-id-2\" type=\"checkbox\" checked><label for=\"sk-estimator-id-2\" class=\"sk-toggleable__label sk-toggleable__label-arrow\">RandomForestClassifier</label><div class=\"sk-toggleable__content\"><pre>RandomForestClassifier(n_estimators=10, random_state=63)</pre></div></div></div></div></div>"
      ],
      "text/plain": [
       "RandomForestClassifier(n_estimators=10, random_state=63)"
      ]
     },
     "execution_count": 54,
     "metadata": {},
     "output_type": "execute_result"
    }
   ],
   "source": [
    "# Train the RandomForestClassifier on the initial subset\n",
    "rf_classifier = RandomForestClassifier(n_estimators=10, random_state=63)\n",
    "rf_classifier.fit(X_train_initial, y_train_initial)"
   ]
  },
  {
   "cell_type": "code",
   "execution_count": 55,
   "id": "83b6ca38",
   "metadata": {},
   "outputs": [],
   "source": [
    "chunk_size = 10000\n",
    "X_test_chunk, _, y_test_chunk, _ = train_test_split(X, y, test_size=chunk_size, random_state=35)\n",
    "y_pred_encoded = rf_classifier.predict(X_test_chunk)"
   ]
  },
  {
   "cell_type": "code",
   "execution_count": 56,
   "id": "ce4bf833",
   "metadata": {},
   "outputs": [
    {
     "name": "stdout",
     "output_type": "stream",
     "text": [
      "Accuracy on the chunk: 0.6422005855518486\n"
     ]
    }
   ],
   "source": [
    "accuracy = accuracy_score(y_test_chunk, y_pred_encoded)\n",
    "print(f\"Accuracy on the chunk: {accuracy}\")"
   ]
  },
  {
   "cell_type": "code",
   "execution_count": 57,
   "id": "d3a0842c",
   "metadata": {},
   "outputs": [],
   "source": [
    "import joblib"
   ]
  },
  {
   "cell_type": "code",
   "execution_count": 58,
   "id": "a4069b71",
   "metadata": {},
   "outputs": [
    {
     "data": {
      "text/plain": [
       "['model/rf_final5']"
      ]
     },
     "execution_count": 58,
     "metadata": {},
     "output_type": "execute_result"
    }
   ],
   "source": [
    "modelName = 'model/rf_final5'\n",
    "joblib.dump(rf_classifier, modelName)"
   ]
  },
  {
   "cell_type": "code",
   "execution_count": 59,
   "id": "4021b9f1",
   "metadata": {},
   "outputs": [
    {
     "data": {
      "text/plain": [
       "['LE_ASSET']"
      ]
     },
     "execution_count": 59,
     "metadata": {},
     "output_type": "execute_result"
    }
   ],
   "source": [
    "joblib.dump(LE_Asset,'LE_ASSET')"
   ]
  },
  {
   "cell_type": "code",
   "execution_count": 60,
   "id": "973107ca",
   "metadata": {},
   "outputs": [
    {
     "data": {
      "text/plain": [
       "['LE_MANUFACT']"
      ]
     },
     "execution_count": 60,
     "metadata": {},
     "output_type": "execute_result"
    }
   ],
   "source": [
    "joblib.dump(LE_Manufact,'LE_MANUFACT')"
   ]
  },
  {
   "cell_type": "code",
   "execution_count": 61,
   "id": "68392051",
   "metadata": {},
   "outputs": [
    {
     "data": {
      "text/plain": [
       "['LE_MODEL']"
      ]
     },
     "execution_count": 61,
     "metadata": {},
     "output_type": "execute_result"
    }
   ],
   "source": [
    "joblib.dump(LE_Model,'LE_MODEL')"
   ]
  },
  {
   "cell_type": "code",
   "execution_count": null,
   "id": "bae4ed14",
   "metadata": {},
   "outputs": [],
   "source": []
  }
 ],
 "metadata": {
  "kernelspec": {
   "display_name": "Python 3 (ipykernel)",
   "language": "python",
   "name": "python3"
  },
  "language_info": {
   "codemirror_mode": {
    "name": "ipython",
    "version": 3
   },
   "file_extension": ".py",
   "mimetype": "text/x-python",
   "name": "python",
   "nbconvert_exporter": "python",
   "pygments_lexer": "ipython3",
   "version": "3.9.13"
  }
 },
 "nbformat": 4,
 "nbformat_minor": 5
}
