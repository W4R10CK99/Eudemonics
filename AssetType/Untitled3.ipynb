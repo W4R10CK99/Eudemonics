{
 "cells": [
  {
   "cell_type": "code",
   "execution_count": 2,
   "id": "bb7b80dc",
   "metadata": {},
   "outputs": [],
   "source": [
    "import joblib\n",
    "import numpy as np\n",
    "import pandas as pd"
   ]
  },
  {
   "cell_type": "code",
   "execution_count": 4,
   "id": "d684cea4",
   "metadata": {},
   "outputs": [],
   "source": [
    "model = joblib.load('model/rf_final5')"
   ]
  },
  {
   "cell_type": "code",
   "execution_count": 5,
   "id": "b70574a9",
   "metadata": {},
   "outputs": [],
   "source": [
    "LE_Manufact = joblib.load('LE_MANUFACT')\n",
    "LE_Model = joblib.load('LE_MODEL')\n",
    "LE_Asset = joblib.load('LE_ASSET')"
   ]
  },
  {
   "cell_type": "code",
   "execution_count": 14,
   "id": "51623d48",
   "metadata": {},
   "outputs": [],
   "source": [
    "# Sample data\n",
    "data = [['MITSUBISHI', 'MUH-18RV'],\n",
    "        ['MITSUBISHI', 'MUH-A26WV'],\n",
    "        ['MITSUBISHI', 'MUH-A09YV']]\n",
    "\n",
    "# Create a DataFrame\n",
    "df = pd.DataFrame(data, columns=['Manufacturer', 'ModelNbr'])"
   ]
  },
  {
   "cell_type": "code",
   "execution_count": 15,
   "id": "1c8b710d",
   "metadata": {},
   "outputs": [],
   "source": [
    "df['Manufacturer'] = LE_Manufact.transform(df['Manufacturer'])\n",
    "df['ModelNbr'] = LE_Model.transform(df['ModelNbr'])"
   ]
  },
  {
   "cell_type": "code",
   "execution_count": 16,
   "id": "539dfed1",
   "metadata": {},
   "outputs": [],
   "source": [
    "y = model.predict(df)"
   ]
  },
  {
   "cell_type": "code",
   "execution_count": 17,
   "id": "f453ecd0",
   "metadata": {},
   "outputs": [
    {
     "data": {
      "text/plain": [
       "array(['WALL MOUNTED SPLIT SYSTEM', 'WALL MOUNTED SPLIT SYSTEM',\n",
       "       'HEAT PUMP SPLIT SYSTEM'], dtype=object)"
      ]
     },
     "execution_count": 17,
     "metadata": {},
     "output_type": "execute_result"
    }
   ],
   "source": [
    "y_predict = LE_Asset.inverse_transform(y)\n",
    "y_predict"
   ]
  },
  {
   "cell_type": "code",
   "execution_count": null,
   "id": "1824696d",
   "metadata": {},
   "outputs": [],
   "source": []
  }
 ],
 "metadata": {
  "kernelspec": {
   "display_name": "Python 3 (ipykernel)",
   "language": "python",
   "name": "python3"
  },
  "language_info": {
   "codemirror_mode": {
    "name": "ipython",
    "version": 3
   },
   "file_extension": ".py",
   "mimetype": "text/x-python",
   "name": "python",
   "nbconvert_exporter": "python",
   "pygments_lexer": "ipython3",
   "version": "3.9.13"
  }
 },
 "nbformat": 4,
 "nbformat_minor": 5
}
