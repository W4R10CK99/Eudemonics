{
 "cells": [
  {
   "cell_type": "code",
   "execution_count": 7,
   "id": "730943ce",
   "metadata": {},
   "outputs": [],
   "source": [
    "import csv\n",
    "from fuzzywuzzy import fuzz, process\n",
    "import pandas as pd\n"
   ]
  },
  {
   "cell_type": "code",
   "execution_count": 24,
   "id": "b46557c6",
   "metadata": {},
   "outputs": [],
   "source": [
    "def find_most_similar_value(variable, csvfile):\n",
    "    \n",
    "    reader = csv.reader(csvfile)\n",
    "    csv_values = [row[0] for row in reader]\n",
    "\n",
    "    \n",
    "    if not csv_values:\n",
    "        return 'UNKNOWN'\n",
    "\n",
    "    if variable and len(variable.split()) > 0:\n",
    "        variable = variable.split()[0]\n",
    "    else:\n",
    "        # Handle the case where variable is empty or has no elements\n",
    "        variable = 'UNKNOWN'\n",
    "    \n",
    "    if variable.upper() == 'JOHNSON':\n",
    "        variable = 'HITACHI'\n",
    "\n",
    "    # Calculate similarity using fuzzywuzzy's fuzz.ratio\n",
    "    similarities = [fuzz.ratio(variable.upper(), csv_value.upper()) for csv_value in csv_values]\n",
    "\n",
    "    # Find the index of the maximum similarity\n",
    "    max_similarity_index = similarities.index(max(similarities))\n",
    "\n",
    "    if similarities[max_similarity_index] < 0.5:  # Adjust the threshold as needed\n",
    "        # If not desirable, return the original value\n",
    "        \n",
    "        return 'UNKNOWN'\n",
    "\n",
    "    \n",
    "    # Get the most similar value from the CSV file\n",
    "    most_similar_value = csv_values[max_similarity_index]\n",
    "\n",
    "    return most_similar_value"
   ]
  },
  {
   "cell_type": "code",
   "execution_count": 25,
   "id": "a68fd7fb",
   "metadata": {},
   "outputs": [],
   "source": [
    "manufact = pd.read_csv('Manufacturer.csv')\n",
    "cur = 'JOHNSON HITACHI'\n",
    "x = find_most_similar_value(cur,manufact)"
   ]
  },
  {
   "cell_type": "code",
   "execution_count": 26,
   "id": "0b042154",
   "metadata": {},
   "outputs": [
    {
     "data": {
      "text/plain": [
       "'Manufacturer'"
      ]
     },
     "execution_count": 26,
     "metadata": {},
     "output_type": "execute_result"
    }
   ],
   "source": [
    "x"
   ]
  },
  {
   "cell_type": "code",
   "execution_count": 27,
   "id": "3fd30d4c",
   "metadata": {},
   "outputs": [],
   "source": [
    "reader = csv.reader(manufact)\n",
    "csv_values = [row[0] for row in reader]"
   ]
  },
  {
   "cell_type": "code",
   "execution_count": 28,
   "id": "b3f4e867",
   "metadata": {},
   "outputs": [
    {
     "data": {
      "text/plain": [
       "['Manufacturer']"
      ]
     },
     "execution_count": 28,
     "metadata": {},
     "output_type": "execute_result"
    }
   ],
   "source": [
    "csv_values"
   ]
  },
  {
   "cell_type": "code",
   "execution_count": 29,
   "id": "92c1b568",
   "metadata": {},
   "outputs": [
    {
     "data": {
      "text/plain": [
       "<_csv.reader at 0x23fffcf2820>"
      ]
     },
     "execution_count": 29,
     "metadata": {},
     "output_type": "execute_result"
    }
   ],
   "source": [
    "reader"
   ]
  },
  {
   "cell_type": "code",
   "execution_count": 30,
   "id": "ae10436e",
   "metadata": {},
   "outputs": [
    {
     "data": {
      "text/plain": [
       "['Manufacturer']"
      ]
     },
     "execution_count": 30,
     "metadata": {},
     "output_type": "execute_result"
    }
   ],
   "source": [
    "reader = csv.reader(manufact)\n",
    "csv_values = [value for row in reader for value in row]\n",
    "csv_values"
   ]
  },
  {
   "cell_type": "code",
   "execution_count": 36,
   "id": "bc2df0f7",
   "metadata": {},
   "outputs": [],
   "source": [
    "label_encoder = joblib.load('LE_MODEL')\n",
    "original_values = label_encoder.inverse_transform(range(len(label_encoder.classes_)))"
   ]
  },
  {
   "cell_type": "code",
   "execution_count": 37,
   "id": "2cf0b177",
   "metadata": {},
   "outputs": [
    {
     "data": {
      "text/plain": [
       "array([' ', '           830-015', '  CE194V ', ..., '~', 'ÙNKNOWN',\n",
       "       'ОРА 333РКТН'], dtype=object)"
      ]
     },
     "execution_count": 37,
     "metadata": {},
     "output_type": "execute_result"
    }
   ],
   "source": [
    "original_values"
   ]
  },
  {
   "cell_type": "code",
   "execution_count": 33,
   "id": "d4bdc38a",
   "metadata": {},
   "outputs": [],
   "source": [
    "def find_most_similar_value(variable, original_values):\n",
    "    if not original_values.any():\n",
    "        return 'UNKNOWN'\n",
    "\n",
    "    if variable and len(variable.split()) > 0:\n",
    "        variable = variable.split()[0]\n",
    "    else:\n",
    "        # Handle the case where variable is empty or has no elements\n",
    "        variable = 'UNKNOWN'\n",
    "\n",
    "    if variable.upper() == 'JOHNSON':\n",
    "        variable = 'HITACHI'\n",
    "\n",
    "    # Calculate similarity using fuzzywuzzy's fuzz.ratio\n",
    "    similarities = [fuzz.ratio(variable.upper(), value.upper()) for value in original_values]\n",
    "\n",
    "    # Find the index of the maximum similarity\n",
    "    max_similarity_index = similarities.index(max(similarities))\n",
    "\n",
    "    if similarities[max_similarity_index] < 0.5:  # Adjust the threshold as needed\n",
    "        # If not desirable, return the original value\n",
    "        return 'UNKNOWN'\n",
    "\n",
    "    # Get the most similar value from the original values\n",
    "    most_similar_value = original_values[max_similarity_index]\n",
    "\n",
    "    return most_similar_value"
   ]
  },
  {
   "cell_type": "code",
   "execution_count": 38,
   "id": "894edc39",
   "metadata": {},
   "outputs": [
    {
     "name": "stdout",
     "output_type": "stream",
     "text": [
      "RAS-100HNCELW\n"
     ]
    }
   ],
   "source": [
    "cur = 'RAS-T00HNCELW'\n",
    "x = find_most_similar_value(cur, original_values)\n",
    "print(x)"
   ]
  },
  {
   "cell_type": "code",
   "execution_count": 35,
   "id": "352cc842",
   "metadata": {},
   "outputs": [
    {
     "name": "stdout",
     "output_type": "stream",
     "text": [
      "SAMSUNG\n"
     ]
    }
   ],
   "source": [
    "cur = 'Samsung ltd'\n",
    "x = find_most_similar_value(cur, original_values)\n",
    "print(x)"
   ]
  },
  {
   "cell_type": "code",
   "execution_count": null,
   "id": "9e74268c",
   "metadata": {},
   "outputs": [],
   "source": []
  }
 ],
 "metadata": {
  "kernelspec": {
   "display_name": "Python 3 (ipykernel)",
   "language": "python",
   "name": "python3"
  },
  "language_info": {
   "codemirror_mode": {
    "name": "ipython",
    "version": 3
   },
   "file_extension": ".py",
   "mimetype": "text/x-python",
   "name": "python",
   "nbconvert_exporter": "python",
   "pygments_lexer": "ipython3",
   "version": "3.9.13"
  }
 },
 "nbformat": 4,
 "nbformat_minor": 5
}
