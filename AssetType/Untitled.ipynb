{
 "cells": [
  {
   "cell_type": "code",
   "execution_count": 8,
   "id": "9273870a",
   "metadata": {},
   "outputs": [],
   "source": [
    "import pandas as pd\n",
    "import numpy as np\n",
    "from sklearn.model_selection import train_test_split\n",
    "from sklearn.preprocessing import LabelEncoder\n",
    "from sklearn.impute import SimpleImputer\n",
    "from sklearn.metrics import accuracy_score, classification_report, confusion_matrix\n",
    "from tensorflow.keras.models import Sequential\n",
    "from tensorflow.keras.layers import Dense, Embedding, Flatten"
   ]
  },
  {
   "cell_type": "code",
   "execution_count": 9,
   "id": "a9c369ba",
   "metadata": {},
   "outputs": [],
   "source": [
    "# Load the dataset\n",
    "dataset = 'Asset.xlsx'\n",
    "df = pd.read_excel(dataset)\n",
    "\n",
    "# Separate features (X) and target variable (y)\n",
    "X = df.iloc[:, 1:]\n",
    "y = df['AssetType']\n",
    "\n",
    "# Handle special values\n",
    "special_values = ['NA', 'NULL', 'UNKNOWN', 'UNABLE TO LOCATE', 'NO ID', 'NO ACCESS', 'UNKOWN', 'NaN', 'na']\n",
    "for column in X.columns:\n",
    "    X[column] = X[column].replace(special_values, pd.NA)"
   ]
  },
  {
   "cell_type": "code",
   "execution_count": 10,
   "id": "5adc2b8b",
   "metadata": {},
   "outputs": [],
   "source": [
    "label_encoder = LabelEncoder()\n",
    "for column in X.select_dtypes(include=['object']).columns:\n",
    "    X[column] = label_encoder.fit_transform(X[column].astype(str))\n",
    "\n",
    "y = label_encoder.fit_transform(y.astype(str))"
   ]
  },
  {
   "cell_type": "code",
   "execution_count": 11,
   "id": "6ed24848",
   "metadata": {
    "scrolled": true
   },
   "outputs": [
    {
     "name": "stderr",
     "output_type": "stream",
     "text": [
      "C:\\ML\\lib\\site-packages\\sklearn\\impute\\_base.py:49: FutureWarning: Unlike other reduction functions (e.g. `skew`, `kurtosis`), the default behavior of `mode` typically preserves the axis it acts along. In SciPy 1.11.0, this behavior will change: the default value of `keepdims` will become False, the `axis` over which the statistic is taken will be eliminated, and the value None will no longer be accepted. Set `keepdims` to True or False to avoid this warning.\n",
      "  mode = stats.mode(array)\n"
     ]
    }
   ],
   "source": [
    "imputer = SimpleImputer(strategy='most_frequent')\n",
    "X_imputed = pd.DataFrame(imputer.fit_transform(X), columns=X.columns)\n",
    "\n",
    "# Split the data into train and test sets\n",
    "X_train, X_test, y_train, y_test = train_test_split(X_imputed, y, test_size=0.5, random_state=42)"
   ]
  },
  {
   "cell_type": "code",
   "execution_count": 12,
   "id": "91e3d63e",
   "metadata": {},
   "outputs": [],
   "source": [
    "# Build the neural network model\n",
    "model = Sequential()\n",
    "# model.add(Embedding(input_dim=len(X_imputed.columns) + 1, output_dim=10, input_length=len(X_imputed.columns)))\n",
    "model.add(Flatten())\n",
    "model.add(Dense(128, activation='relu'))\n",
    "model.add(Dense(64, activation='relu'))\n",
    "model.add(Dense(len(np.unique(y)), activation='softmax'))  # Output layer with softmax activation for multiclass classification"
   ]
  },
  {
   "cell_type": "code",
   "execution_count": 13,
   "id": "5e4be91b",
   "metadata": {},
   "outputs": [],
   "source": [
    "# Compile the model\n",
    "model.compile(optimizer='adam', loss='sparse_categorical_crossentropy', metrics=['accuracy'])\n"
   ]
  },
  {
   "cell_type": "code",
   "execution_count": 14,
   "id": "eeaa1bd4",
   "metadata": {},
   "outputs": [
    {
     "name": "stdout",
     "output_type": "stream",
     "text": [
      "Epoch 1/100\n",
      "1157/1157 [==============================] - 5s 4ms/step - loss: 189.2014 - accuracy: 0.0560 - val_loss: 5.3508 - val_accuracy: 0.0629\n",
      "Epoch 2/100\n",
      "1157/1157 [==============================] - 5s 4ms/step - loss: 5.0343 - accuracy: 0.0632 - val_loss: 4.7967 - val_accuracy: 0.0629\n",
      "Epoch 3/100\n",
      "1157/1157 [==============================] - 5s 4ms/step - loss: 4.6557 - accuracy: 0.0632 - val_loss: 4.5780 - val_accuracy: 0.0629\n",
      "Epoch 4/100\n",
      "1157/1157 [==============================] - 5s 4ms/step - loss: 4.5254 - accuracy: 0.0632 - val_loss: 4.5139 - val_accuracy: 0.0629\n",
      "Epoch 5/100\n",
      "1157/1157 [==============================] - 5s 4ms/step - loss: 4.4868 - accuracy: 0.0632 - val_loss: 4.4935 - val_accuracy: 0.0629\n",
      "Epoch 6/100\n",
      "1157/1157 [==============================] - 5s 4ms/step - loss: 4.4724 - accuracy: 0.0632 - val_loss: 4.4844 - val_accuracy: 0.0629\n",
      "Epoch 7/100\n",
      "1157/1157 [==============================] - 5s 4ms/step - loss: 4.4653 - accuracy: 0.0632 - val_loss: 4.4798 - val_accuracy: 0.0629\n",
      "Epoch 8/100\n",
      "1157/1157 [==============================] - 5s 4ms/step - loss: 4.4612 - accuracy: 0.0632 - val_loss: 4.4773 - val_accuracy: 0.0629\n",
      "Epoch 9/100\n",
      "1157/1157 [==============================] - 5s 4ms/step - loss: 4.4588 - accuracy: 0.0632 - val_loss: 4.4759 - val_accuracy: 0.0629\n",
      "Epoch 10/100\n",
      "1157/1157 [==============================] - 5s 4ms/step - loss: 4.4573 - accuracy: 0.0630 - val_loss: 4.4751 - val_accuracy: 0.0629\n",
      "Epoch 11/100\n",
      "1157/1157 [==============================] - 5s 4ms/step - loss: 4.4563 - accuracy: 0.0627 - val_loss: 4.4748 - val_accuracy: 0.0629\n",
      "Epoch 12/100\n",
      "1157/1157 [==============================] - 5s 4ms/step - loss: 4.4557 - accuracy: 0.0632 - val_loss: 4.4746 - val_accuracy: 0.0629\n",
      "Epoch 13/100\n",
      "1157/1157 [==============================] - 5s 4ms/step - loss: 4.4552 - accuracy: 0.0632 - val_loss: 4.4746 - val_accuracy: 0.0629\n",
      "Epoch 14/100\n",
      "1157/1157 [==============================] - 5s 4ms/step - loss: 4.4548 - accuracy: 0.0632 - val_loss: 4.4747 - val_accuracy: 0.0629\n",
      "Epoch 15/100\n",
      "1157/1157 [==============================] - 5s 4ms/step - loss: 4.4546 - accuracy: 0.0632 - val_loss: 4.4748 - val_accuracy: 0.0629\n",
      "Epoch 16/100\n",
      "1157/1157 [==============================] - 5s 4ms/step - loss: 4.4544 - accuracy: 0.0632 - val_loss: 4.4749 - val_accuracy: 0.0629\n",
      "Epoch 17/100\n",
      "1157/1157 [==============================] - 5s 4ms/step - loss: 4.4543 - accuracy: 0.0632 - val_loss: 4.4751 - val_accuracy: 0.0629\n",
      "Epoch 18/100\n",
      "1157/1157 [==============================] - 5s 4ms/step - loss: 4.4542 - accuracy: 0.0632 - val_loss: 4.4754 - val_accuracy: 0.0629\n",
      "Epoch 19/100\n",
      "1157/1157 [==============================] - 5s 4ms/step - loss: 4.4541 - accuracy: 0.0632 - val_loss: 4.4756 - val_accuracy: 0.0629\n",
      "Epoch 20/100\n",
      "1157/1157 [==============================] - 5s 4ms/step - loss: 4.4540 - accuracy: 0.0632 - val_loss: 4.4758 - val_accuracy: 0.0629\n",
      "Epoch 21/100\n",
      "1157/1157 [==============================] - 5s 4ms/step - loss: 4.4539 - accuracy: 0.0632 - val_loss: 4.4762 - val_accuracy: 0.0629\n",
      "Epoch 22/100\n",
      "1157/1157 [==============================] - 5s 4ms/step - loss: 4.4539 - accuracy: 0.0632 - val_loss: 4.4763 - val_accuracy: 0.0629\n",
      "Epoch 23/100\n",
      "1157/1157 [==============================] - 5s 4ms/step - loss: 4.4539 - accuracy: 0.0629 - val_loss: 4.4764 - val_accuracy: 0.0629\n",
      "Epoch 24/100\n",
      "1157/1157 [==============================] - 5s 4ms/step - loss: 4.4538 - accuracy: 0.0631 - val_loss: 4.4766 - val_accuracy: 0.0629\n",
      "Epoch 25/100\n",
      "1157/1157 [==============================] - 5s 4ms/step - loss: 4.4538 - accuracy: 0.0632 - val_loss: 4.4768 - val_accuracy: 0.0629\n",
      "Epoch 26/100\n",
      "1157/1157 [==============================] - 5s 4ms/step - loss: 4.4538 - accuracy: 0.0632 - val_loss: 4.4769 - val_accuracy: 0.0629\n",
      "Epoch 27/100\n",
      "1157/1157 [==============================] - 5s 4ms/step - loss: 4.4538 - accuracy: 0.0632 - val_loss: 4.4768 - val_accuracy: 0.0629\n",
      "Epoch 28/100\n",
      "1157/1157 [==============================] - 5s 4ms/step - loss: 4.4538 - accuracy: 0.0632 - val_loss: 4.4770 - val_accuracy: 0.0629\n",
      "Epoch 29/100\n",
      "1157/1157 [==============================] - 5s 4ms/step - loss: 4.4538 - accuracy: 0.0632 - val_loss: 4.4772 - val_accuracy: 0.0629\n",
      "Epoch 30/100\n",
      "1157/1157 [==============================] - 5s 4ms/step - loss: 4.4538 - accuracy: 0.0632 - val_loss: 4.4773 - val_accuracy: 0.0629\n",
      "Epoch 31/100\n",
      "1157/1157 [==============================] - 5s 4ms/step - loss: 4.4741 - accuracy: 0.0631 - val_loss: 4.4773 - val_accuracy: 0.0629\n",
      "Epoch 32/100\n",
      "1157/1157 [==============================] - 5s 4ms/step - loss: 4.8940 - accuracy: 0.0631 - val_loss: 4.4774 - val_accuracy: 0.0629\n",
      "Epoch 33/100\n",
      "1157/1157 [==============================] - 5s 4ms/step - loss: 4.5039 - accuracy: 0.0631 - val_loss: 4.4775 - val_accuracy: 0.0629\n",
      "Epoch 34/100\n",
      "1157/1157 [==============================] - 5s 4ms/step - loss: 4.4538 - accuracy: 0.0632 - val_loss: 4.4776 - val_accuracy: 0.0629\n",
      "Epoch 35/100\n",
      "1157/1157 [==============================] - 5s 4ms/step - loss: 4.4538 - accuracy: 0.0632 - val_loss: 4.4776 - val_accuracy: 0.0629\n",
      "Epoch 36/100\n",
      "1157/1157 [==============================] - 5s 4ms/step - loss: 4.4538 - accuracy: 0.0632 - val_loss: 4.4776 - val_accuracy: 0.0629\n",
      "Epoch 37/100\n",
      "1157/1157 [==============================] - 5s 4ms/step - loss: 4.4537 - accuracy: 0.0631 - val_loss: 4.4777 - val_accuracy: 0.0629\n",
      "Epoch 38/100\n",
      "1157/1157 [==============================] - 5s 4ms/step - loss: 4.4538 - accuracy: 0.0632 - val_loss: 4.4777 - val_accuracy: 0.0629\n",
      "Epoch 39/100\n",
      "1157/1157 [==============================] - 5s 4ms/step - loss: 4.4537 - accuracy: 0.0632 - val_loss: 4.4778 - val_accuracy: 0.0629\n",
      "Epoch 40/100\n",
      "1157/1157 [==============================] - 5s 4ms/step - loss: 4.4538 - accuracy: 0.0630 - val_loss: 4.4778 - val_accuracy: 0.0629\n",
      "Epoch 41/100\n",
      "1157/1157 [==============================] - 5s 4ms/step - loss: 4.4538 - accuracy: 0.0632 - val_loss: 4.4778 - val_accuracy: 0.0629\n",
      "Epoch 42/100\n",
      "1157/1157 [==============================] - 5s 4ms/step - loss: 4.4537 - accuracy: 0.0632 - val_loss: 4.4779 - val_accuracy: 0.0629\n",
      "Epoch 43/100\n",
      "1157/1157 [==============================] - 5s 4ms/step - loss: 4.4537 - accuracy: 0.0632 - val_loss: 4.4779 - val_accuracy: 0.0629\n",
      "Epoch 44/100\n",
      "1157/1157 [==============================] - 5s 4ms/step - loss: 4.4538 - accuracy: 0.0632 - val_loss: 4.4780 - val_accuracy: 0.0629\n",
      "Epoch 45/100\n",
      "1157/1157 [==============================] - 5s 4ms/step - loss: 4.4538 - accuracy: 0.0632 - val_loss: 4.4780 - val_accuracy: 0.0629\n",
      "Epoch 46/100\n",
      "1157/1157 [==============================] - 5s 4ms/step - loss: 4.4537 - accuracy: 0.0632 - val_loss: 4.4780 - val_accuracy: 0.0629\n",
      "Epoch 47/100\n",
      "1157/1157 [==============================] - 5s 4ms/step - loss: 4.4538 - accuracy: 0.0632 - val_loss: 4.4780 - val_accuracy: 0.0629\n",
      "Epoch 48/100\n",
      "1157/1157 [==============================] - 5s 4ms/step - loss: 4.4538 - accuracy: 0.0632 - val_loss: 4.4781 - val_accuracy: 0.0629\n",
      "Epoch 49/100\n",
      "1157/1157 [==============================] - 5s 4ms/step - loss: 4.4538 - accuracy: 0.0632 - val_loss: 4.4781 - val_accuracy: 0.0629\n",
      "Epoch 50/100\n",
      "1157/1157 [==============================] - 5s 4ms/step - loss: 4.4538 - accuracy: 0.0630 - val_loss: 4.4781 - val_accuracy: 0.0629\n",
      "Epoch 51/100\n",
      "1157/1157 [==============================] - 5s 4ms/step - loss: 4.4537 - accuracy: 0.0631 - val_loss: 4.4782 - val_accuracy: 0.0629\n",
      "Epoch 52/100\n",
      "1157/1157 [==============================] - 5s 4ms/step - loss: 4.4538 - accuracy: 0.0632 - val_loss: 4.4782 - val_accuracy: 0.0629\n",
      "Epoch 53/100\n",
      "1157/1157 [==============================] - 5s 4ms/step - loss: 4.4538 - accuracy: 0.0632 - val_loss: 4.4782 - val_accuracy: 0.0629\n",
      "Epoch 54/100\n",
      "1157/1157 [==============================] - 5s 4ms/step - loss: 4.4538 - accuracy: 0.0632 - val_loss: 4.4782 - val_accuracy: 0.0629\n",
      "Epoch 55/100\n",
      "1157/1157 [==============================] - 5s 4ms/step - loss: 4.4538 - accuracy: 0.0632 - val_loss: 4.4783 - val_accuracy: 0.0629\n",
      "Epoch 56/100\n",
      "1157/1157 [==============================] - 5s 4ms/step - loss: 4.4538 - accuracy: 0.0632 - val_loss: 4.4783 - val_accuracy: 0.0629\n",
      "Epoch 57/100\n"
     ]
    },
    {
     "name": "stdout",
     "output_type": "stream",
     "text": [
      "1157/1157 [==============================] - 5s 4ms/step - loss: 4.4538 - accuracy: 0.0626 - val_loss: 4.4783 - val_accuracy: 0.0629\n",
      "Epoch 58/100\n",
      "1157/1157 [==============================] - 5s 4ms/step - loss: 4.4538 - accuracy: 0.0632 - val_loss: 4.4784 - val_accuracy: 0.0629\n",
      "Epoch 59/100\n",
      "1157/1157 [==============================] - 5s 4ms/step - loss: 4.4537 - accuracy: 0.0632 - val_loss: 4.4784 - val_accuracy: 0.0629\n",
      "Epoch 60/100\n",
      "1157/1157 [==============================] - 5s 4ms/step - loss: 4.4537 - accuracy: 0.0630 - val_loss: 4.4784 - val_accuracy: 0.0629\n",
      "Epoch 61/100\n",
      "1157/1157 [==============================] - 5s 4ms/step - loss: 4.4538 - accuracy: 0.0632 - val_loss: 4.4784 - val_accuracy: 0.0629\n",
      "Epoch 62/100\n",
      "1157/1157 [==============================] - 5s 4ms/step - loss: 4.4538 - accuracy: 0.0632 - val_loss: 4.4785 - val_accuracy: 0.0629\n",
      "Epoch 63/100\n",
      "1157/1157 [==============================] - 5s 4ms/step - loss: 4.4538 - accuracy: 0.0632 - val_loss: 4.4785 - val_accuracy: 0.0629\n",
      "Epoch 64/100\n",
      "1157/1157 [==============================] - 5s 4ms/step - loss: 4.4538 - accuracy: 0.0632 - val_loss: 4.4784 - val_accuracy: 0.0629\n",
      "Epoch 65/100\n",
      "1157/1157 [==============================] - 5s 4ms/step - loss: 4.4537 - accuracy: 0.0632 - val_loss: 4.4785 - val_accuracy: 0.0629\n",
      "Epoch 66/100\n",
      "1157/1157 [==============================] - 5s 4ms/step - loss: 4.4538 - accuracy: 0.0632 - val_loss: 4.4784 - val_accuracy: 0.0629\n",
      "Epoch 67/100\n",
      "1157/1157 [==============================] - 5s 4ms/step - loss: 4.4538 - accuracy: 0.0629 - val_loss: 4.4785 - val_accuracy: 0.0629\n",
      "Epoch 68/100\n",
      "1157/1157 [==============================] - 5s 4ms/step - loss: 4.4538 - accuracy: 0.0631 - val_loss: 4.4785 - val_accuracy: 0.0629\n",
      "Epoch 69/100\n",
      "1157/1157 [==============================] - 5s 4ms/step - loss: 4.4538 - accuracy: 0.0632 - val_loss: 4.4785 - val_accuracy: 0.0629\n",
      "Epoch 70/100\n",
      "1157/1157 [==============================] - 5s 4ms/step - loss: 4.4538 - accuracy: 0.0628 - val_loss: 4.4785 - val_accuracy: 0.0629\n",
      "Epoch 71/100\n",
      "1157/1157 [==============================] - 5s 4ms/step - loss: 4.4538 - accuracy: 0.0632 - val_loss: 4.4785 - val_accuracy: 0.0629\n",
      "Epoch 72/100\n",
      "1157/1157 [==============================] - 5s 4ms/step - loss: 4.4538 - accuracy: 0.0629 - val_loss: 4.4786 - val_accuracy: 0.0629\n",
      "Epoch 73/100\n",
      "1157/1157 [==============================] - 5s 4ms/step - loss: 4.4538 - accuracy: 0.0632 - val_loss: 4.4785 - val_accuracy: 0.0629\n",
      "Epoch 74/100\n",
      "1157/1157 [==============================] - 5s 4ms/step - loss: 4.4538 - accuracy: 0.0632 - val_loss: 4.4785 - val_accuracy: 0.0629\n",
      "Epoch 75/100\n",
      "1157/1157 [==============================] - 5s 4ms/step - loss: 4.4538 - accuracy: 0.0632 - val_loss: 4.4786 - val_accuracy: 0.0629\n",
      "Epoch 76/100\n",
      "1157/1157 [==============================] - 5s 4ms/step - loss: 4.4538 - accuracy: 0.0630 - val_loss: 4.4786 - val_accuracy: 0.0629\n",
      "Epoch 77/100\n",
      "1157/1157 [==============================] - 5s 4ms/step - loss: 4.4538 - accuracy: 0.0629 - val_loss: 4.4786 - val_accuracy: 0.0629\n",
      "Epoch 78/100\n",
      "1157/1157 [==============================] - 5s 4ms/step - loss: 4.4538 - accuracy: 0.0632 - val_loss: 4.4787 - val_accuracy: 0.0629\n",
      "Epoch 79/100\n",
      "1157/1157 [==============================] - 5s 4ms/step - loss: 4.4538 - accuracy: 0.0630 - val_loss: 4.4786 - val_accuracy: 0.0629\n",
      "Epoch 80/100\n",
      "1157/1157 [==============================] - 5s 4ms/step - loss: 4.4538 - accuracy: 0.0628 - val_loss: 4.4787 - val_accuracy: 0.0629\n",
      "Epoch 81/100\n",
      "1157/1157 [==============================] - 5s 4ms/step - loss: 4.4538 - accuracy: 0.0632 - val_loss: 4.4787 - val_accuracy: 0.0629\n",
      "Epoch 82/100\n",
      "1157/1157 [==============================] - 5s 4ms/step - loss: 4.4538 - accuracy: 0.0632 - val_loss: 4.4787 - val_accuracy: 0.0629\n",
      "Epoch 83/100\n",
      "1157/1157 [==============================] - 5s 4ms/step - loss: 4.4538 - accuracy: 0.0632 - val_loss: 4.4787 - val_accuracy: 0.0629\n",
      "Epoch 84/100\n",
      "1157/1157 [==============================] - 5s 4ms/step - loss: 4.4538 - accuracy: 0.0632 - val_loss: 4.4787 - val_accuracy: 0.0629\n",
      "Epoch 85/100\n",
      "1157/1157 [==============================] - 5s 4ms/step - loss: 4.4538 - accuracy: 0.0632 - val_loss: 4.4787 - val_accuracy: 0.0629\n",
      "Epoch 86/100\n",
      "1157/1157 [==============================] - 5s 4ms/step - loss: 4.4538 - accuracy: 0.0632 - val_loss: 4.4787 - val_accuracy: 0.0629\n",
      "Epoch 87/100\n",
      "1157/1157 [==============================] - 5s 4ms/step - loss: 4.4538 - accuracy: 0.0632 - val_loss: 4.4787 - val_accuracy: 0.0629\n",
      "Epoch 88/100\n",
      "1157/1157 [==============================] - 5s 4ms/step - loss: 4.4538 - accuracy: 0.0632 - val_loss: 4.4787 - val_accuracy: 0.0629\n",
      "Epoch 89/100\n",
      "1157/1157 [==============================] - 5s 4ms/step - loss: 4.4538 - accuracy: 0.0632 - val_loss: 4.4787 - val_accuracy: 0.0629\n",
      "Epoch 90/100\n",
      "1157/1157 [==============================] - 5s 4ms/step - loss: 4.4538 - accuracy: 0.0632 - val_loss: 4.4788 - val_accuracy: 0.0629\n",
      "Epoch 91/100\n",
      "1157/1157 [==============================] - 5s 4ms/step - loss: 4.4538 - accuracy: 0.0627 - val_loss: 4.4787 - val_accuracy: 0.0629\n",
      "Epoch 92/100\n",
      "1157/1157 [==============================] - 5s 4ms/step - loss: 4.4538 - accuracy: 0.0632 - val_loss: 4.4788 - val_accuracy: 0.0629\n",
      "Epoch 93/100\n",
      "1157/1157 [==============================] - 5s 4ms/step - loss: 4.4538 - accuracy: 0.0628 - val_loss: 4.4789 - val_accuracy: 0.0629\n",
      "Epoch 94/100\n",
      "1157/1157 [==============================] - 5s 4ms/step - loss: 4.4538 - accuracy: 0.0632 - val_loss: 4.4788 - val_accuracy: 0.0629\n",
      "Epoch 95/100\n",
      "1157/1157 [==============================] - 5s 4ms/step - loss: 4.4538 - accuracy: 0.0632 - val_loss: 4.4788 - val_accuracy: 0.0629\n",
      "Epoch 96/100\n",
      "1157/1157 [==============================] - 5s 4ms/step - loss: 4.4538 - accuracy: 0.0632 - val_loss: 4.4788 - val_accuracy: 0.0629\n",
      "Epoch 97/100\n",
      "1157/1157 [==============================] - 5s 4ms/step - loss: 4.4538 - accuracy: 0.0632 - val_loss: 4.4788 - val_accuracy: 0.0629\n",
      "Epoch 98/100\n",
      "1157/1157 [==============================] - 5s 4ms/step - loss: 4.4538 - accuracy: 0.0632 - val_loss: 4.4788 - val_accuracy: 0.0629\n",
      "Epoch 99/100\n",
      "1157/1157 [==============================] - 5s 4ms/step - loss: 4.4538 - accuracy: 0.0630 - val_loss: 4.4789 - val_accuracy: 0.0629\n",
      "Epoch 100/100\n",
      "1157/1157 [==============================] - 5s 4ms/step - loss: 4.4538 - accuracy: 0.0627 - val_loss: 4.4789 - val_accuracy: 0.0629\n"
     ]
    },
    {
     "data": {
      "text/plain": [
       "<keras.src.callbacks.History at 0x269a1c6f100>"
      ]
     },
     "execution_count": 14,
     "metadata": {},
     "output_type": "execute_result"
    }
   ],
   "source": [
    "model.fit(X_train,y_train, epochs=100, batch_size=100, validation_split=0.2)"
   ]
  },
  {
   "cell_type": "code",
   "execution_count": 15,
   "id": "999a7ca9",
   "metadata": {},
   "outputs": [],
   "source": [
    "# Build the neural network model\n",
    "model2 = Sequential()\n",
    "# model.add(Embedding(input_dim=len(X_imputed.columns) + 1, output_dim=10, input_length=len(X_imputed.columns)))\n",
    "model2.add(Flatten())\n",
    "model2.add(Dense(500, activation='relu'))\n",
    "model2.add(Dense(200, activation='relu'))\n",
    "model2.add(Dense(200, activation='relu'))\n",
    "model2.add(Dense(200, activation='relu'))\n",
    "model2.add(Dense(len(np.unique(y)), activation='softmax')) "
   ]
  },
  {
   "cell_type": "code",
   "execution_count": 16,
   "id": "c5ddca0d",
   "metadata": {},
   "outputs": [],
   "source": [
    "model2.compile(optimizer='adam', loss='sparse_categorical_crossentropy', metrics=['accuracy'])"
   ]
  },
  {
   "cell_type": "code",
   "execution_count": 18,
   "id": "27e9f2b1",
   "metadata": {},
   "outputs": [
    {
     "name": "stdout",
     "output_type": "stream",
     "text": [
      "Epoch 1/10\n",
      "11562/11562 [==============================] - 52s 4ms/step - loss: 14.2390 - accuracy: 0.0588 - val_loss: 4.4848 - val_accuracy: 0.0629\n",
      "Epoch 2/10\n",
      "11562/11562 [==============================] - 53s 5ms/step - loss: 5.9201 - accuracy: 0.0626 - val_loss: 4.4846 - val_accuracy: 0.0629\n",
      "Epoch 3/10\n",
      "11562/11562 [==============================] - 54s 5ms/step - loss: 4.7229 - accuracy: 0.0620 - val_loss: 4.4823 - val_accuracy: 0.0611\n",
      "Epoch 4/10\n",
      "11562/11562 [==============================] - 51s 4ms/step - loss: 4.5856 - accuracy: 0.0638 - val_loss: 4.4830 - val_accuracy: 0.0611\n",
      "Epoch 5/10\n",
      "11562/11562 [==============================] - 54s 5ms/step - loss: 4.6901 - accuracy: 0.0615 - val_loss: 4.4822 - val_accuracy: 0.0629\n",
      "Epoch 6/10\n",
      "11562/11562 [==============================] - 52s 5ms/step - loss: 4.4605 - accuracy: 0.0625 - val_loss: 4.4826 - val_accuracy: 0.0611\n",
      "Epoch 7/10\n",
      "11562/11562 [==============================] - 52s 4ms/step - loss: 4.4603 - accuracy: 0.0623 - val_loss: 4.4820 - val_accuracy: 0.0611\n",
      "Epoch 8/10\n",
      "11562/11562 [==============================] - 52s 4ms/step - loss: 4.4595 - accuracy: 0.0621 - val_loss: 4.4824 - val_accuracy: 0.0629\n",
      "Epoch 9/10\n",
      "11562/11562 [==============================] - 52s 4ms/step - loss: 4.4593 - accuracy: 0.0622 - val_loss: 4.4833 - val_accuracy: 0.0611\n",
      "Epoch 10/10\n",
      "11562/11562 [==============================] - 52s 5ms/step - loss: 4.4590 - accuracy: 0.0626 - val_loss: 4.4814 - val_accuracy: 0.0629\n"
     ]
    },
    {
     "data": {
      "text/plain": [
       "<keras.src.callbacks.History at 0x269a2cd5f40>"
      ]
     },
     "execution_count": 18,
     "metadata": {},
     "output_type": "execute_result"
    }
   ],
   "source": [
    "model2.fit(X_train,y_train, epochs=10, batch_size=10, validation_split=0.2)"
   ]
  },
  {
   "cell_type": "code",
   "execution_count": null,
   "id": "a54119c7",
   "metadata": {},
   "outputs": [],
   "source": []
  }
 ],
 "metadata": {
  "kernelspec": {
   "display_name": "Python 3 (ipykernel)",
   "language": "python",
   "name": "python3"
  },
  "language_info": {
   "codemirror_mode": {
    "name": "ipython",
    "version": 3
   },
   "file_extension": ".py",
   "mimetype": "text/x-python",
   "name": "python",
   "nbconvert_exporter": "python",
   "pygments_lexer": "ipython3",
   "version": "3.9.13"
  }
 },
 "nbformat": 4,
 "nbformat_minor": 5
}
