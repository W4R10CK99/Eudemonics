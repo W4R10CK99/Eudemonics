{
 "cells": [
  {
   "cell_type": "code",
   "execution_count": 1,
   "id": "e0704313",
   "metadata": {},
   "outputs": [],
   "source": [
    "import pandas as pd\n",
    "import numpy as np\n",
    "from sklearn.model_selection import train_test_split\n",
    "from sklearn.impute import SimpleImputer\n",
    "from tensorflow.keras.models import Sequential\n",
    "from tensorflow.keras.layers import Dense, Embedding, Flatten"
   ]
  },
  {
   "cell_type": "code",
   "execution_count": 2,
   "id": "6ef8ffda",
   "metadata": {},
   "outputs": [],
   "source": [
    "# Load the dataset\n",
    "dataset = 'Asset.xlsx'\n",
    "df = pd.read_excel(dataset)"
   ]
  },
  {
   "cell_type": "code",
   "execution_count": 3,
   "id": "999ce625",
   "metadata": {},
   "outputs": [],
   "source": [
    "# Separate features (X) and target variable (y)\n",
    "X = df.iloc[:, 1:]\n",
    "y = df['AssetType']"
   ]
  },
  {
   "cell_type": "code",
   "execution_count": 4,
   "id": "8ccf1d2e",
   "metadata": {},
   "outputs": [],
   "source": [
    "# Handle special values\n",
    "special_values = ['NA', 'NULL', 'UNKNOWN', 'UNABLE TO LOCATE', 'NO ID', 'NO ACCESS', 'UNKOWN', 'NaN', 'na']\n",
    "for column in X.columns:\n",
    "    X[column] = X[column].replace(special_values, pd.NA)"
   ]
  },
  {
   "cell_type": "code",
   "execution_count": 15,
   "id": "36c91610",
   "metadata": {},
   "outputs": [],
   "source": [
    "# Replace label encoding with embedding for categorical features\n",
    "embedding_layers = []\n",
    "for column in X.select_dtypes(include=['object']).columns:\n",
    "    # Convert the column to string to handle mixed data types\n",
    "    X[column] = X[column].astype(str)\n",
    "\n",
    "    # Fill NaN values with a placeholder\n",
    "    X[column].fillna('UNKNOWN', inplace=True)\n",
    "\n",
    "    vocab_size = len(np.unique(X[column]))\n",
    "    embed_dim = min(50, vocab_size // 2)  # Adjust embed_dim based on your data\n",
    "    input_length = 1  # Assuming each feature is a single value\n",
    "\n",
    "    # Add an embedding layer for each categorical feature\n",
    "    embedding_layer = Embedding(input_dim=vocab_size, output_dim=embed_dim, input_length=input_length, name=f'embedding_{column}')\n",
    "    embedding_layers.append(embedding_layer)"
   ]
  },
  {
   "cell_type": "code",
   "execution_count": 16,
   "id": "18d8113f",
   "metadata": {},
   "outputs": [
    {
     "ename": "AttributeError",
     "evalue": "Exception encountered when calling layer 'embedding_SerialNo' (type Embedding).\n\n'numpy.dtype[object_]' object has no attribute 'base_dtype'\n\nCall arguments received by layer 'embedding_SerialNo' (type Embedding):\n  • inputs=0         nan\n1         nan\n2         nan\n3         nan\n4         nan\n         ... \n289048    nan\n289049    nan\n289050    nan\n289051    nan\n289052    nan\nName: Refrigerant, Length: 289053, dtype: object",
     "output_type": "error",
     "traceback": [
      "\u001b[1;31m---------------------------------------------------------------------------\u001b[0m",
      "\u001b[1;31mAttributeError\u001b[0m                            Traceback (most recent call last)",
      "\u001b[1;32m~\\AppData\\Local\\Temp\\ipykernel_18296\\462187774.py\u001b[0m in \u001b[0;36m<module>\u001b[1;34m\u001b[0m\n\u001b[0;32m      4\u001b[0m \u001b[0membedding_outputs\u001b[0m \u001b[1;33m=\u001b[0m \u001b[1;33m[\u001b[0m\u001b[1;33m]\u001b[0m\u001b[1;33m\u001b[0m\u001b[1;33m\u001b[0m\u001b[0m\n\u001b[0;32m      5\u001b[0m \u001b[1;32mfor\u001b[0m \u001b[0mi\u001b[0m \u001b[1;32min\u001b[0m \u001b[0mrange\u001b[0m\u001b[1;33m(\u001b[0m\u001b[0mlen\u001b[0m\u001b[1;33m(\u001b[0m\u001b[0membedding_layers\u001b[0m\u001b[1;33m)\u001b[0m\u001b[1;33m)\u001b[0m\u001b[1;33m:\u001b[0m\u001b[1;33m\u001b[0m\u001b[1;33m\u001b[0m\u001b[0m\n\u001b[1;32m----> 6\u001b[1;33m     \u001b[0membedding_outputs\u001b[0m\u001b[1;33m.\u001b[0m\u001b[0mappend\u001b[0m\u001b[1;33m(\u001b[0m\u001b[0mFlatten\u001b[0m\u001b[1;33m(\u001b[0m\u001b[1;33m)\u001b[0m\u001b[1;33m(\u001b[0m\u001b[0membedding_layers\u001b[0m\u001b[1;33m[\u001b[0m\u001b[0mi\u001b[0m\u001b[1;33m]\u001b[0m\u001b[1;33m(\u001b[0m\u001b[0mX\u001b[0m\u001b[1;33m[\u001b[0m\u001b[1;34mf'{column}'\u001b[0m\u001b[1;33m]\u001b[0m\u001b[1;33m)\u001b[0m\u001b[1;33m)\u001b[0m\u001b[1;33m)\u001b[0m\u001b[1;33m\u001b[0m\u001b[1;33m\u001b[0m\u001b[0m\n\u001b[0m\u001b[0;32m      7\u001b[0m \u001b[1;33m\u001b[0m\u001b[0m\n\u001b[0;32m      8\u001b[0m \u001b[0mcombined_embedding\u001b[0m \u001b[1;33m=\u001b[0m \u001b[0mConcatenate\u001b[0m\u001b[1;33m(\u001b[0m\u001b[1;33m)\u001b[0m\u001b[1;33m(\u001b[0m\u001b[0membedding_outputs\u001b[0m\u001b[1;33m)\u001b[0m\u001b[1;33m\u001b[0m\u001b[1;33m\u001b[0m\u001b[0m\n",
      "\u001b[1;32mC:\\ML\\lib\\site-packages\\keras\\src\\utils\\traceback_utils.py\u001b[0m in \u001b[0;36merror_handler\u001b[1;34m(*args, **kwargs)\u001b[0m\n\u001b[0;32m     68\u001b[0m             \u001b[1;31m# To get the full stack trace, call:\u001b[0m\u001b[1;33m\u001b[0m\u001b[1;33m\u001b[0m\u001b[0m\n\u001b[0;32m     69\u001b[0m             \u001b[1;31m# `tf.debugging.disable_traceback_filtering()`\u001b[0m\u001b[1;33m\u001b[0m\u001b[1;33m\u001b[0m\u001b[0m\n\u001b[1;32m---> 70\u001b[1;33m             \u001b[1;32mraise\u001b[0m \u001b[0me\u001b[0m\u001b[1;33m.\u001b[0m\u001b[0mwith_traceback\u001b[0m\u001b[1;33m(\u001b[0m\u001b[0mfiltered_tb\u001b[0m\u001b[1;33m)\u001b[0m \u001b[1;32mfrom\u001b[0m \u001b[1;32mNone\u001b[0m\u001b[1;33m\u001b[0m\u001b[1;33m\u001b[0m\u001b[0m\n\u001b[0m\u001b[0;32m     71\u001b[0m         \u001b[1;32mfinally\u001b[0m\u001b[1;33m:\u001b[0m\u001b[1;33m\u001b[0m\u001b[1;33m\u001b[0m\u001b[0m\n\u001b[0;32m     72\u001b[0m             \u001b[1;32mdel\u001b[0m \u001b[0mfiltered_tb\u001b[0m\u001b[1;33m\u001b[0m\u001b[1;33m\u001b[0m\u001b[0m\n",
      "\u001b[1;32mC:\\ML\\lib\\site-packages\\keras\\src\\backend.py\u001b[0m in \u001b[0;36mdtype\u001b[1;34m(x)\u001b[0m\n\u001b[0;32m   1597\u001b[0m \u001b[1;33m\u001b[0m\u001b[0m\n\u001b[0;32m   1598\u001b[0m     \"\"\"\n\u001b[1;32m-> 1599\u001b[1;33m     \u001b[1;32mreturn\u001b[0m \u001b[0mx\u001b[0m\u001b[1;33m.\u001b[0m\u001b[0mdtype\u001b[0m\u001b[1;33m.\u001b[0m\u001b[0mbase_dtype\u001b[0m\u001b[1;33m.\u001b[0m\u001b[0mname\u001b[0m\u001b[1;33m\u001b[0m\u001b[1;33m\u001b[0m\u001b[0m\n\u001b[0m\u001b[0;32m   1600\u001b[0m \u001b[1;33m\u001b[0m\u001b[0m\n\u001b[0;32m   1601\u001b[0m \u001b[1;33m\u001b[0m\u001b[0m\n",
      "\u001b[1;31mAttributeError\u001b[0m: Exception encountered when calling layer 'embedding_SerialNo' (type Embedding).\n\n'numpy.dtype[object_]' object has no attribute 'base_dtype'\n\nCall arguments received by layer 'embedding_SerialNo' (type Embedding):\n  • inputs=0         nan\n1         nan\n2         nan\n3         nan\n4         nan\n         ... \n289048    nan\n289049    nan\n289050    nan\n289051    nan\n289052    nan\nName: Refrigerant, Length: 289053, dtype: object"
     ]
    }
   ],
   "source": [
    "from tensorflow.keras.layers import Concatenate, Flatten\n",
    "\n",
    "# Concatenate all embedding layers\n",
    "embedding_outputs = []\n",
    "for i in range(len(embedding_layers)):\n",
    "    embedding_outputs.append(Flatten()(embedding_layers[i](X[f'{column}'])))\n",
    "\n",
    "combined_embedding = Concatenate()(embedding_outputs)"
   ]
  },
  {
   "cell_type": "code",
   "execution_count": null,
   "id": "bf12aa59",
   "metadata": {},
   "outputs": [],
   "source": []
  }
 ],
 "metadata": {
  "kernelspec": {
   "display_name": "Python 3 (ipykernel)",
   "language": "python",
   "name": "python3"
  },
  "language_info": {
   "codemirror_mode": {
    "name": "ipython",
    "version": 3
   },
   "file_extension": ".py",
   "mimetype": "text/x-python",
   "name": "python",
   "nbconvert_exporter": "python",
   "pygments_lexer": "ipython3",
   "version": "3.9.13"
  }
 },
 "nbformat": 4,
 "nbformat_minor": 5
}
