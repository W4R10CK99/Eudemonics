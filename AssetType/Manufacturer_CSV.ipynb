{
 "cells": [
  {
   "cell_type": "code",
   "execution_count": 1,
   "id": "4024fe01",
   "metadata": {},
   "outputs": [],
   "source": [
    "import pandas as pd\n",
    "\n",
    "# Path to your Excel (xlsx) file\n",
    "xlsx_file_path = \"Asset.xlsx\"\n",
    "\n",
    "# Name of the sheet in the Excel file\n",
    "sheet_name = \"Sheet1\"  # Change this to the actual sheet name\n",
    "\n",
    "# Name of the column to extract\n",
    "column_name = \"Manufacturer\"  # Change this to the actual column name\n",
    "\n",
    "# Read the Excel file and extract the specified column\n",
    "df = pd.read_excel(xlsx_file_path, sheet_name=sheet_name)\n",
    "\n",
    "# Get unique values from the specified column\n",
    "unique_values = df[column_name].unique()\n",
    "\n",
    "# Create a DataFrame with the unique values\n",
    "result_df = pd.DataFrame({column_name: unique_values})\n",
    "\n",
    "# Save the DataFrame to a CSV file\n",
    "result_df.to_csv(\"unique_values.csv\", index=False)\n"
   ]
  },
  {
   "cell_type": "code",
   "execution_count": 2,
   "id": "ad722d2c",
   "metadata": {},
   "outputs": [
    {
     "data": {
      "text/html": [
       "<div>\n",
       "<style scoped>\n",
       "    .dataframe tbody tr th:only-of-type {\n",
       "        vertical-align: middle;\n",
       "    }\n",
       "\n",
       "    .dataframe tbody tr th {\n",
       "        vertical-align: top;\n",
       "    }\n",
       "\n",
       "    .dataframe thead th {\n",
       "        text-align: right;\n",
       "    }\n",
       "</style>\n",
       "<table border=\"1\" class=\"dataframe\">\n",
       "  <thead>\n",
       "    <tr style=\"text-align: right;\">\n",
       "      <th></th>\n",
       "      <th>Manufacturer</th>\n",
       "    </tr>\n",
       "  </thead>\n",
       "  <tbody>\n",
       "    <tr>\n",
       "      <th>0</th>\n",
       "      <td>NaN</td>\n",
       "    </tr>\n",
       "    <tr>\n",
       "      <th>1</th>\n",
       "      <td>UNKNOWN</td>\n",
       "    </tr>\n",
       "    <tr>\n",
       "      <th>2</th>\n",
       "      <td>DAIKIN</td>\n",
       "    </tr>\n",
       "    <tr>\n",
       "      <th>3</th>\n",
       "      <td>KELVINATOR</td>\n",
       "    </tr>\n",
       "    <tr>\n",
       "      <th>4</th>\n",
       "      <td>TECO</td>\n",
       "    </tr>\n",
       "    <tr>\n",
       "      <th>...</th>\n",
       "      <td>...</td>\n",
       "    </tr>\n",
       "    <tr>\n",
       "      <th>1124</th>\n",
       "      <td>COOPER</td>\n",
       "    </tr>\n",
       "    <tr>\n",
       "      <th>1125</th>\n",
       "      <td>SUMIDA</td>\n",
       "    </tr>\n",
       "    <tr>\n",
       "      <th>1126</th>\n",
       "      <td>QUICKLAG</td>\n",
       "    </tr>\n",
       "    <tr>\n",
       "      <th>1127</th>\n",
       "      <td>SAL</td>\n",
       "    </tr>\n",
       "    <tr>\n",
       "      <th>1128</th>\n",
       "      <td>MOELLER</td>\n",
       "    </tr>\n",
       "  </tbody>\n",
       "</table>\n",
       "<p>1129 rows × 1 columns</p>\n",
       "</div>"
      ],
      "text/plain": [
       "     Manufacturer\n",
       "0             NaN\n",
       "1         UNKNOWN\n",
       "2          DAIKIN\n",
       "3      KELVINATOR\n",
       "4            TECO\n",
       "...           ...\n",
       "1124       COOPER\n",
       "1125       SUMIDA\n",
       "1126     QUICKLAG\n",
       "1127          SAL\n",
       "1128      MOELLER\n",
       "\n",
       "[1129 rows x 1 columns]"
      ]
     },
     "execution_count": 2,
     "metadata": {},
     "output_type": "execute_result"
    }
   ],
   "source": [
    "df = pd.read_csv(\"unique_values.csv\")\n",
    "df"
   ]
  },
  {
   "cell_type": "code",
   "execution_count": 3,
   "id": "b599b940",
   "metadata": {},
   "outputs": [],
   "source": [
    "import csv\n",
    "import difflib  # For string similarity, you can also use other libraries like fuzzywuzzy\n"
   ]
  },
  {
   "cell_type": "code",
   "execution_count": 9,
   "id": "e7c1ff29",
   "metadata": {},
   "outputs": [],
   "source": [
    "# Your variable holding a value\n",
    "your_variable = \"HITACHI AIR CONDITIONING\"\n",
    "\n",
    "# Path to the CSV file\n",
    "csv_file_path = \"Manufacturer.csv\""
   ]
  },
  {
   "cell_type": "code",
   "execution_count": 10,
   "id": "92e781e0",
   "metadata": {},
   "outputs": [
    {
     "ename": "IndexError",
     "evalue": "list index out of range",
     "output_type": "error",
     "traceback": [
      "\u001b[1;31m---------------------------------------------------------------------------\u001b[0m",
      "\u001b[1;31mIndexError\u001b[0m                                Traceback (most recent call last)",
      "\u001b[1;32m~\\AppData\\Local\\Temp\\ipykernel_12612\\2338711405.py\u001b[0m in \u001b[0;36m<module>\u001b[1;34m\u001b[0m\n\u001b[0;32m     19\u001b[0m \u001b[1;33m\u001b[0m\u001b[0m\n\u001b[0;32m     20\u001b[0m \u001b[1;31m# Find the most similar value\u001b[0m\u001b[1;33m\u001b[0m\u001b[1;33m\u001b[0m\u001b[0m\n\u001b[1;32m---> 21\u001b[1;33m \u001b[0mmost_similar_value\u001b[0m \u001b[1;33m=\u001b[0m \u001b[0mfind_most_similar_value\u001b[0m\u001b[1;33m(\u001b[0m\u001b[0myour_variable\u001b[0m\u001b[1;33m,\u001b[0m \u001b[0mcsv_file_path\u001b[0m\u001b[1;33m)\u001b[0m\u001b[1;33m\u001b[0m\u001b[1;33m\u001b[0m\u001b[0m\n\u001b[0m\u001b[0;32m     22\u001b[0m \u001b[1;33m\u001b[0m\u001b[0m\n\u001b[0;32m     23\u001b[0m \u001b[0mprint\u001b[0m\u001b[1;33m(\u001b[0m\u001b[1;34mf\"The most similar value in the CSV file is: {most_similar_value}\"\u001b[0m\u001b[1;33m)\u001b[0m\u001b[1;33m\u001b[0m\u001b[1;33m\u001b[0m\u001b[0m\n",
      "\u001b[1;32m~\\AppData\\Local\\Temp\\ipykernel_12612\\2338711405.py\u001b[0m in \u001b[0;36mfind_most_similar_value\u001b[1;34m(variable, csv_file_path)\u001b[0m\n\u001b[0;32m      8\u001b[0m \u001b[1;33m\u001b[0m\u001b[0m\n\u001b[0;32m      9\u001b[0m     \u001b[1;31m# Calculate similarity using difflib's SequenceMatcher for the first word\u001b[0m\u001b[1;33m\u001b[0m\u001b[1;33m\u001b[0m\u001b[0m\n\u001b[1;32m---> 10\u001b[1;33m     \u001b[0msimilarities\u001b[0m \u001b[1;33m=\u001b[0m \u001b[1;33m[\u001b[0m\u001b[0mdifflib\u001b[0m\u001b[1;33m.\u001b[0m\u001b[0mSequenceMatcher\u001b[0m\u001b[1;33m(\u001b[0m\u001b[1;32mNone\u001b[0m\u001b[1;33m,\u001b[0m \u001b[0mvariable_first_word\u001b[0m\u001b[1;33m,\u001b[0m \u001b[0mcsv_value\u001b[0m\u001b[1;33m.\u001b[0m\u001b[0msplit\u001b[0m\u001b[1;33m(\u001b[0m\u001b[1;33m)\u001b[0m\u001b[1;33m[\u001b[0m\u001b[1;36m0\u001b[0m\u001b[1;33m]\u001b[0m\u001b[1;33m)\u001b[0m\u001b[1;33m.\u001b[0m\u001b[0mratio\u001b[0m\u001b[1;33m(\u001b[0m\u001b[1;33m)\u001b[0m \u001b[1;32mfor\u001b[0m \u001b[0mcsv_value\u001b[0m \u001b[1;32min\u001b[0m \u001b[0mcsv_values\u001b[0m\u001b[1;33m]\u001b[0m\u001b[1;33m\u001b[0m\u001b[1;33m\u001b[0m\u001b[0m\n\u001b[0m\u001b[0;32m     11\u001b[0m \u001b[1;33m\u001b[0m\u001b[0m\n\u001b[0;32m     12\u001b[0m     \u001b[1;31m# Find the index of the maximum similarity\u001b[0m\u001b[1;33m\u001b[0m\u001b[1;33m\u001b[0m\u001b[0m\n",
      "\u001b[1;32m~\\AppData\\Local\\Temp\\ipykernel_12612\\2338711405.py\u001b[0m in \u001b[0;36m<listcomp>\u001b[1;34m(.0)\u001b[0m\n\u001b[0;32m      8\u001b[0m \u001b[1;33m\u001b[0m\u001b[0m\n\u001b[0;32m      9\u001b[0m     \u001b[1;31m# Calculate similarity using difflib's SequenceMatcher for the first word\u001b[0m\u001b[1;33m\u001b[0m\u001b[1;33m\u001b[0m\u001b[0m\n\u001b[1;32m---> 10\u001b[1;33m     \u001b[0msimilarities\u001b[0m \u001b[1;33m=\u001b[0m \u001b[1;33m[\u001b[0m\u001b[0mdifflib\u001b[0m\u001b[1;33m.\u001b[0m\u001b[0mSequenceMatcher\u001b[0m\u001b[1;33m(\u001b[0m\u001b[1;32mNone\u001b[0m\u001b[1;33m,\u001b[0m \u001b[0mvariable_first_word\u001b[0m\u001b[1;33m,\u001b[0m \u001b[0mcsv_value\u001b[0m\u001b[1;33m.\u001b[0m\u001b[0msplit\u001b[0m\u001b[1;33m(\u001b[0m\u001b[1;33m)\u001b[0m\u001b[1;33m[\u001b[0m\u001b[1;36m0\u001b[0m\u001b[1;33m]\u001b[0m\u001b[1;33m)\u001b[0m\u001b[1;33m.\u001b[0m\u001b[0mratio\u001b[0m\u001b[1;33m(\u001b[0m\u001b[1;33m)\u001b[0m \u001b[1;32mfor\u001b[0m \u001b[0mcsv_value\u001b[0m \u001b[1;32min\u001b[0m \u001b[0mcsv_values\u001b[0m\u001b[1;33m]\u001b[0m\u001b[1;33m\u001b[0m\u001b[1;33m\u001b[0m\u001b[0m\n\u001b[0m\u001b[0;32m     11\u001b[0m \u001b[1;33m\u001b[0m\u001b[0m\n\u001b[0;32m     12\u001b[0m     \u001b[1;31m# Find the index of the maximum similarity\u001b[0m\u001b[1;33m\u001b[0m\u001b[1;33m\u001b[0m\u001b[0m\n",
      "\u001b[1;31mIndexError\u001b[0m: list index out of range"
     ]
    }
   ],
   "source": [
    "def find_most_similar_value(variable, csv_file_path):\n",
    "    with open(csv_file_path, 'r') as csvfile:\n",
    "        reader = csv.reader(csvfile)\n",
    "        csv_values = [row[0] for row in reader]  # Assuming the values are in the first column\n",
    "\n",
    "    # Split the variable into words and consider only the first word\n",
    "    variable_first_word = variable.split()[0]\n",
    "\n",
    "    # Calculate similarity using difflib's SequenceMatcher for the first word\n",
    "    similarities = [difflib.SequenceMatcher(None, variable_first_word, csv_value.split()[0]).ratio() for csv_value in csv_values]\n",
    "\n",
    "    # Find the index of the maximum similarity\n",
    "    max_similarity_index = similarities.index(max(similarities))\n",
    "\n",
    "    # Get the most similar value from the CSV file\n",
    "    most_similar_value = csv_values[max_similarity_index]\n",
    "\n",
    "    return most_similar_value\n",
    "\n",
    "# Find the most similar value\n",
    "most_similar_value = find_most_similar_value(your_variable, csv_file_path)\n",
    "\n",
    "print(f\"The most similar value in the CSV file is: {most_similar_value}\")"
   ]
  },
  {
   "cell_type": "code",
   "execution_count": 22,
   "id": "3cc39c0a",
   "metadata": {},
   "outputs": [],
   "source": [
    "your_variable = \"HITACHI\""
   ]
  },
  {
   "cell_type": "code",
   "execution_count": 23,
   "id": "8baaa52b",
   "metadata": {},
   "outputs": [
    {
     "name": "stdout",
     "output_type": "stream",
     "text": [
      "The most similar value in the CSV file is: HITACHI\n"
     ]
    }
   ],
   "source": [
    "# Read CSV file and find the most similar value\n",
    "def find_most_similar_value(variable, csv_file_path):\n",
    "    with open(csv_file_path, 'r') as csvfile:\n",
    "        reader = csv.reader(csvfile)\n",
    "        csv_values = [row[0] for row in reader]\n",
    "\n",
    "    if not csv_values:\n",
    "        print(\"CSV file is empty.\")\n",
    "        return None\n",
    "    \n",
    "    variable = variable.split()[0]\n",
    "    # Calculate similarity using difflib's SequenceMatcher\n",
    "    similarities = [difflib.SequenceMatcher(None, variable, csv_value).ratio() for csv_value in csv_values]\n",
    "\n",
    "    # Find the index of the maximum similarity\n",
    "    max_similarity_index = similarities.index(max(similarities))\n",
    "\n",
    "    # Get the most similar value from the CSV file\n",
    "    most_similar_value = csv_values[max_similarity_index]\n",
    "\n",
    "    return most_similar_value\n",
    "\n",
    "# Find the most similar value\n",
    "most_similar_value = find_most_similar_value(your_variable, csv_file_path)\n",
    "\n",
    "if most_similar_value is not None:\n",
    "    print(f\"The most similar value in the CSV file is: {most_similar_value}\")"
   ]
  },
  {
   "cell_type": "code",
   "execution_count": null,
   "id": "227959e5",
   "metadata": {},
   "outputs": [],
   "source": []
  }
 ],
 "metadata": {
  "kernelspec": {
   "display_name": "Python 3 (ipykernel)",
   "language": "python",
   "name": "python3"
  },
  "language_info": {
   "codemirror_mode": {
    "name": "ipython",
    "version": 3
   },
   "file_extension": ".py",
   "mimetype": "text/x-python",
   "name": "python",
   "nbconvert_exporter": "python",
   "pygments_lexer": "ipython3",
   "version": "3.9.13"
  }
 },
 "nbformat": 4,
 "nbformat_minor": 5
}
