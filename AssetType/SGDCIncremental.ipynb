{
 "cells": [
  {
   "cell_type": "code",
   "execution_count": 1,
   "id": "19cbc7c0",
   "metadata": {},
   "outputs": [],
   "source": [
    "import pandas as pd\n",
    "from sklearn.model_selection import train_test_split\n",
    "from sklearn.ensemble import RandomForestClassifier\n",
    "from sklearn.preprocessing import LabelEncoder\n",
    "from sklearn.impute import SimpleImputer\n",
    "from sklearn.metrics import accuracy_score, classification_report, confusion_matrix\n",
    "import numpy as np"
   ]
  },
  {
   "cell_type": "code",
   "execution_count": 2,
   "id": "6c57c391",
   "metadata": {},
   "outputs": [],
   "source": [
    "# Load the dataset\n",
    "dataset = 'Asset.xlsx'\n",
    "df = pd.read_excel(dataset)\n"
   ]
  },
  {
   "cell_type": "code",
   "execution_count": 4,
   "id": "e823a81d",
   "metadata": {},
   "outputs": [],
   "source": [
    "X = df.iloc[:, 1:-1]\n",
    "y = df['AssetType']"
   ]
  },
  {
   "cell_type": "code",
   "execution_count": 5,
   "id": "07ebda74",
   "metadata": {},
   "outputs": [
    {
     "data": {
      "text/html": [
       "<div>\n",
       "<style scoped>\n",
       "    .dataframe tbody tr th:only-of-type {\n",
       "        vertical-align: middle;\n",
       "    }\n",
       "\n",
       "    .dataframe tbody tr th {\n",
       "        vertical-align: top;\n",
       "    }\n",
       "\n",
       "    .dataframe thead th {\n",
       "        text-align: right;\n",
       "    }\n",
       "</style>\n",
       "<table border=\"1\" class=\"dataframe\">\n",
       "  <thead>\n",
       "    <tr style=\"text-align: right;\">\n",
       "      <th></th>\n",
       "      <th>SerialNo</th>\n",
       "      <th>Manufacturer</th>\n",
       "      <th>ModelNbr</th>\n",
       "      <th>Refrigerant</th>\n",
       "      <th>RefrigerantQty</th>\n",
       "    </tr>\n",
       "  </thead>\n",
       "  <tbody>\n",
       "    <tr>\n",
       "      <th>0</th>\n",
       "      <td>NaN</td>\n",
       "      <td>NaN</td>\n",
       "      <td>NaN</td>\n",
       "      <td>NaN</td>\n",
       "      <td>NaN</td>\n",
       "    </tr>\n",
       "    <tr>\n",
       "      <th>1</th>\n",
       "      <td>NaN</td>\n",
       "      <td>NaN</td>\n",
       "      <td>NaN</td>\n",
       "      <td>NaN</td>\n",
       "      <td>NaN</td>\n",
       "    </tr>\n",
       "    <tr>\n",
       "      <th>2</th>\n",
       "      <td>NaN</td>\n",
       "      <td>NaN</td>\n",
       "      <td>NaN</td>\n",
       "      <td>NaN</td>\n",
       "      <td>NaN</td>\n",
       "    </tr>\n",
       "    <tr>\n",
       "      <th>3</th>\n",
       "      <td>0</td>\n",
       "      <td>NaN</td>\n",
       "      <td>O</td>\n",
       "      <td>NaN</td>\n",
       "      <td>NaN</td>\n",
       "    </tr>\n",
       "    <tr>\n",
       "      <th>4</th>\n",
       "      <td>NaN</td>\n",
       "      <td>NaN</td>\n",
       "      <td>FRENGER</td>\n",
       "      <td>NaN</td>\n",
       "      <td>NaN</td>\n",
       "    </tr>\n",
       "  </tbody>\n",
       "</table>\n",
       "</div>"
      ],
      "text/plain": [
       "  SerialNo Manufacturer ModelNbr Refrigerant  RefrigerantQty\n",
       "0      NaN          NaN      NaN         NaN             NaN\n",
       "1      NaN          NaN      NaN         NaN             NaN\n",
       "2      NaN          NaN      NaN         NaN             NaN\n",
       "3        0          NaN        O         NaN             NaN\n",
       "4      NaN          NaN  FRENGER         NaN             NaN"
      ]
     },
     "execution_count": 5,
     "metadata": {},
     "output_type": "execute_result"
    }
   ],
   "source": [
    "X.head()"
   ]
  },
  {
   "cell_type": "code",
   "execution_count": 7,
   "id": "d53816d5",
   "metadata": {},
   "outputs": [],
   "source": [
    "# Replace special values with pd.NA\n",
    "special_values = ['NA', 'NULL', 'UNKNOWN', 'UNABLE TO LOCATE', 'NO ID', 'NO ACCESS', 'UNKOWN', 'NaN', 'na']\n",
    "for column in X.columns:\n",
    "    X[column] = X[column].replace(special_values, pd.NA)"
   ]
  },
  {
   "cell_type": "code",
   "execution_count": 8,
   "id": "8ab39412",
   "metadata": {},
   "outputs": [],
   "source": [
    "# Label encoding for both X and y\n",
    "label_encoder = LabelEncoder()\n",
    "\n",
    "for column in X.select_dtypes(include=['object']).columns:\n",
    "    X[column] = label_encoder.fit_transform(X[column].astype(str))\n",
    "\n",
    "y = label_encoder.fit_transform(y.astype(str))"
   ]
  },
  {
   "cell_type": "code",
   "execution_count": 9,
   "id": "e745b452",
   "metadata": {},
   "outputs": [
    {
     "name": "stderr",
     "output_type": "stream",
     "text": [
      "C:\\ML\\lib\\site-packages\\sklearn\\impute\\_base.py:49: FutureWarning: Unlike other reduction functions (e.g. `skew`, `kurtosis`), the default behavior of `mode` typically preserves the axis it acts along. In SciPy 1.11.0, this behavior will change: the default value of `keepdims` will become False, the `axis` over which the statistic is taken will be eliminated, and the value None will no longer be accepted. Set `keepdims` to True or False to avoid this warning.\n",
      "  mode = stats.mode(array)\n"
     ]
    }
   ],
   "source": [
    "# Impute missing values\n",
    "imputer = SimpleImputer(strategy='most_frequent')\n",
    "X_imputed = pd.DataFrame(imputer.fit_transform(X), columns=X.columns)"
   ]
  },
  {
   "cell_type": "code",
   "execution_count": 10,
   "id": "a8184fca",
   "metadata": {},
   "outputs": [],
   "source": [
    "# Split the dataset into chunks\n",
    "chunk_size = 0.2\n",
    "num_chunks = int(np.ceil(len(X_imputed) / (len(X_imputed) * chunk_size)))\n",
    "chunks = np.array_split(np.arange(len(X_imputed)), num_chunks)"
   ]
  },
  {
   "cell_type": "code",
   "execution_count": 11,
   "id": "8d2f3e9e",
   "metadata": {},
   "outputs": [],
   "source": [
    "# Initialize the model\n",
    "rf_classifier = RandomForestClassifier(n_estimators=100, random_state=42)\n"
   ]
  },
  {
   "cell_type": "code",
   "execution_count": 13,
   "id": "ffebd41e",
   "metadata": {},
   "outputs": [],
   "source": [
    "# Split y into chunks\n",
    "y_chunks = np.array_split(y, num_chunks)"
   ]
  },
  {
   "cell_type": "code",
   "execution_count": 14,
   "id": "9f84d62f",
   "metadata": {},
   "outputs": [
    {
     "ename": "AttributeError",
     "evalue": "'RandomForestClassifier' object has no attribute 'partial_fit'",
     "output_type": "error",
     "traceback": [
      "\u001b[1;31m---------------------------------------------------------------------------\u001b[0m",
      "\u001b[1;31mAttributeError\u001b[0m                            Traceback (most recent call last)",
      "\u001b[1;32m~\\AppData\\Local\\Temp\\ipykernel_20112\\2207143748.py\u001b[0m in \u001b[0;36m<module>\u001b[1;34m\u001b[0m\n\u001b[0;32m      4\u001b[0m \u001b[1;33m\u001b[0m\u001b[0m\n\u001b[0;32m      5\u001b[0m     \u001b[1;31m# Train the model on the current chunk\u001b[0m\u001b[1;33m\u001b[0m\u001b[1;33m\u001b[0m\u001b[0m\n\u001b[1;32m----> 6\u001b[1;33m     \u001b[0mrf_classifier\u001b[0m\u001b[1;33m.\u001b[0m\u001b[0mpartial_fit\u001b[0m\u001b[1;33m(\u001b[0m\u001b[0mX_chunk\u001b[0m\u001b[1;33m,\u001b[0m \u001b[0my_chunk\u001b[0m\u001b[1;33m,\u001b[0m \u001b[0mclasses\u001b[0m\u001b[1;33m=\u001b[0m\u001b[0mnp\u001b[0m\u001b[1;33m.\u001b[0m\u001b[0munique\u001b[0m\u001b[1;33m(\u001b[0m\u001b[0my\u001b[0m\u001b[1;33m)\u001b[0m\u001b[1;33m)\u001b[0m\u001b[1;33m\u001b[0m\u001b[1;33m\u001b[0m\u001b[0m\n\u001b[0m\u001b[0;32m      7\u001b[0m \u001b[1;33m\u001b[0m\u001b[0m\n\u001b[0;32m      8\u001b[0m     \u001b[1;31m# Evaluate the model on the test set\u001b[0m\u001b[1;33m\u001b[0m\u001b[1;33m\u001b[0m\u001b[0m\n",
      "\u001b[1;31mAttributeError\u001b[0m: 'RandomForestClassifier' object has no attribute 'partial_fit'"
     ]
    }
   ],
   "source": [
    "# Iterate over each chunk and train the model\n",
    "for i, (chunk_indices, y_chunk) in enumerate(zip(chunks, y_chunks), 1):\n",
    "    X_chunk = X_imputed.iloc[chunk_indices]\n",
    "    \n",
    "    # Train the model on the current chunk\n",
    "    rf_classifier.partial_fit(X_chunk, y_chunk, classes=np.unique(y))\n",
    "    \n",
    "    # Evaluate the model on the test set\n",
    "    y_pred_encoded = rf_classifier.predict(X_test)\n",
    "    y_pred_actual = label_encoder.inverse_transform(y_pred_encoded)\n",
    "\n",
    "    # Calculate accuracy\n",
    "    accuracy = accuracy_score(y_test, y_pred_encoded)\n",
    "    print(f\"Accuracy after chunk {i}: {accuracy}\")"
   ]
  },
  {
   "cell_type": "code",
   "execution_count": 15,
   "id": "6bd0f8d4",
   "metadata": {},
   "outputs": [],
   "source": [
    "from sklearn.linear_model import SGDClassifier"
   ]
  },
  {
   "cell_type": "code",
   "execution_count": 16,
   "id": "2f69f7ea",
   "metadata": {},
   "outputs": [],
   "source": [
    "# Initialize the model\n",
    "sgd_classifier = SGDClassifier()"
   ]
  },
  {
   "cell_type": "code",
   "execution_count": 18,
   "id": "da6d02d4",
   "metadata": {},
   "outputs": [],
   "source": [
    "# Split the data into training and testing sets\n",
    "X_train, X_test, y_train, y_test = train_test_split(X_imputed, y, test_size=0.2, random_state=42)"
   ]
  },
  {
   "cell_type": "code",
   "execution_count": 19,
   "id": "a3ced59f",
   "metadata": {},
   "outputs": [
    {
     "name": "stdout",
     "output_type": "stream",
     "text": [
      "Accuracy after chunk 1: 0.009358080642092335\n",
      "Accuracy after chunk 2: 0.00951376035702548\n",
      "Accuracy after chunk 3: 0.008078047430419816\n",
      "Accuracy after chunk 4: 0.046340661811765924\n",
      "Accuracy after chunk 5: 0.00205843178633824\n"
     ]
    }
   ],
   "source": [
    "# Iterate over each chunk and train the model\n",
    "for i, (chunk_indices, y_chunk) in enumerate(zip(chunks, y_chunks), 1):\n",
    "    X_chunk = X_imputed.iloc[chunk_indices]\n",
    "    \n",
    "    # Train the model on the current chunk\n",
    "    sgd_classifier.partial_fit(X_chunk, y_chunk, classes=np.unique(y))\n",
    "    \n",
    "    # Evaluate the model on the test set\n",
    "    y_pred_encoded = sgd_classifier.predict(X_test)\n",
    "    y_pred_actual = label_encoder.inverse_transform(y_pred_encoded)\n",
    "\n",
    "    # Calculate accuracy\n",
    "    accuracy = accuracy_score(y_test, y_pred_encoded)\n",
    "    print(f\"Accuracy after chunk {i}: {accuracy}\")"
   ]
  },
  {
   "cell_type": "code",
   "execution_count": null,
   "id": "aee74127",
   "metadata": {},
   "outputs": [],
   "source": []
  }
 ],
 "metadata": {
  "kernelspec": {
   "display_name": "Python 3 (ipykernel)",
   "language": "python",
   "name": "python3"
  },
  "language_info": {
   "codemirror_mode": {
    "name": "ipython",
    "version": 3
   },
   "file_extension": ".py",
   "mimetype": "text/x-python",
   "name": "python",
   "nbconvert_exporter": "python",
   "pygments_lexer": "ipython3",
   "version": "3.9.13"
  }
 },
 "nbformat": 4,
 "nbformat_minor": 5
}
