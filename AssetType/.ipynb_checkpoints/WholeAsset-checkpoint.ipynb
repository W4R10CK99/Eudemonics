{
 "cells": [
  {
   "cell_type": "code",
   "execution_count": 1,
   "id": "e7384082",
   "metadata": {},
   "outputs": [],
   "source": [
    "import pandas as pd\n",
    "from sklearn.model_selection import train_test_split\n",
    "from sklearn.tree import DecisionTreeClassifier\n",
    "from sklearn.ensemble import RandomForestClassifier\n",
    "from sklearn.preprocessing import LabelEncoder\n",
    "from sklearn.impute import SimpleImputer\n",
    "from sklearn.metrics import accuracy_score, classification_report, confusion_matrix"
   ]
  },
  {
   "cell_type": "code",
   "execution_count": 2,
   "id": "e2dd3d54",
   "metadata": {},
   "outputs": [],
   "source": [
    "# Load the dataset\n",
    "dataset = 'Asset.xlsx'\n",
    "df = pd.read_excel(dataset)\n",
    "X = df.iloc[:, 1:]\n",
    "y = df['AssetType']"
   ]
  },
  {
   "cell_type": "code",
   "execution_count": 3,
   "id": "c7aadb12",
   "metadata": {},
   "outputs": [
    {
     "data": {
      "text/html": [
       "<div>\n",
       "<style scoped>\n",
       "    .dataframe tbody tr th:only-of-type {\n",
       "        vertical-align: middle;\n",
       "    }\n",
       "\n",
       "    .dataframe tbody tr th {\n",
       "        vertical-align: top;\n",
       "    }\n",
       "\n",
       "    .dataframe thead th {\n",
       "        text-align: right;\n",
       "    }\n",
       "</style>\n",
       "<table border=\"1\" class=\"dataframe\">\n",
       "  <thead>\n",
       "    <tr style=\"text-align: right;\">\n",
       "      <th></th>\n",
       "      <th>SerialNo</th>\n",
       "      <th>Manufacturer</th>\n",
       "      <th>ModelNbr</th>\n",
       "    </tr>\n",
       "  </thead>\n",
       "  <tbody>\n",
       "    <tr>\n",
       "      <th>0</th>\n",
       "      <td>NaN</td>\n",
       "      <td>NaN</td>\n",
       "      <td>NaN</td>\n",
       "    </tr>\n",
       "    <tr>\n",
       "      <th>1</th>\n",
       "      <td>NaN</td>\n",
       "      <td>NaN</td>\n",
       "      <td>NaN</td>\n",
       "    </tr>\n",
       "    <tr>\n",
       "      <th>2</th>\n",
       "      <td>NaN</td>\n",
       "      <td>NaN</td>\n",
       "      <td>NaN</td>\n",
       "    </tr>\n",
       "    <tr>\n",
       "      <th>3</th>\n",
       "      <td>0</td>\n",
       "      <td>NaN</td>\n",
       "      <td>O</td>\n",
       "    </tr>\n",
       "    <tr>\n",
       "      <th>4</th>\n",
       "      <td>NaN</td>\n",
       "      <td>NaN</td>\n",
       "      <td>FRENGER</td>\n",
       "    </tr>\n",
       "  </tbody>\n",
       "</table>\n",
       "</div>"
      ],
      "text/plain": [
       "  SerialNo Manufacturer ModelNbr\n",
       "0      NaN          NaN      NaN\n",
       "1      NaN          NaN      NaN\n",
       "2      NaN          NaN      NaN\n",
       "3        0          NaN        O\n",
       "4      NaN          NaN  FRENGER"
      ]
     },
     "execution_count": 3,
     "metadata": {},
     "output_type": "execute_result"
    }
   ],
   "source": [
    "X.head()"
   ]
  },
  {
   "cell_type": "code",
   "execution_count": 4,
   "id": "a334b047",
   "metadata": {},
   "outputs": [
    {
     "data": {
      "text/plain": [
       "0    CHILLED BEAMS - PASSIVE\n",
       "1    CHILLED BEAMS - PASSIVE\n",
       "2    CHILLED BEAMS - PASSIVE\n",
       "3    CHILLED BEAMS - PASSIVE\n",
       "4    CHILLED BEAMS - PASSIVE\n",
       "Name: AssetType, dtype: object"
      ]
     },
     "execution_count": 4,
     "metadata": {},
     "output_type": "execute_result"
    }
   ],
   "source": [
    "y.head()"
   ]
  },
  {
   "cell_type": "code",
   "execution_count": 5,
   "id": "f3793fd4",
   "metadata": {},
   "outputs": [],
   "source": [
    "special_values = [1234, 'UNKOWN', 'Unknown', 'NA', 'NULL', 'UNKNOWN', 'TBA', 'N/A', 'NOT VISIBLE', '123TEST', 'UNABLE TO LOCATE', 'NO ID', 'NO ACCESS', 'UNKOWN', 'NaN', 'na', 'AS PER PICS']\n",
    "\n",
    "# Create a copy of the DataFrame to avoid SettingWithCopyWarning\n",
    "X_copy = X.copy()\n",
    "\n",
    "# Replace values using .loc to avoid SettingWithCopyWarning\n",
    "X_copy.loc[:, 'SerialNo'] = X_copy['SerialNo'].replace(special_values, pd.NA)\n",
    "X_copy.loc[:, 'Manufacturer'] = X_copy['Manufacturer'].replace(special_values, pd.NA)\n",
    "X_copy.loc[:, 'ModelNbr'] = X_copy['ModelNbr'].replace(special_values, pd.NA)\n",
    "\n",
    "# Now X_copy contains the modified DataFrame"
   ]
  },
  {
   "cell_type": "code",
   "execution_count": 6,
   "id": "fb3f4924",
   "metadata": {},
   "outputs": [],
   "source": [
    "X = X_copy"
   ]
  },
  {
   "cell_type": "code",
   "execution_count": 7,
   "id": "9ab19dca",
   "metadata": {},
   "outputs": [
    {
     "data": {
      "text/html": [
       "<div>\n",
       "<style scoped>\n",
       "    .dataframe tbody tr th:only-of-type {\n",
       "        vertical-align: middle;\n",
       "    }\n",
       "\n",
       "    .dataframe tbody tr th {\n",
       "        vertical-align: top;\n",
       "    }\n",
       "\n",
       "    .dataframe thead th {\n",
       "        text-align: right;\n",
       "    }\n",
       "</style>\n",
       "<table border=\"1\" class=\"dataframe\">\n",
       "  <thead>\n",
       "    <tr style=\"text-align: right;\">\n",
       "      <th></th>\n",
       "      <th>SerialNo</th>\n",
       "      <th>Manufacturer</th>\n",
       "      <th>ModelNbr</th>\n",
       "    </tr>\n",
       "  </thead>\n",
       "  <tbody>\n",
       "    <tr>\n",
       "      <th>0</th>\n",
       "      <td>NaN</td>\n",
       "      <td>NaN</td>\n",
       "      <td>NaN</td>\n",
       "    </tr>\n",
       "    <tr>\n",
       "      <th>1</th>\n",
       "      <td>NaN</td>\n",
       "      <td>NaN</td>\n",
       "      <td>NaN</td>\n",
       "    </tr>\n",
       "    <tr>\n",
       "      <th>2</th>\n",
       "      <td>NaN</td>\n",
       "      <td>NaN</td>\n",
       "      <td>NaN</td>\n",
       "    </tr>\n",
       "    <tr>\n",
       "      <th>3</th>\n",
       "      <td>0</td>\n",
       "      <td>NaN</td>\n",
       "      <td>O</td>\n",
       "    </tr>\n",
       "    <tr>\n",
       "      <th>4</th>\n",
       "      <td>NaN</td>\n",
       "      <td>NaN</td>\n",
       "      <td>FRENGER</td>\n",
       "    </tr>\n",
       "    <tr>\n",
       "      <th>...</th>\n",
       "      <td>...</td>\n",
       "      <td>...</td>\n",
       "      <td>...</td>\n",
       "    </tr>\n",
       "    <tr>\n",
       "      <th>289048</th>\n",
       "      <td>3163605860</td>\n",
       "      <td>ABB</td>\n",
       "      <td>ACH550</td>\n",
       "    </tr>\n",
       "    <tr>\n",
       "      <th>289049</th>\n",
       "      <td>3163605907</td>\n",
       "      <td>ABB</td>\n",
       "      <td>ACH550</td>\n",
       "    </tr>\n",
       "    <tr>\n",
       "      <th>289050</th>\n",
       "      <td>3163006120</td>\n",
       "      <td>ABB</td>\n",
       "      <td>ACH550</td>\n",
       "    </tr>\n",
       "    <tr>\n",
       "      <th>289051</th>\n",
       "      <td>42237A0264</td>\n",
       "      <td>ABB</td>\n",
       "      <td>ACH580</td>\n",
       "    </tr>\n",
       "    <tr>\n",
       "      <th>289052</th>\n",
       "      <td>611247:1</td>\n",
       "      <td>FANTECH</td>\n",
       "      <td>AP0564LP9B015</td>\n",
       "    </tr>\n",
       "  </tbody>\n",
       "</table>\n",
       "<p>289053 rows × 3 columns</p>\n",
       "</div>"
      ],
      "text/plain": [
       "          SerialNo Manufacturer       ModelNbr\n",
       "0              NaN          NaN            NaN\n",
       "1              NaN          NaN            NaN\n",
       "2              NaN          NaN            NaN\n",
       "3                0          NaN              O\n",
       "4              NaN          NaN        FRENGER\n",
       "...            ...          ...            ...\n",
       "289048  3163605860          ABB         ACH550\n",
       "289049  3163605907          ABB         ACH550\n",
       "289050  3163006120          ABB         ACH550\n",
       "289051  42237A0264          ABB         ACH580\n",
       "289052    611247:1      FANTECH  AP0564LP9B015\n",
       "\n",
       "[289053 rows x 3 columns]"
      ]
     },
     "execution_count": 7,
     "metadata": {},
     "output_type": "execute_result"
    }
   ],
   "source": [
    "X"
   ]
  },
  {
   "cell_type": "code",
   "execution_count": 8,
   "id": "eb2e1ac0",
   "metadata": {},
   "outputs": [],
   "source": [
    "label_encoder = LabelEncoder()\n",
    "for column in X.select_dtypes(include=['object']).columns:\n",
    "    X.loc[:, column] = label_encoder.fit_transform(X[column].astype(str))\n",
    "\n",
    "y = label_encoder.fit_transform(y.astype(str))"
   ]
  },
  {
   "cell_type": "code",
   "execution_count": 9,
   "id": "82968c35",
   "metadata": {},
   "outputs": [
    {
     "data": {
      "text/html": [
       "<div>\n",
       "<style scoped>\n",
       "    .dataframe tbody tr th:only-of-type {\n",
       "        vertical-align: middle;\n",
       "    }\n",
       "\n",
       "    .dataframe tbody tr th {\n",
       "        vertical-align: top;\n",
       "    }\n",
       "\n",
       "    .dataframe thead th {\n",
       "        text-align: right;\n",
       "    }\n",
       "</style>\n",
       "<table border=\"1\" class=\"dataframe\">\n",
       "  <thead>\n",
       "    <tr style=\"text-align: right;\">\n",
       "      <th></th>\n",
       "      <th>SerialNo</th>\n",
       "      <th>Manufacturer</th>\n",
       "      <th>ModelNbr</th>\n",
       "    </tr>\n",
       "  </thead>\n",
       "  <tbody>\n",
       "    <tr>\n",
       "      <th>0</th>\n",
       "      <td>110291</td>\n",
       "      <td>1127</td>\n",
       "      <td>56490</td>\n",
       "    </tr>\n",
       "    <tr>\n",
       "      <th>1</th>\n",
       "      <td>110291</td>\n",
       "      <td>1127</td>\n",
       "      <td>56490</td>\n",
       "    </tr>\n",
       "    <tr>\n",
       "      <th>2</th>\n",
       "      <td>110291</td>\n",
       "      <td>1127</td>\n",
       "      <td>56490</td>\n",
       "    </tr>\n",
       "    <tr>\n",
       "      <th>3</th>\n",
       "      <td>238</td>\n",
       "      <td>1127</td>\n",
       "      <td>37751</td>\n",
       "    </tr>\n",
       "    <tr>\n",
       "      <th>4</th>\n",
       "      <td>110291</td>\n",
       "      <td>1127</td>\n",
       "      <td>25761</td>\n",
       "    </tr>\n",
       "    <tr>\n",
       "      <th>...</th>\n",
       "      <td>...</td>\n",
       "      <td>...</td>\n",
       "      <td>...</td>\n",
       "    </tr>\n",
       "    <tr>\n",
       "      <th>289048</th>\n",
       "      <td>35124</td>\n",
       "      <td>5</td>\n",
       "      <td>8438</td>\n",
       "    </tr>\n",
       "    <tr>\n",
       "      <th>289049</th>\n",
       "      <td>35125</td>\n",
       "      <td>5</td>\n",
       "      <td>8438</td>\n",
       "    </tr>\n",
       "    <tr>\n",
       "      <th>289050</th>\n",
       "      <td>35066</td>\n",
       "      <td>5</td>\n",
       "      <td>8438</td>\n",
       "    </tr>\n",
       "    <tr>\n",
       "      <th>289051</th>\n",
       "      <td>44067</td>\n",
       "      <td>5</td>\n",
       "      <td>8973</td>\n",
       "    </tr>\n",
       "    <tr>\n",
       "      <th>289052</th>\n",
       "      <td>54923</td>\n",
       "      <td>394</td>\n",
       "      <td>11426</td>\n",
       "    </tr>\n",
       "  </tbody>\n",
       "</table>\n",
       "<p>289053 rows × 3 columns</p>\n",
       "</div>"
      ],
      "text/plain": [
       "        SerialNo  Manufacturer  ModelNbr\n",
       "0         110291          1127     56490\n",
       "1         110291          1127     56490\n",
       "2         110291          1127     56490\n",
       "3            238          1127     37751\n",
       "4         110291          1127     25761\n",
       "...          ...           ...       ...\n",
       "289048     35124             5      8438\n",
       "289049     35125             5      8438\n",
       "289050     35066             5      8438\n",
       "289051     44067             5      8973\n",
       "289052     54923           394     11426\n",
       "\n",
       "[289053 rows x 3 columns]"
      ]
     },
     "execution_count": 9,
     "metadata": {},
     "output_type": "execute_result"
    }
   ],
   "source": [
    "X"
   ]
  },
  {
   "cell_type": "code",
   "execution_count": 10,
   "id": "e27dba46",
   "metadata": {
    "scrolled": false
   },
   "outputs": [
    {
     "name": "stderr",
     "output_type": "stream",
     "text": [
      "C:\\ML\\lib\\site-packages\\sklearn\\impute\\_base.py:49: FutureWarning: Unlike other reduction functions (e.g. `skew`, `kurtosis`), the default behavior of `mode` typically preserves the axis it acts along. In SciPy 1.11.0, this behavior will change: the default value of `keepdims` will become False, the `axis` over which the statistic is taken will be eliminated, and the value None will no longer be accepted. Set `keepdims` to True or False to avoid this warning.\n",
      "  mode = stats.mode(array)\n"
     ]
    }
   ],
   "source": [
    "# Impute missing values\n",
    "imputer = SimpleImputer(strategy='most_frequent')\n",
    "X_imputed = pd.DataFrame(imputer.fit_transform(X), columns=X.columns)"
   ]
  },
  {
   "cell_type": "code",
   "execution_count": 11,
   "id": "26b8bc11",
   "metadata": {},
   "outputs": [
    {
     "data": {
      "text/html": [
       "<div>\n",
       "<style scoped>\n",
       "    .dataframe tbody tr th:only-of-type {\n",
       "        vertical-align: middle;\n",
       "    }\n",
       "\n",
       "    .dataframe tbody tr th {\n",
       "        vertical-align: top;\n",
       "    }\n",
       "\n",
       "    .dataframe thead th {\n",
       "        text-align: right;\n",
       "    }\n",
       "</style>\n",
       "<table border=\"1\" class=\"dataframe\">\n",
       "  <thead>\n",
       "    <tr style=\"text-align: right;\">\n",
       "      <th></th>\n",
       "      <th>SerialNo</th>\n",
       "      <th>Manufacturer</th>\n",
       "      <th>ModelNbr</th>\n",
       "    </tr>\n",
       "  </thead>\n",
       "  <tbody>\n",
       "    <tr>\n",
       "      <th>0</th>\n",
       "      <td>110291</td>\n",
       "      <td>1127</td>\n",
       "      <td>56490</td>\n",
       "    </tr>\n",
       "    <tr>\n",
       "      <th>1</th>\n",
       "      <td>110291</td>\n",
       "      <td>1127</td>\n",
       "      <td>56490</td>\n",
       "    </tr>\n",
       "    <tr>\n",
       "      <th>2</th>\n",
       "      <td>110291</td>\n",
       "      <td>1127</td>\n",
       "      <td>56490</td>\n",
       "    </tr>\n",
       "    <tr>\n",
       "      <th>3</th>\n",
       "      <td>238</td>\n",
       "      <td>1127</td>\n",
       "      <td>37751</td>\n",
       "    </tr>\n",
       "    <tr>\n",
       "      <th>4</th>\n",
       "      <td>110291</td>\n",
       "      <td>1127</td>\n",
       "      <td>25761</td>\n",
       "    </tr>\n",
       "    <tr>\n",
       "      <th>...</th>\n",
       "      <td>...</td>\n",
       "      <td>...</td>\n",
       "      <td>...</td>\n",
       "    </tr>\n",
       "    <tr>\n",
       "      <th>289048</th>\n",
       "      <td>35124</td>\n",
       "      <td>5</td>\n",
       "      <td>8438</td>\n",
       "    </tr>\n",
       "    <tr>\n",
       "      <th>289049</th>\n",
       "      <td>35125</td>\n",
       "      <td>5</td>\n",
       "      <td>8438</td>\n",
       "    </tr>\n",
       "    <tr>\n",
       "      <th>289050</th>\n",
       "      <td>35066</td>\n",
       "      <td>5</td>\n",
       "      <td>8438</td>\n",
       "    </tr>\n",
       "    <tr>\n",
       "      <th>289051</th>\n",
       "      <td>44067</td>\n",
       "      <td>5</td>\n",
       "      <td>8973</td>\n",
       "    </tr>\n",
       "    <tr>\n",
       "      <th>289052</th>\n",
       "      <td>54923</td>\n",
       "      <td>394</td>\n",
       "      <td>11426</td>\n",
       "    </tr>\n",
       "  </tbody>\n",
       "</table>\n",
       "<p>289053 rows × 3 columns</p>\n",
       "</div>"
      ],
      "text/plain": [
       "        SerialNo  Manufacturer  ModelNbr\n",
       "0         110291          1127     56490\n",
       "1         110291          1127     56490\n",
       "2         110291          1127     56490\n",
       "3            238          1127     37751\n",
       "4         110291          1127     25761\n",
       "...          ...           ...       ...\n",
       "289048     35124             5      8438\n",
       "289049     35125             5      8438\n",
       "289050     35066             5      8438\n",
       "289051     44067             5      8973\n",
       "289052     54923           394     11426\n",
       "\n",
       "[289053 rows x 3 columns]"
      ]
     },
     "execution_count": 11,
     "metadata": {},
     "output_type": "execute_result"
    }
   ],
   "source": [
    "X"
   ]
  },
  {
   "cell_type": "code",
   "execution_count": 12,
   "id": "11567983",
   "metadata": {},
   "outputs": [],
   "source": [
    "# Initial training subset\n",
    "initial_train_size = 20000\n",
    "X_train_initial, _, y_train_initial, _ = train_test_split(X_imputed, y, train_size=initial_train_size, random_state=42)"
   ]
  },
  {
   "cell_type": "code",
   "execution_count": 13,
   "id": "6d9f8fb1",
   "metadata": {},
   "outputs": [
    {
     "data": {
      "text/plain": [
       "RandomForestClassifier(random_state=63)"
      ]
     },
     "execution_count": 13,
     "metadata": {},
     "output_type": "execute_result"
    }
   ],
   "source": [
    "# Train the RandomForestClassifier on the initial subset\n",
    "rf_classifier = RandomForestClassifier(n_estimators=100, random_state=63)\n",
    "rf_classifier.fit(X_train_initial, y_train_initial)"
   ]
  },
  {
   "cell_type": "code",
   "execution_count": 14,
   "id": "83b6ca38",
   "metadata": {},
   "outputs": [],
   "source": [
    "chunk_size = 10000\n",
    "X_test_chunk, _, y_test_chunk, _ = train_test_split(X_imputed, y, test_size=chunk_size, random_state=42)\n",
    "y_pred_encoded = rf_classifier.predict(X_test_chunk)"
   ]
  },
  {
   "cell_type": "code",
   "execution_count": 15,
   "id": "ce4bf833",
   "metadata": {},
   "outputs": [
    {
     "name": "stdout",
     "output_type": "stream",
     "text": [
      "Accuracy on the chunk: 0.5094946121346124\n"
     ]
    }
   ],
   "source": [
    "accuracy = accuracy_score(y_test_chunk, y_pred_encoded)\n",
    "print(f\"Accuracy on the chunk: {accuracy}\")"
   ]
  },
  {
   "cell_type": "code",
   "execution_count": 16,
   "id": "f33347bf",
   "metadata": {},
   "outputs": [],
   "source": [
    "chunk_size1 = 5000\n",
    "X_test_chunk1, _, y_test_chunk1, _ = train_test_split(X_imputed, y, test_size=chunk_size1, random_state=63)\n",
    "y_pred_encoded1 = rf_classifier.predict(X_test_chunk1)"
   ]
  },
  {
   "cell_type": "code",
   "execution_count": 17,
   "id": "37f7ebde",
   "metadata": {},
   "outputs": [
    {
     "name": "stdout",
     "output_type": "stream",
     "text": [
      "Accuracy on the chunk: 0.5089261511056036\n"
     ]
    }
   ],
   "source": [
    "accuracy1 = accuracy_score(y_test_chunk1, y_pred_encoded1)\n",
    "print(f\"Accuracy on the chunk: {accuracy1}\")"
   ]
  },
  {
   "cell_type": "code",
   "execution_count": 18,
   "id": "d3a0842c",
   "metadata": {},
   "outputs": [],
   "source": [
    "import joblib"
   ]
  },
  {
   "cell_type": "code",
   "execution_count": 19,
   "id": "a4069b71",
   "metadata": {},
   "outputs": [
    {
     "data": {
      "text/plain": [
       "['rf_63_whole2']"
      ]
     },
     "execution_count": 19,
     "metadata": {},
     "output_type": "execute_result"
    }
   ],
   "source": [
    "modelName = 'rf_63_whole2'\n",
    "joblib.dump(rf_classifier, modelName)"
   ]
  },
  {
   "cell_type": "code",
   "execution_count": 20,
   "id": "0759b7eb",
   "metadata": {},
   "outputs": [
    {
     "data": {
      "text/plain": [
       "['label_encoder2.joblib']"
      ]
     },
     "execution_count": 20,
     "metadata": {},
     "output_type": "execute_result"
    }
   ],
   "source": [
    "encoder_name = 'label_encoder2.joblib'\n",
    "joblib.dump(label_encoder,encoder_name)"
   ]
  },
  {
   "cell_type": "code",
   "execution_count": 36,
   "id": "c0a27381",
   "metadata": {},
   "outputs": [],
   "source": [
    "import xgboost as xgb"
   ]
  },
  {
   "cell_type": "code",
   "execution_count": 22,
   "id": "e124297a",
   "metadata": {},
   "outputs": [],
   "source": [
    "# Train XGBoost on the same initial subset\n",
    "dtrain = xgb.DMatrix(X_train_initial, label=y_train_initial)\n",
    "param = {'max_depth': 6, 'objective': 'multi:softmax', 'num_class': len(label_encoder.classes_)}"
   ]
  },
  {
   "cell_type": "code",
   "execution_count": 23,
   "id": "1ff9d630",
   "metadata": {},
   "outputs": [],
   "source": [
    "num_round = 100\n",
    "xgb_classifier = xgb.train(param, dtrain, num_round)"
   ]
  },
  {
   "cell_type": "code",
   "execution_count": 24,
   "id": "f3cbacea",
   "metadata": {},
   "outputs": [],
   "source": [
    "# Test XGBoost on the same chunk\n",
    "dtest = xgb.DMatrix(X_test_chunk)\n",
    "y_pred_xgb_encoded = xgb_classifier.predict(dtest).astype(int)"
   ]
  },
  {
   "cell_type": "code",
   "execution_count": 25,
   "id": "38dc97e8",
   "metadata": {
    "scrolled": true
   },
   "outputs": [
    {
     "name": "stdout",
     "output_type": "stream",
     "text": [
      "Accuracy on the chunk (XGBoost): 0.33703633359971047\n"
     ]
    }
   ],
   "source": [
    "accuracy_xgb = accuracy_score(y_test_chunk, y_pred_xgb_encoded)\n",
    "print(f\"Accuracy on the chunk (XGBoost): {accuracy_xgb}\")"
   ]
  },
  {
   "cell_type": "code",
   "execution_count": 26,
   "id": "2453a4c4",
   "metadata": {},
   "outputs": [],
   "source": [
    "# Test XGBoost on the same chunk 5000\n",
    "dtest = xgb.DMatrix(X_test_chunk1)\n",
    "y_pred_xgb_encoded1 = xgb_classifier.predict(dtest).astype(int)"
   ]
  },
  {
   "cell_type": "code",
   "execution_count": 27,
   "id": "1f54f750",
   "metadata": {},
   "outputs": [
    {
     "name": "stdout",
     "output_type": "stream",
     "text": [
      "Accuracy on the chunk (XGBoost): 0.33688783431261066\n"
     ]
    }
   ],
   "source": [
    "accuracy_xgb1 = accuracy_score(y_test_chunk1, y_pred_xgb_encoded1)\n",
    "print(f\"Accuracy on the chunk (XGBoost): {accuracy_xgb1}\")"
   ]
  },
  {
   "cell_type": "code",
   "execution_count": null,
   "id": "4021b9f1",
   "metadata": {},
   "outputs": [],
   "source": []
  }
 ],
 "metadata": {
  "kernelspec": {
   "display_name": "Python 3 (ipykernel)",
   "language": "python",
   "name": "python3"
  },
  "language_info": {
   "codemirror_mode": {
    "name": "ipython",
    "version": 3
   },
   "file_extension": ".py",
   "mimetype": "text/x-python",
   "name": "python",
   "nbconvert_exporter": "python",
   "pygments_lexer": "ipython3",
   "version": "3.9.13"
  }
 },
 "nbformat": 4,
 "nbformat_minor": 5
}
