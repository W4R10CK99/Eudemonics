{
 "cells": [
  {
   "cell_type": "code",
   "execution_count": 1,
   "id": "b3f66fff",
   "metadata": {},
   "outputs": [],
   "source": [
    "import pandas as pd\n",
    "from sklearn.model_selection import train_test_split\n",
    "from sklearn.tree import DecisionTreeClassifier\n",
    "from sklearn.ensemble import RandomForestClassifier\n",
    "from sklearn.preprocessing import LabelEncoder\n",
    "from sklearn.impute import SimpleImputer\n",
    "from sklearn.metrics import accuracy_score, classification_report, confusion_matrix"
   ]
  },
  {
   "cell_type": "code",
   "execution_count": 2,
   "id": "d2e807e3",
   "metadata": {},
   "outputs": [],
   "source": [
    "# Load the dataset\n",
    "dataset = 'Asset.xlsx'\n",
    "df = pd.read_excel(dataset)\n",
    "X = df.iloc[:, 1:]\n",
    "y = df['AssetType']"
   ]
  },
  {
   "cell_type": "code",
   "execution_count": 3,
   "id": "7aba7e11",
   "metadata": {},
   "outputs": [
    {
     "data": {
      "text/html": [
       "<div>\n",
       "<style scoped>\n",
       "    .dataframe tbody tr th:only-of-type {\n",
       "        vertical-align: middle;\n",
       "    }\n",
       "\n",
       "    .dataframe tbody tr th {\n",
       "        vertical-align: top;\n",
       "    }\n",
       "\n",
       "    .dataframe thead th {\n",
       "        text-align: right;\n",
       "    }\n",
       "</style>\n",
       "<table border=\"1\" class=\"dataframe\">\n",
       "  <thead>\n",
       "    <tr style=\"text-align: right;\">\n",
       "      <th></th>\n",
       "      <th>SerialNo</th>\n",
       "      <th>Manufacturer</th>\n",
       "      <th>ModelNbr</th>\n",
       "    </tr>\n",
       "  </thead>\n",
       "  <tbody>\n",
       "    <tr>\n",
       "      <th>0</th>\n",
       "      <td>NaN</td>\n",
       "      <td>NaN</td>\n",
       "      <td>NaN</td>\n",
       "    </tr>\n",
       "    <tr>\n",
       "      <th>1</th>\n",
       "      <td>NaN</td>\n",
       "      <td>NaN</td>\n",
       "      <td>NaN</td>\n",
       "    </tr>\n",
       "    <tr>\n",
       "      <th>2</th>\n",
       "      <td>NaN</td>\n",
       "      <td>NaN</td>\n",
       "      <td>NaN</td>\n",
       "    </tr>\n",
       "    <tr>\n",
       "      <th>3</th>\n",
       "      <td>0</td>\n",
       "      <td>NaN</td>\n",
       "      <td>O</td>\n",
       "    </tr>\n",
       "    <tr>\n",
       "      <th>4</th>\n",
       "      <td>NaN</td>\n",
       "      <td>NaN</td>\n",
       "      <td>FRENGER</td>\n",
       "    </tr>\n",
       "  </tbody>\n",
       "</table>\n",
       "</div>"
      ],
      "text/plain": [
       "  SerialNo Manufacturer ModelNbr\n",
       "0      NaN          NaN      NaN\n",
       "1      NaN          NaN      NaN\n",
       "2      NaN          NaN      NaN\n",
       "3        0          NaN        O\n",
       "4      NaN          NaN  FRENGER"
      ]
     },
     "execution_count": 3,
     "metadata": {},
     "output_type": "execute_result"
    }
   ],
   "source": [
    "X.head()"
   ]
  },
  {
   "cell_type": "code",
   "execution_count": 4,
   "id": "39de78d9",
   "metadata": {},
   "outputs": [
    {
     "data": {
      "text/plain": [
       "0    CHILLED BEAMS - PASSIVE\n",
       "1    CHILLED BEAMS - PASSIVE\n",
       "2    CHILLED BEAMS - PASSIVE\n",
       "3    CHILLED BEAMS - PASSIVE\n",
       "4    CHILLED BEAMS - PASSIVE\n",
       "Name: AssetType, dtype: object"
      ]
     },
     "execution_count": 4,
     "metadata": {},
     "output_type": "execute_result"
    }
   ],
   "source": [
    "y.head()"
   ]
  },
  {
   "cell_type": "code",
   "execution_count": 8,
   "id": "362067e2",
   "metadata": {},
   "outputs": [
    {
     "name": "stderr",
     "output_type": "stream",
     "text": [
      "C:\\Users\\Ram kumar\\AppData\\Local\\Temp\\ipykernel_3472\\2020407420.py:4: SettingWithCopyWarning: \n",
      "A value is trying to be set on a copy of a slice from a DataFrame.\n",
      "Try using .loc[row_indexer,col_indexer] = value instead\n",
      "\n",
      "See the caveats in the documentation: https://pandas.pydata.org/pandas-docs/stable/user_guide/indexing.html#returning-a-view-versus-a-copy\n",
      "  X.loc[:, column] = X[column].replace(special_values, pd.NA)\n"
     ]
    }
   ],
   "source": [
    "# Handle special values\n",
    "special_values = [1234,'UNKOWN','Unknown','NA', 'NULL', 'UNKNOWN','TBA','N/A','NOT VISIBLE','123TEST', 'UNABLE TO LOCATE', 'NO ID', 'NO ACCESS', 'UNKOWN', 'NaN', 'na','AS PER PICS']\n",
    "for column in X.columns:\n",
    "    X.loc[:, column] = X[column].replace(special_values, pd.NA)"
   ]
  },
  {
   "cell_type": "code",
   "execution_count": 10,
   "id": "8858b41c",
   "metadata": {},
   "outputs": [],
   "source": [
    "label_encoder = LabelEncoder()\n",
    "for column in X.select_dtypes(include=['object']).columns:\n",
    "    X.loc[:, column] = label_encoder.fit_transform(X[column].astype(str))\n",
    "\n",
    "y = label_encoder.fit_transform(y.astype(str))"
   ]
  },
  {
   "cell_type": "code",
   "execution_count": 11,
   "id": "575002b3",
   "metadata": {},
   "outputs": [
    {
     "name": "stderr",
     "output_type": "stream",
     "text": [
      "C:\\ML\\lib\\site-packages\\sklearn\\impute\\_base.py:49: FutureWarning: Unlike other reduction functions (e.g. `skew`, `kurtosis`), the default behavior of `mode` typically preserves the axis it acts along. In SciPy 1.11.0, this behavior will change: the default value of `keepdims` will become False, the `axis` over which the statistic is taken will be eliminated, and the value None will no longer be accepted. Set `keepdims` to True or False to avoid this warning.\n",
      "  mode = stats.mode(array)\n"
     ]
    }
   ],
   "source": [
    "# Impute missing values\n",
    "imputer = SimpleImputer(strategy='most_frequent')\n",
    "X_imputed = pd.DataFrame(imputer.fit_transform(X), columns=X.columns)"
   ]
  },
  {
   "cell_type": "code",
   "execution_count": 12,
   "id": "5e4981f7",
   "metadata": {},
   "outputs": [],
   "source": [
    "# Initial training subset\n",
    "initial_train_size = 20000\n",
    "X_train_initial, _, y_train_initial, _ = train_test_split(X_imputed, y, train_size=initial_train_size, random_state=42)"
   ]
  },
  {
   "cell_type": "code",
   "execution_count": 13,
   "id": "7e045809",
   "metadata": {},
   "outputs": [
    {
     "data": {
      "text/plain": [
       "RandomForestClassifier(random_state=63)"
      ]
     },
     "execution_count": 13,
     "metadata": {},
     "output_type": "execute_result"
    }
   ],
   "source": [
    "# Train the RandomForestClassifier on the initial subset\n",
    "rf_classifier = RandomForestClassifier(n_estimators=100, random_state=63)\n",
    "rf_classifier.fit(X_train_initial, y_train_initial)"
   ]
  },
  {
   "cell_type": "code",
   "execution_count": 14,
   "id": "9bb6afbb",
   "metadata": {},
   "outputs": [],
   "source": [
    "chunk_size = 10000\n",
    "X_test_chunk, _, y_test_chunk, _ = train_test_split(X_imputed, y, test_size=chunk_size, random_state=42)\n",
    "y_pred_encoded = rf_classifier.predict(X_test_chunk)"
   ]
  },
  {
   "cell_type": "code",
   "execution_count": 15,
   "id": "dfbff23b",
   "metadata": {},
   "outputs": [
    {
     "name": "stdout",
     "output_type": "stream",
     "text": [
      "Accuracy on the chunk: 0.5095161134264817\n"
     ]
    }
   ],
   "source": [
    "accuracy = accuracy_score(y_test_chunk, y_pred_encoded)\n",
    "print(f\"Accuracy on the chunk: {accuracy}\")"
   ]
  },
  {
   "cell_type": "code",
   "execution_count": 16,
   "id": "61b0136e",
   "metadata": {},
   "outputs": [],
   "source": [
    "chunk_size = 5000\n",
    "X_test_chunk1, _, y_test_chunk1, _ = train_test_split(X_imputed, y, test_size=chunk_size, random_state=33)\n",
    "y_pred_encoded1 = rf_classifier.predict(X_test_chunk1)"
   ]
  },
  {
   "cell_type": "code",
   "execution_count": 17,
   "id": "0df394cb",
   "metadata": {},
   "outputs": [
    {
     "name": "stdout",
     "output_type": "stream",
     "text": [
      "Accuracy on the chunk: 0.5087536480868007\n"
     ]
    }
   ],
   "source": [
    "accuracy1 = accuracy_score(y_test_chunk1, y_pred_encoded1)\n",
    "print(f\"Accuracy on the chunk: {accuracy1}\")"
   ]
  },
  {
   "cell_type": "code",
   "execution_count": 18,
   "id": "fc4def0e",
   "metadata": {},
   "outputs": [],
   "source": [
    "import joblib"
   ]
  },
  {
   "cell_type": "code",
   "execution_count": 19,
   "id": "c02d05b3",
   "metadata": {},
   "outputs": [
    {
     "data": {
      "text/plain": [
       "['rf_63_whole']"
      ]
     },
     "execution_count": 19,
     "metadata": {},
     "output_type": "execute_result"
    }
   ],
   "source": [
    "modelName = 'rf_63_whole'\n",
    "joblib.dump(rf_classifier, modelName)"
   ]
  },
  {
   "cell_type": "code",
   "execution_count": 20,
   "id": "25124fa7",
   "metadata": {},
   "outputs": [
    {
     "data": {
      "text/plain": [
       "['label_encoder.joblib']"
      ]
     },
     "execution_count": 20,
     "metadata": {},
     "output_type": "execute_result"
    }
   ],
   "source": [
    "encoder_name = 'label_encoder.joblib'\n",
    "joblib.dump(label_encoder,encoder_name)"
   ]
  },
  {
   "cell_type": "code",
   "execution_count": 28,
   "id": "88913cc9",
   "metadata": {},
   "outputs": [],
   "source": [
    "from sklearn.model_selection import cross_val_score, StratifiedKFold"
   ]
  },
  {
   "cell_type": "code",
   "execution_count": 29,
   "id": "619ecef4",
   "metadata": {},
   "outputs": [],
   "source": [
    "# Example for RandomForestClassifier\n",
    "num_estimators_list = [10, 50, 100, 150, 200]\n",
    "scores = []"
   ]
  },
  {
   "cell_type": "code",
   "execution_count": 21,
   "id": "25571d13",
   "metadata": {},
   "outputs": [],
   "source": [
    "import xgboost as xgb"
   ]
  },
  {
   "cell_type": "code",
   "execution_count": 22,
   "id": "ee7db782",
   "metadata": {},
   "outputs": [],
   "source": [
    "# Train XGBoost on the same initial subset\n",
    "dtrain = xgb.DMatrix(X_train_initial, label=y_train_initial)\n",
    "param = {'max_depth': 6, 'objective': 'multi:softmax', 'num_class': len(label_encoder.classes_)}"
   ]
  },
  {
   "cell_type": "code",
   "execution_count": 23,
   "id": "d52544ef",
   "metadata": {},
   "outputs": [],
   "source": [
    "num_round = 100\n",
    "xgb_classifier = xgb.train(param, dtrain, num_round)"
   ]
  },
  {
   "cell_type": "code",
   "execution_count": 24,
   "id": "231d548c",
   "metadata": {},
   "outputs": [],
   "source": [
    "# Test XGBoost on the same chunk\n",
    "dtest = xgb.DMatrix(X_test_chunk)\n",
    "y_pred_xgb_encoded = xgb_classifier.predict(dtest).astype(int)"
   ]
  },
  {
   "cell_type": "code",
   "execution_count": 25,
   "id": "935d691c",
   "metadata": {},
   "outputs": [
    {
     "name": "stdout",
     "output_type": "stream",
     "text": [
      "Accuracy on the chunk (XGBoost): 0.33703633359971047\n"
     ]
    }
   ],
   "source": [
    "accuracy_xgb = accuracy_score(y_test_chunk, y_pred_xgb_encoded)\n",
    "print(f\"Accuracy on the chunk (XGBoost): {accuracy_xgb}\")"
   ]
  },
  {
   "cell_type": "code",
   "execution_count": 26,
   "id": "b9823993",
   "metadata": {},
   "outputs": [],
   "source": [
    "# Test XGBoost on the same chunk 5000\n",
    "dtest = xgb.DMatrix(X_test_chunk1)\n",
    "y_pred_xgb_encoded1 = xgb_classifier.predict(dtest).astype(int)"
   ]
  },
  {
   "cell_type": "code",
   "execution_count": 27,
   "id": "049b1d10",
   "metadata": {},
   "outputs": [
    {
     "name": "stdout",
     "output_type": "stream",
     "text": [
      "Accuracy on the chunk (XGBoost): 0.33688783431261066\n"
     ]
    }
   ],
   "source": [
    "accuracy_xgb1 = accuracy_score(y_test_chunk1, y_pred_xgb_encoded1)\n",
    "print(f\"Accuracy on the chunk (XGBoost): {accuracy_xgb1}\")"
   ]
  },
  {
   "cell_type": "code",
   "execution_count": null,
   "id": "f33e80c4",
   "metadata": {},
   "outputs": [],
   "source": []
  }
 ],
 "metadata": {
  "kernelspec": {
   "display_name": "Python 3 (ipykernel)",
   "language": "python",
   "name": "python3"
  },
  "language_info": {
   "codemirror_mode": {
    "name": "ipython",
    "version": 3
   },
   "file_extension": ".py",
   "mimetype": "text/x-python",
   "name": "python",
   "nbconvert_exporter": "python",
   "pygments_lexer": "ipython3",
   "version": "3.9.13"
  }
 },
 "nbformat": 4,
 "nbformat_minor": 5
}
