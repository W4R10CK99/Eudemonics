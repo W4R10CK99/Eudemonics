{
 "cells": [
  {
   "cell_type": "code",
   "execution_count": 1,
   "id": "fbce9a6d",
   "metadata": {},
   "outputs": [],
   "source": [
    "import json\n",
    "import pandas as pd\n",
    "import numpy as np\n",
    "from sklearn.preprocessing import LabelEncoder\n",
    "import joblib"
   ]
  },
  {
   "cell_type": "code",
   "execution_count": 2,
   "id": "731ff5fb",
   "metadata": {},
   "outputs": [],
   "source": [
    "# Load the JSON file\n",
    "with open('test.json', 'r') as file:\n",
    "    json_data = json.load(file)"
   ]
  },
  {
   "cell_type": "code",
   "execution_count": 12,
   "id": "fa6e65d5",
   "metadata": {},
   "outputs": [],
   "source": [
    "# Define possible variations for each attribute\n",
    "model_nbr_variations = ['ModelNbr', 'model', 'modelno', 'model no', 'MODEL', 'MODEL NO']\n",
    "manufacturer_variations = ['Manufacturer', 'manufacturer', 'make']\n",
    "serial_no_variations = ['SerialNo', 'serial', 'serialnumber','serialno']"
   ]
  },
  {
   "cell_type": "code",
   "execution_count": 13,
   "id": "227bc495",
   "metadata": {},
   "outputs": [],
   "source": [
    "# Extract attributes\n",
    "model_nbr = None\n",
    "manufacturer = None\n",
    "serial_no = None"
   ]
  },
  {
   "cell_type": "code",
   "execution_count": 14,
   "id": "12dd0a0e",
   "metadata": {},
   "outputs": [],
   "source": [
    "for variation in model_nbr_variations:\n",
    "    if variation in json_data:\n",
    "        model_nbr = json_data[variation]\n",
    "        break\n",
    "\n",
    "for variation in manufacturer_variations:\n",
    "    if variation in json_data:\n",
    "        manufacturer = json_data[variation]\n",
    "        break\n",
    "\n",
    "for variation in serial_no_variations:\n",
    "    if variation in json_data:\n",
    "        serial_no = json_data[variation]\n",
    "        break"
   ]
  },
  {
   "cell_type": "code",
   "execution_count": 15,
   "id": "5afc2541",
   "metadata": {},
   "outputs": [],
   "source": [
    "X = pd.DataFrame({\n",
    "        'SerialNo': [serial_no],\n",
    "        'Manufacturer': [manufacturer],\n",
    "        'ModelNbr': [model_nbr]\n",
    "    })"
   ]
  },
  {
   "cell_type": "code",
   "execution_count": 16,
   "id": "3e9eb4bb",
   "metadata": {},
   "outputs": [
    {
     "data": {
      "text/html": [
       "<div>\n",
       "<style scoped>\n",
       "    .dataframe tbody tr th:only-of-type {\n",
       "        vertical-align: middle;\n",
       "    }\n",
       "\n",
       "    .dataframe tbody tr th {\n",
       "        vertical-align: top;\n",
       "    }\n",
       "\n",
       "    .dataframe thead th {\n",
       "        text-align: right;\n",
       "    }\n",
       "</style>\n",
       "<table border=\"1\" class=\"dataframe\">\n",
       "  <thead>\n",
       "    <tr style=\"text-align: right;\">\n",
       "      <th></th>\n",
       "      <th>SerialNo</th>\n",
       "      <th>Manufacturer</th>\n",
       "      <th>ModelNbr</th>\n",
       "    </tr>\n",
       "  </thead>\n",
       "  <tbody>\n",
       "    <tr>\n",
       "      <th>0</th>\n",
       "      <td>6631302324</td>\n",
       "      <td>PANASONIC</td>\n",
       "      <td>CS-RE12MKR</td>\n",
       "    </tr>\n",
       "  </tbody>\n",
       "</table>\n",
       "</div>"
      ],
      "text/plain": [
       "     SerialNo Manufacturer    ModelNbr\n",
       "0  6631302324    PANASONIC  CS-RE12MKR"
      ]
     },
     "execution_count": 16,
     "metadata": {},
     "output_type": "execute_result"
    }
   ],
   "source": [
    "X"
   ]
  },
  {
   "cell_type": "code",
   "execution_count": 17,
   "id": "577910f7",
   "metadata": {},
   "outputs": [],
   "source": [
    "special_values = [1234, 'UNKOWN', 'Unknown', 'NA', 'NULL', 'UNKNOWN', 'TBA', 'N/A', 'NOT VISIBLE', '123TEST', 'UNABLE TO LOCATE', 'NO ID', 'NO ACCESS', 'UNKOWN', 'NaN', 'na', 'AS PER PICS','nan']\n",
    "\n",
    "# Create a copy of the DataFrame to avoid SettingWithCopyWarning\n",
    "X_copy = X.copy()\n",
    "\n",
    "# Replace values using .loc to avoid SettingWithCopyWarning\n",
    "X_copy.loc[:, 'SerialNo'] = X_copy['SerialNo'].replace(special_values, pd.NA)\n",
    "X_copy.loc[:, 'Manufacturer'] = X_copy['Manufacturer'].replace(special_values, pd.NA)\n",
    "X_copy.loc[:, 'ModelNbr'] = X_copy['ModelNbr'].replace(special_values, pd.NA)\n",
    "\n",
    "X = X_copy"
   ]
  },
  {
   "cell_type": "code",
   "execution_count": 18,
   "id": "1bae1ba9",
   "metadata": {},
   "outputs": [],
   "source": [
    "LE_SerialNo = joblib.load('model/LE_Serial')\n",
    "LE_ModelNbr = joblib.load('model/LE_ModelNbr')\n",
    "LE_Manufact = joblib.load('model/LE_Manufact')\n",
    "LE_Asset = joblib.load('model/LE_Asset')"
   ]
  },
  {
   "cell_type": "code",
   "execution_count": 19,
   "id": "3b033878",
   "metadata": {},
   "outputs": [],
   "source": [
    "X['ModelNbr'] = LE_ModelNbr.transform(X['ModelNbr'].astype(str))\n",
    "X['SerialNo'] = LE_SerialNo.transform(X['SerialNo'].astype(str))\n",
    "X['Manufacturer'] = LE_Manufact.transform(X['Manufacturer'].astype(str))"
   ]
  },
  {
   "cell_type": "code",
   "execution_count": 20,
   "id": "2eaf6ecd",
   "metadata": {},
   "outputs": [
    {
     "data": {
      "text/html": [
       "<div>\n",
       "<style scoped>\n",
       "    .dataframe tbody tr th:only-of-type {\n",
       "        vertical-align: middle;\n",
       "    }\n",
       "\n",
       "    .dataframe tbody tr th {\n",
       "        vertical-align: top;\n",
       "    }\n",
       "\n",
       "    .dataframe thead th {\n",
       "        text-align: right;\n",
       "    }\n",
       "</style>\n",
       "<table border=\"1\" class=\"dataframe\">\n",
       "  <thead>\n",
       "    <tr style=\"text-align: right;\">\n",
       "      <th></th>\n",
       "      <th>SerialNo</th>\n",
       "      <th>Manufacturer</th>\n",
       "      <th>ModelNbr</th>\n",
       "    </tr>\n",
       "  </thead>\n",
       "  <tbody>\n",
       "    <tr>\n",
       "      <th>0</th>\n",
       "      <td>58560</td>\n",
       "      <td>781</td>\n",
       "      <td>19284</td>\n",
       "    </tr>\n",
       "  </tbody>\n",
       "</table>\n",
       "</div>"
      ],
      "text/plain": [
       "   SerialNo  Manufacturer  ModelNbr\n",
       "0     58560           781     19284"
      ]
     },
     "execution_count": 20,
     "metadata": {},
     "output_type": "execute_result"
    }
   ],
   "source": [
    "X"
   ]
  },
  {
   "cell_type": "code",
   "execution_count": 21,
   "id": "7d2ada80",
   "metadata": {},
   "outputs": [],
   "source": [
    "rf_classifier = joblib.load('model/rf_final2')"
   ]
  },
  {
   "cell_type": "code",
   "execution_count": 23,
   "id": "b16e08f8",
   "metadata": {},
   "outputs": [],
   "source": [
    "y_pred_encoded = rf_classifier.predict(X)"
   ]
  },
  {
   "cell_type": "code",
   "execution_count": 24,
   "id": "299e5320",
   "metadata": {},
   "outputs": [
    {
     "data": {
      "text/plain": [
       "array([540])"
      ]
     },
     "execution_count": 24,
     "metadata": {},
     "output_type": "execute_result"
    }
   ],
   "source": [
    "y_pred_encoded"
   ]
  },
  {
   "cell_type": "code",
   "execution_count": 25,
   "id": "1dd14eb9",
   "metadata": {},
   "outputs": [],
   "source": [
    "y_actual = LE_Asset.inverse_transform(y_pred_encoded)"
   ]
  },
  {
   "cell_type": "code",
   "execution_count": 26,
   "id": "ede7b46c",
   "metadata": {},
   "outputs": [
    {
     "data": {
      "text/plain": [
       "array(['WALL MOUNTED SPLIT SYSTEM'], dtype=object)"
      ]
     },
     "execution_count": 26,
     "metadata": {},
     "output_type": "execute_result"
    }
   ],
   "source": [
    "y_actual"
   ]
  },
  {
   "cell_type": "code",
   "execution_count": 27,
   "id": "54c43f8d",
   "metadata": {},
   "outputs": [],
   "source": [
    "json_data['PredictedAssetType'] = y_actual[0]"
   ]
  },
  {
   "cell_type": "code",
   "execution_count": 28,
   "id": "ac8c4f18",
   "metadata": {},
   "outputs": [],
   "source": [
    "with open('test.json', 'w') as output_file:\n",
    "        json.dump(json_data, output_file)"
   ]
  },
  {
   "cell_type": "code",
   "execution_count": null,
   "id": "9ca2d649",
   "metadata": {},
   "outputs": [],
   "source": []
  }
 ],
 "metadata": {
  "kernelspec": {
   "display_name": "Python 3 (ipykernel)",
   "language": "python",
   "name": "python3"
  },
  "language_info": {
   "codemirror_mode": {
    "name": "ipython",
    "version": 3
   },
   "file_extension": ".py",
   "mimetype": "text/x-python",
   "name": "python",
   "nbconvert_exporter": "python",
   "pygments_lexer": "ipython3",
   "version": "3.9.13"
  }
 },
 "nbformat": 4,
 "nbformat_minor": 5
}
