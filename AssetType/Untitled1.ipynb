{
 "cells": [
  {
   "cell_type": "code",
   "execution_count": null,
   "id": "b8ce3cf0",
   "metadata": {},
   "outputs": [],
   "source": [
    "import pandas as pd\n",
    "\n",
    "# Assuming you have a DataFrame named 'df' with the relevant columns listed in X\n",
    "# Replace 'X' with the actual list of column names you're interested in\n",
    "\n",
    "df = pd.DataFrame('Asset.xlsx')\n",
    "\n",
    "# List of features\n",
    "X = df\n",
    "\n",
    "# Dictionary to store counts for each feature\n",
    "feature_counts = {}\n",
    "\n",
    "# Iterate through each feature\n",
    "for feature in X:\n",
    "    # Count occurrences of 'NULL', 'NaN', 'NA', 'Unknown' in the current feature\n",
    "    count_null_na_unknown = df[feature].isin(['NULL', 'NaN', 'NA', 'Unknown']).sum()\n",
    "    \n",
    "    # Store the count in the dictionary\n",
    "    feature_counts[feature] = count_null_na_unknown\n",
    "\n",
    "# Print the results\n",
    "for feature, count in feature_counts.items():\n",
    "    print(f\"Number of records with 'NULL', 'NaN', 'NA', 'Unknown' in {feature}: {count}\")\n"
   ]
  },
  {
   "cell_type": "code",
   "execution_count": 2,
   "id": "266c9358",
   "metadata": {},
   "outputs": [],
   "source": [
    "import pandas as pd"
   ]
  },
  {
   "cell_type": "code",
   "execution_count": 3,
   "id": "f53e9f57",
   "metadata": {},
   "outputs": [],
   "source": [
    "dataset = 'Asset.xlsx'\n",
    "df = pd.read_excel(dataset)"
   ]
  },
  {
   "cell_type": "code",
   "execution_count": 33,
   "id": "b0801f74",
   "metadata": {},
   "outputs": [],
   "source": [
    "X = df.iloc[:, 1:-3]"
   ]
  },
  {
   "cell_type": "code",
   "execution_count": 34,
   "id": "5532c030",
   "metadata": {},
   "outputs": [
    {
     "data": {
      "text/html": [
       "<div>\n",
       "<style scoped>\n",
       "    .dataframe tbody tr th:only-of-type {\n",
       "        vertical-align: middle;\n",
       "    }\n",
       "\n",
       "    .dataframe tbody tr th {\n",
       "        vertical-align: top;\n",
       "    }\n",
       "\n",
       "    .dataframe thead th {\n",
       "        text-align: right;\n",
       "    }\n",
       "</style>\n",
       "<table border=\"1\" class=\"dataframe\">\n",
       "  <thead>\n",
       "    <tr style=\"text-align: right;\">\n",
       "      <th></th>\n",
       "      <th>SerialNo</th>\n",
       "      <th>Manufacturer</th>\n",
       "      <th>ModelNbr</th>\n",
       "    </tr>\n",
       "  </thead>\n",
       "  <tbody>\n",
       "    <tr>\n",
       "      <th>0</th>\n",
       "      <td>NaN</td>\n",
       "      <td>NaN</td>\n",
       "      <td>NaN</td>\n",
       "    </tr>\n",
       "    <tr>\n",
       "      <th>1</th>\n",
       "      <td>NaN</td>\n",
       "      <td>NaN</td>\n",
       "      <td>NaN</td>\n",
       "    </tr>\n",
       "    <tr>\n",
       "      <th>2</th>\n",
       "      <td>NaN</td>\n",
       "      <td>NaN</td>\n",
       "      <td>NaN</td>\n",
       "    </tr>\n",
       "    <tr>\n",
       "      <th>3</th>\n",
       "      <td>0</td>\n",
       "      <td>NaN</td>\n",
       "      <td>O</td>\n",
       "    </tr>\n",
       "    <tr>\n",
       "      <th>4</th>\n",
       "      <td>NaN</td>\n",
       "      <td>NaN</td>\n",
       "      <td>FRENGER</td>\n",
       "    </tr>\n",
       "  </tbody>\n",
       "</table>\n",
       "</div>"
      ],
      "text/plain": [
       "  SerialNo Manufacturer ModelNbr\n",
       "0      NaN          NaN      NaN\n",
       "1      NaN          NaN      NaN\n",
       "2      NaN          NaN      NaN\n",
       "3        0          NaN        O\n",
       "4      NaN          NaN  FRENGER"
      ]
     },
     "execution_count": 34,
     "metadata": {},
     "output_type": "execute_result"
    }
   ],
   "source": [
    "X.head()"
   ]
  },
  {
   "cell_type": "code",
   "execution_count": 35,
   "id": "4bfe3c27",
   "metadata": {},
   "outputs": [],
   "source": [
    "feature_counts = {}\n",
    "\n",
    "# Iterate through each feature\n",
    "for feature in X:\n",
    "    # Count occurrences of 'NULL', 'NaN', 'NA', 'Unknown' in the current feature\n",
    "    count_null_na_unknown = X[feature].isin([1234,'UNKOWN','Unknown','NA', 'NULL', 'UNKNOWN','TBA','N/A','NOT VISIBLE','123TEST', 'UNABLE TO LOCATE', 'NO ID', 'NO ACCESS', 'UNKOWN', 'NaN', 'na','AS PER PICS',0]).sum()\n",
    "    \n",
    "    # Store the count in the dictionary\n",
    "    feature_counts[feature] = count_null_na_unknown\n"
   ]
  },
  {
   "cell_type": "code",
   "execution_count": 36,
   "id": "e5440647",
   "metadata": {},
   "outputs": [
    {
     "name": "stdout",
     "output_type": "stream",
     "text": [
      "Number of records with 'NULL', 'NaN', 'NA', 'Unknown' in SerialNo: 26040\n",
      "Number of records with 'NULL', 'NaN', 'NA', 'Unknown' in Manufacturer: 10755\n",
      "Number of records with 'NULL', 'NaN', 'NA', 'Unknown' in ModelNbr: 20304\n"
     ]
    }
   ],
   "source": [
    "for feature, count in feature_counts.items():\n",
    "    print(f\"Number of records with 'NULL', 'NaN', 'NA', 'Unknown' in {feature}: {count}\")"
   ]
  },
  {
   "cell_type": "code",
   "execution_count": 37,
   "id": "98ee88ac",
   "metadata": {},
   "outputs": [],
   "source": [
    "import numpy as np"
   ]
  },
  {
   "cell_type": "code",
   "execution_count": 38,
   "id": "6c6a1eda",
   "metadata": {},
   "outputs": [],
   "source": [
    "# Values to check for\n",
    "values_to_check = ['UNKNOWN', 'UNABLE TO LOCATE', 'NO ID', 'NA', 'NaN', 'NULL', 'UNKOWN', 'TBA', 'N/A', 'NOT VISIBLE', '123TEST']\n",
    "\n",
    "# Count records without specified values in any of the 5 features\n",
    "count_invalid_records = np.sum(np.any(np.isin(X, values_to_check), axis=1))"
   ]
  },
  {
   "cell_type": "code",
   "execution_count": 39,
   "id": "d55ccc34",
   "metadata": {},
   "outputs": [
    {
     "data": {
      "text/plain": [
       "33922"
      ]
     },
     "execution_count": 39,
     "metadata": {},
     "output_type": "execute_result"
    }
   ],
   "source": [
    "count_invalid_records"
   ]
  },
  {
   "cell_type": "code",
   "execution_count": null,
   "id": "afead4b9",
   "metadata": {},
   "outputs": [],
   "source": []
  }
 ],
 "metadata": {
  "kernelspec": {
   "display_name": "Python 3 (ipykernel)",
   "language": "python",
   "name": "python3"
  },
  "language_info": {
   "codemirror_mode": {
    "name": "ipython",
    "version": 3
   },
   "file_extension": ".py",
   "mimetype": "text/x-python",
   "name": "python",
   "nbconvert_exporter": "python",
   "pygments_lexer": "ipython3",
   "version": "3.9.13"
  }
 },
 "nbformat": 4,
 "nbformat_minor": 5
}
