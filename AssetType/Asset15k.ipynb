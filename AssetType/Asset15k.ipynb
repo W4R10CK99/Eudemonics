{
 "cells": [
  {
   "cell_type": "code",
   "execution_count": 1,
   "id": "e84aa6ac",
   "metadata": {},
   "outputs": [],
   "source": [
    "import pandas as pd\n",
    "from sklearn.model_selection import train_test_split\n",
    "from sklearn.impute import SimpleImputer\n",
    "from sklearn.metrics import accuracy_score\n",
    "import joblib"
   ]
  },
  {
   "cell_type": "code",
   "execution_count": 2,
   "id": "d6e979f0",
   "metadata": {},
   "outputs": [],
   "source": [
    "dataset = 'Asset15k.xlsx'\n",
    "df = pd.read_excel(dataset)"
   ]
  },
  {
   "cell_type": "code",
   "execution_count": 3,
   "id": "648745cd",
   "metadata": {},
   "outputs": [
    {
     "data": {
      "text/html": [
       "<div>\n",
       "<style scoped>\n",
       "    .dataframe tbody tr th:only-of-type {\n",
       "        vertical-align: middle;\n",
       "    }\n",
       "\n",
       "    .dataframe tbody tr th {\n",
       "        vertical-align: top;\n",
       "    }\n",
       "\n",
       "    .dataframe thead th {\n",
       "        text-align: right;\n",
       "    }\n",
       "</style>\n",
       "<table border=\"1\" class=\"dataframe\">\n",
       "  <thead>\n",
       "    <tr style=\"text-align: right;\">\n",
       "      <th></th>\n",
       "      <th>AssetType</th>\n",
       "      <th>SerialNo</th>\n",
       "      <th>Manufacturer</th>\n",
       "      <th>ModelNbr</th>\n",
       "      <th>Refrigerant</th>\n",
       "      <th>RefrigerantQty</th>\n",
       "    </tr>\n",
       "  </thead>\n",
       "  <tbody>\n",
       "    <tr>\n",
       "      <th>0</th>\n",
       "      <td>FIRE DAMPER</td>\n",
       "      <td>NaN</td>\n",
       "      <td>NaN</td>\n",
       "      <td>NaN</td>\n",
       "      <td>NaN</td>\n",
       "      <td>NaN</td>\n",
       "    </tr>\n",
       "    <tr>\n",
       "      <th>1</th>\n",
       "      <td>FIRE DAMPER</td>\n",
       "      <td>TBA</td>\n",
       "      <td>NaN</td>\n",
       "      <td>TBA</td>\n",
       "      <td>NaN</td>\n",
       "      <td>0.0</td>\n",
       "    </tr>\n",
       "    <tr>\n",
       "      <th>2</th>\n",
       "      <td>SWITCHBOARD MECHANICAL</td>\n",
       "      <td>TBA</td>\n",
       "      <td>NaN</td>\n",
       "      <td>TBA</td>\n",
       "      <td>NaN</td>\n",
       "      <td>NaN</td>\n",
       "    </tr>\n",
       "    <tr>\n",
       "      <th>3</th>\n",
       "      <td>FIRE DAMPER</td>\n",
       "      <td>NaN</td>\n",
       "      <td>NaN</td>\n",
       "      <td>NaN</td>\n",
       "      <td>NaN</td>\n",
       "      <td>NaN</td>\n",
       "    </tr>\n",
       "    <tr>\n",
       "      <th>4</th>\n",
       "      <td>AIR DAMPER</td>\n",
       "      <td>TBA</td>\n",
       "      <td>NaN</td>\n",
       "      <td>TBA</td>\n",
       "      <td>NaN</td>\n",
       "      <td>NaN</td>\n",
       "    </tr>\n",
       "    <tr>\n",
       "      <th>...</th>\n",
       "      <td>...</td>\n",
       "      <td>...</td>\n",
       "      <td>...</td>\n",
       "      <td>...</td>\n",
       "      <td>...</td>\n",
       "      <td>...</td>\n",
       "    </tr>\n",
       "    <tr>\n",
       "      <th>14470</th>\n",
       "      <td>AIR HANDLING UNIT</td>\n",
       "      <td>TBA</td>\n",
       "      <td>COOLAIR</td>\n",
       "      <td>ASH 2000 FMSP</td>\n",
       "      <td>CHILLED WATER</td>\n",
       "      <td>0.0</td>\n",
       "    </tr>\n",
       "    <tr>\n",
       "      <th>14471</th>\n",
       "      <td>FIRE PANEL-GRAPHICS SYSTEM</td>\n",
       "      <td>TBA</td>\n",
       "      <td>NaN</td>\n",
       "      <td>TBA</td>\n",
       "      <td>R410A</td>\n",
       "      <td>0.0</td>\n",
       "    </tr>\n",
       "    <tr>\n",
       "      <th>14472</th>\n",
       "      <td>AIR HANDLING UNIT</td>\n",
       "      <td>TBA</td>\n",
       "      <td>COOLAIR</td>\n",
       "      <td>ASH 1500 FMSP</td>\n",
       "      <td>CHILLED WATER</td>\n",
       "      <td>0.0</td>\n",
       "    </tr>\n",
       "    <tr>\n",
       "      <th>14473</th>\n",
       "      <td>FIRE PANEL-GRAPHICS SYSTEM</td>\n",
       "      <td>TBA</td>\n",
       "      <td>NaN</td>\n",
       "      <td>TBA</td>\n",
       "      <td>R410A</td>\n",
       "      <td>0.0</td>\n",
       "    </tr>\n",
       "    <tr>\n",
       "      <th>14474</th>\n",
       "      <td>AIR HANDLING UNIT</td>\n",
       "      <td>TBA</td>\n",
       "      <td>COOLAIR</td>\n",
       "      <td>ASH 10000 FMSP</td>\n",
       "      <td>CHILLED WATER</td>\n",
       "      <td>0.0</td>\n",
       "    </tr>\n",
       "  </tbody>\n",
       "</table>\n",
       "<p>14475 rows × 6 columns</p>\n",
       "</div>"
      ],
      "text/plain": [
       "                        AssetType SerialNo Manufacturer        ModelNbr  \\\n",
       "0                     FIRE DAMPER      NaN          NaN             NaN   \n",
       "1                     FIRE DAMPER      TBA          NaN             TBA   \n",
       "2          SWITCHBOARD MECHANICAL      TBA          NaN             TBA   \n",
       "3                     FIRE DAMPER      NaN          NaN             NaN   \n",
       "4                      AIR DAMPER      TBA          NaN             TBA   \n",
       "...                           ...      ...          ...             ...   \n",
       "14470           AIR HANDLING UNIT      TBA      COOLAIR   ASH 2000 FMSP   \n",
       "14471  FIRE PANEL-GRAPHICS SYSTEM      TBA          NaN             TBA   \n",
       "14472           AIR HANDLING UNIT      TBA      COOLAIR   ASH 1500 FMSP   \n",
       "14473  FIRE PANEL-GRAPHICS SYSTEM      TBA          NaN             TBA   \n",
       "14474           AIR HANDLING UNIT      TBA      COOLAIR  ASH 10000 FMSP   \n",
       "\n",
       "         Refrigerant  RefrigerantQty  \n",
       "0                NaN             NaN  \n",
       "1                NaN             0.0  \n",
       "2                NaN             NaN  \n",
       "3                NaN             NaN  \n",
       "4                NaN             NaN  \n",
       "...              ...             ...  \n",
       "14470  CHILLED WATER             0.0  \n",
       "14471          R410A             0.0  \n",
       "14472  CHILLED WATER             0.0  \n",
       "14473          R410A             0.0  \n",
       "14474  CHILLED WATER             0.0  \n",
       "\n",
       "[14475 rows x 6 columns]"
      ]
     },
     "execution_count": 3,
     "metadata": {},
     "output_type": "execute_result"
    }
   ],
   "source": [
    "df"
   ]
  },
  {
   "cell_type": "code",
   "execution_count": 4,
   "id": "71c95cfc",
   "metadata": {},
   "outputs": [],
   "source": [
    "X = df.iloc[:,1:-2]\n",
    "y = df['AssetType']"
   ]
  },
  {
   "cell_type": "code",
   "execution_count": 5,
   "id": "383fc80b",
   "metadata": {},
   "outputs": [
    {
     "data": {
      "text/html": [
       "<div>\n",
       "<style scoped>\n",
       "    .dataframe tbody tr th:only-of-type {\n",
       "        vertical-align: middle;\n",
       "    }\n",
       "\n",
       "    .dataframe tbody tr th {\n",
       "        vertical-align: top;\n",
       "    }\n",
       "\n",
       "    .dataframe thead th {\n",
       "        text-align: right;\n",
       "    }\n",
       "</style>\n",
       "<table border=\"1\" class=\"dataframe\">\n",
       "  <thead>\n",
       "    <tr style=\"text-align: right;\">\n",
       "      <th></th>\n",
       "      <th>SerialNo</th>\n",
       "      <th>Manufacturer</th>\n",
       "      <th>ModelNbr</th>\n",
       "    </tr>\n",
       "  </thead>\n",
       "  <tbody>\n",
       "    <tr>\n",
       "      <th>0</th>\n",
       "      <td>NaN</td>\n",
       "      <td>NaN</td>\n",
       "      <td>NaN</td>\n",
       "    </tr>\n",
       "    <tr>\n",
       "      <th>1</th>\n",
       "      <td>TBA</td>\n",
       "      <td>NaN</td>\n",
       "      <td>TBA</td>\n",
       "    </tr>\n",
       "    <tr>\n",
       "      <th>2</th>\n",
       "      <td>TBA</td>\n",
       "      <td>NaN</td>\n",
       "      <td>TBA</td>\n",
       "    </tr>\n",
       "    <tr>\n",
       "      <th>3</th>\n",
       "      <td>NaN</td>\n",
       "      <td>NaN</td>\n",
       "      <td>NaN</td>\n",
       "    </tr>\n",
       "    <tr>\n",
       "      <th>4</th>\n",
       "      <td>TBA</td>\n",
       "      <td>NaN</td>\n",
       "      <td>TBA</td>\n",
       "    </tr>\n",
       "  </tbody>\n",
       "</table>\n",
       "</div>"
      ],
      "text/plain": [
       "  SerialNo Manufacturer ModelNbr\n",
       "0      NaN          NaN      NaN\n",
       "1      TBA          NaN      TBA\n",
       "2      TBA          NaN      TBA\n",
       "3      NaN          NaN      NaN\n",
       "4      TBA          NaN      TBA"
      ]
     },
     "execution_count": 5,
     "metadata": {},
     "output_type": "execute_result"
    }
   ],
   "source": [
    "X.head()"
   ]
  },
  {
   "cell_type": "code",
   "execution_count": 6,
   "id": "0ce4cbc8",
   "metadata": {},
   "outputs": [
    {
     "data": {
      "text/plain": [
       "0                       FIRE DAMPER\n",
       "1                       FIRE DAMPER\n",
       "2            SWITCHBOARD MECHANICAL\n",
       "3                       FIRE DAMPER\n",
       "4                        AIR DAMPER\n",
       "                    ...            \n",
       "14470             AIR HANDLING UNIT\n",
       "14471    FIRE PANEL-GRAPHICS SYSTEM\n",
       "14472             AIR HANDLING UNIT\n",
       "14473    FIRE PANEL-GRAPHICS SYSTEM\n",
       "14474             AIR HANDLING UNIT\n",
       "Name: AssetType, Length: 14475, dtype: object"
      ]
     },
     "execution_count": 6,
     "metadata": {},
     "output_type": "execute_result"
    }
   ],
   "source": [
    "y"
   ]
  },
  {
   "cell_type": "code",
   "execution_count": 7,
   "id": "f971fa9d",
   "metadata": {},
   "outputs": [],
   "source": [
    "# Impute missing values\n",
    "imputer = SimpleImputer(strategy='most_frequent')\n",
    "X_imputed = pd.DataFrame(imputer.fit_transform(X), columns=X.columns)"
   ]
  },
  {
   "cell_type": "code",
   "execution_count": 8,
   "id": "833d7ca8",
   "metadata": {},
   "outputs": [],
   "source": [
    "X = X_imputed"
   ]
  },
  {
   "cell_type": "code",
   "execution_count": 9,
   "id": "028a2480",
   "metadata": {},
   "outputs": [],
   "source": [
    "special_values = [1234, 'UNKOWN', 'Unknown', 'NA', 'NULL', 'UNKNOWN', 'TBA', 'N/A', 'NOT VISIBLE', '123TEST', 'UNABLE TO LOCATE', 'NO ID', 'NO ACCESS', 'UNKOWN', 'NaN', 'na', 'AS PER PICS']\n",
    "\n",
    "# Create a copy of the DataFrame to avoid SettingWithCopyWarning\n",
    "X_copy = X.copy()\n",
    "\n",
    "# Replace values using .loc to avoid SettingWithCopyWarning\n",
    "X_copy.loc[:, 'SerialNo'] = X_copy['SerialNo'].replace(special_values, pd.NA)\n",
    "X_copy.loc[:, 'Manufacturer'] = X_copy['Manufacturer'].replace(special_values, pd.NA)\n",
    "X_copy.loc[:, 'ModelNbr'] = X_copy['ModelNbr'].replace(special_values, pd.NA)\n",
    "\n",
    "# Now X_copy contains the modified DataFrame\n",
    "X = X_copy"
   ]
  },
  {
   "cell_type": "code",
   "execution_count": 10,
   "id": "ce0bef6f",
   "metadata": {},
   "outputs": [],
   "source": [
    "OE_X = joblib.load('model/OE_X')"
   ]
  },
  {
   "cell_type": "code",
   "execution_count": 11,
   "id": "a847bba7",
   "metadata": {},
   "outputs": [],
   "source": [
    "LE_Y = joblib.load('model/LE_Y')"
   ]
  },
  {
   "cell_type": "code",
   "execution_count": 12,
   "id": "d59f6c02",
   "metadata": {},
   "outputs": [],
   "source": [
    "X = OE_X.transform(X.astype(str))"
   ]
  },
  {
   "cell_type": "code",
   "execution_count": 13,
   "id": "c813e36f",
   "metadata": {},
   "outputs": [
    {
     "data": {
      "text/plain": [
       "array([[76031.,   394.,  7364.],\n",
       "       [76031.,   394.,  7364.],\n",
       "       [76031.,   394.,  7364.],\n",
       "       ...,\n",
       "       [76031.,   259., 13792.],\n",
       "       [76031.,   394.,  7364.],\n",
       "       [76031.,   259., 13779.]])"
      ]
     },
     "execution_count": 13,
     "metadata": {},
     "output_type": "execute_result"
    }
   ],
   "source": [
    "X"
   ]
  },
  {
   "cell_type": "code",
   "execution_count": 14,
   "id": "62c1aed4",
   "metadata": {},
   "outputs": [],
   "source": [
    "y = LE_Y.transform(y.astype(str))"
   ]
  },
  {
   "cell_type": "code",
   "execution_count": 17,
   "id": "89a9b6ca",
   "metadata": {},
   "outputs": [
    {
     "data": {
      "text/plain": [
       "array([264, 264, 501, ...,  20, 285,  20])"
      ]
     },
     "execution_count": 17,
     "metadata": {},
     "output_type": "execute_result"
    }
   ],
   "source": [
    "y"
   ]
  },
  {
   "cell_type": "code",
   "execution_count": 15,
   "id": "9993a249",
   "metadata": {},
   "outputs": [],
   "source": [
    "rf = joblib.load('model/rf_final2_ordinal')"
   ]
  },
  {
   "cell_type": "code",
   "execution_count": 16,
   "id": "84d56445",
   "metadata": {},
   "outputs": [],
   "source": [
    "y_pred_encoded = rf.predict(X)"
   ]
  },
  {
   "cell_type": "code",
   "execution_count": 18,
   "id": "167f777b",
   "metadata": {},
   "outputs": [
    {
     "data": {
      "text/plain": [
       "0.609119170984456"
      ]
     },
     "execution_count": 18,
     "metadata": {},
     "output_type": "execute_result"
    }
   ],
   "source": [
    "accuracy = accuracy_score(y,y_pred_encoded)\n",
    "accuracy"
   ]
  },
  {
   "cell_type": "code",
   "execution_count": 23,
   "id": "e49f56c4",
   "metadata": {},
   "outputs": [],
   "source": [
    "X2 = pd.DataFrame({\n",
    "    'SerialNo': ['TBA'],\n",
    "    'Manufacturer': ['XFGST'],\n",
    "    'ModelNbr': ['892GA']\n",
    "})"
   ]
  },
  {
   "cell_type": "code",
   "execution_count": 25,
   "id": "2d272506",
   "metadata": {},
   "outputs": [
    {
     "data": {
      "text/html": [
       "<div>\n",
       "<style scoped>\n",
       "    .dataframe tbody tr th:only-of-type {\n",
       "        vertical-align: middle;\n",
       "    }\n",
       "\n",
       "    .dataframe tbody tr th {\n",
       "        vertical-align: top;\n",
       "    }\n",
       "\n",
       "    .dataframe thead th {\n",
       "        text-align: right;\n",
       "    }\n",
       "</style>\n",
       "<table border=\"1\" class=\"dataframe\">\n",
       "  <thead>\n",
       "    <tr style=\"text-align: right;\">\n",
       "      <th></th>\n",
       "      <th>SerialNo</th>\n",
       "      <th>Manufacturer</th>\n",
       "      <th>ModelNbr</th>\n",
       "    </tr>\n",
       "  </thead>\n",
       "  <tbody>\n",
       "    <tr>\n",
       "      <th>0</th>\n",
       "      <td>TBA</td>\n",
       "      <td>XFGST</td>\n",
       "      <td>892GA</td>\n",
       "    </tr>\n",
       "  </tbody>\n",
       "</table>\n",
       "</div>"
      ],
      "text/plain": [
       "  SerialNo Manufacturer ModelNbr\n",
       "0      TBA        XFGST    892GA"
      ]
     },
     "execution_count": 25,
     "metadata": {},
     "output_type": "execute_result"
    }
   ],
   "source": [
    "X2"
   ]
  },
  {
   "cell_type": "code",
   "execution_count": 28,
   "id": "dd3d2099",
   "metadata": {},
   "outputs": [],
   "source": [
    "special_values = [1234, 'UNKOWN', 'Unknown', 'NA', 'NULL', 'UNKNOWN', 'TBA', 'N/A', 'NOT VISIBLE', '123TEST', 'UNABLE TO LOCATE', 'NO ID', 'NO ACCESS', 'UNKOWN', 'NaN', 'na', 'AS PER PICS']\n",
    "\n",
    "# Create a copy of the DataFrame to avoid SettingWithCopyWarning\n",
    "X2_copy = X2.copy()\n",
    "\n",
    "# Replace values using .loc to avoid SettingWithCopyWarning\n",
    "X2_copy.loc[:, 'SerialNo'] = X2_copy['SerialNo'].replace(special_values, pd.NA)\n",
    "X2_copy.loc[:, 'Manufacturer'] = X2_copy['Manufacturer'].replace(special_values, pd.NA)\n",
    "X2_copy.loc[:, 'ModelNbr'] = X2_copy['ModelNbr'].replace(special_values, pd.NA)\n",
    "\n",
    "# Now X_copy contains the modified DataFrame\n",
    "X2 = X2_copy"
   ]
  },
  {
   "cell_type": "code",
   "execution_count": 29,
   "id": "44816506",
   "metadata": {},
   "outputs": [],
   "source": [
    "X2 = OE_X.transform(X2)"
   ]
  },
  {
   "cell_type": "code",
   "execution_count": 30,
   "id": "79b114bd",
   "metadata": {},
   "outputs": [],
   "source": [
    "y2 = rf.predict(X2)"
   ]
  },
  {
   "cell_type": "code",
   "execution_count": 31,
   "id": "012afab6",
   "metadata": {},
   "outputs": [
    {
     "data": {
      "text/plain": [
       "array([526])"
      ]
     },
     "execution_count": 31,
     "metadata": {},
     "output_type": "execute_result"
    }
   ],
   "source": [
    "y2"
   ]
  },
  {
   "cell_type": "code",
   "execution_count": 32,
   "id": "86eb7f7d",
   "metadata": {},
   "outputs": [
    {
     "data": {
      "text/plain": [
       "array(['VARIABLE SPEED DRIVE'], dtype=object)"
      ]
     },
     "execution_count": 32,
     "metadata": {},
     "output_type": "execute_result"
    }
   ],
   "source": [
    "y2_actual = LE_Y.inverse_transform(y2)\n",
    "y2_actual"
   ]
  },
  {
   "cell_type": "code",
   "execution_count": null,
   "id": "e22c301b",
   "metadata": {},
   "outputs": [],
   "source": []
  }
 ],
 "metadata": {
  "kernelspec": {
   "display_name": "Python 3 (ipykernel)",
   "language": "python",
   "name": "python3"
  },
  "language_info": {
   "codemirror_mode": {
    "name": "ipython",
    "version": 3
   },
   "file_extension": ".py",
   "mimetype": "text/x-python",
   "name": "python",
   "nbconvert_exporter": "python",
   "pygments_lexer": "ipython3",
   "version": "3.9.13"
  }
 },
 "nbformat": 4,
 "nbformat_minor": 5
}
