{
 "cells": [
  {
   "cell_type": "code",
   "execution_count": 2,
   "metadata": {},
   "outputs": [],
   "source": [
    "from openai import OpenAI\n",
    "import os"
   ]
  },
  {
   "cell_type": "code",
   "execution_count": 3,
   "metadata": {},
   "outputs": [],
   "source": [
    "client = OpenAI()"
   ]
  },
  {
   "cell_type": "code",
   "execution_count": 4,
   "metadata": {},
   "outputs": [],
   "source": [
    "user_message = {\n",
    "    \"role\": \"user\",\n",
    "    \"content\": \"\"\"from the text find attributes and values \\\"MODEL _GPC1460H41EC SERIAL NO. 1609315090\n",
    "        AC VOLTS 206/230 PH 1 HERTZ 60 _\n",
    "        USE COPPER CONDUCTORS ONLY\n",
    "        VOLTAGE RANGE MAX 263 MIN 1497 MIN CIRCUIT AMP8 49\n",
    "        COMPRES8OR LA 26.4 LAA 134 FUSE MAX AMPS 60\n",
    "        COND MOTOR FLA 1.4 HP 1/4 CHARGE 103 07. RA10A\n",
    "        BLOWER MOTOR FLA 6.4 HP 3/4\n",
    "        FACTORY TEST PRESSURE PSIG LOW SIDE 236 _ HIGH SIDE _450\n",
    "        MAXIMUM HACR AMPS 60 = PART NO. _ 9140004316\n",
    "        CIRCUIT BREAKER\n",
    "        THI8 EQUIPMENT SUITABLE.FOR OUTDOOR USE ONLY\n",
    "        WHEN INSTALLING ONE OF THE ACCESSORY HEAT KITS. =\n",
    "        — PERMANTELY IDENTIFY THE MODEL ON THI8 PLATE\n",
    "        AND MARK THE SINGLE POINT WIRING KIT IF INSTALLED.\n",
    "\n",
    "        — 0” CLEARANCE TO COMBUSTIBLE ane ~\n",
    "\n",
    "        = M OUTLET AIR TEMPERA\\\"\"\"\",\n",
    "}"
   ]
  },
  {
   "cell_type": "code",
   "execution_count": 5,
   "metadata": {},
   "outputs": [],
   "source": [
    "response = client.chat.completions.create(\n",
    "        model=\"gpt-3.5-turbo\",\n",
    "        messages= [user_message],\n",
    "        max_tokens=1000\n",
    "    )"
   ]
  },
  {
   "cell_type": "code",
   "execution_count": 6,
   "metadata": {},
   "outputs": [
    {
     "data": {
      "text/plain": [
       "ChatCompletion(id='chatcmpl-8hEiY5ZV2Htkpy1l3y6GSTocOuoyd', choices=[Choice(finish_reason='stop', index=0, message=ChatCompletionMessage(content='MODEL: GPC1460H41EC\\nSERIAL NO.: 1609315090\\nAC VOLTS: 206/230\\nPH: 1\\nHERTZ: 60\\nUSE COPPER CONDUCTORS ONLY\\nVOLTAGE RANGE MAX: 263\\nVOLTAGE RANGE MIN: 1497\\nMIN CIRCUIT AMP8: 49\\nCOMPRESSOR LA: 26.4\\nCOMPRESSOR LAA: 134\\nFUSE MAX AMPS: 60\\nCOND MOTOR FLA: 1.4\\nHP: 1/4\\nCHARGE: 103 07\\nRA10A\\nBLOWER MOTOR FLA: 6.4\\nHP: 3/4\\nFACTORY TEST PRESSURE PSIG LOW SIDE: 236\\nHIGH SIDE: 450\\nMAXIMUM HACR AMPS: 60\\nPART NO.: 9140004316\\nCIRCUIT BREAKER\\nTHI8 EQUIPMENT SUITABLE FOR OUTDOOR USE ONLY\\nWHEN INSTALLING ONE OF THE ACCESSORY HEAT KITS = PERMANENTLY IDENTIFY THE MODEL ON THI8 PLATE AND MARK THE SINGLE POINT WIRING KIT IF INSTALLED.\\n0” CLEARANCE TO COMBUSTIBLE ANE\\nM OUTLET AIR TEMPERATURE', role='assistant', function_call=None, tool_calls=None), logprobs=None)], created=1705315370, model='gpt-3.5-turbo-0613', object='chat.completion', system_fingerprint=None, usage=CompletionUsage(completion_tokens=274, prompt_tokens=281, total_tokens=555))"
      ]
     },
     "execution_count": 6,
     "metadata": {},
     "output_type": "execute_result"
    }
   ],
   "source": [
    "response"
   ]
  },
  {
   "cell_type": "code",
   "execution_count": 9,
   "metadata": {},
   "outputs": [
    {
     "name": "stdout",
     "output_type": "stream",
     "text": [
      "MODEL: GPC1460H41EC\n",
      "SERIAL NO.: 1609315090\n",
      "AC VOLTS: 206/230\n",
      "PH: 1\n",
      "HERTZ: 60\n",
      "USE COPPER CONDUCTORS ONLY\n",
      "VOLTAGE RANGE MAX: 263\n",
      "VOLTAGE RANGE MIN: 1497\n",
      "MIN CIRCUIT AMP8: 49\n",
      "COMPRESSOR LA: 26.4\n",
      "COMPRESSOR LAA: 134\n",
      "FUSE MAX AMPS: 60\n",
      "COND MOTOR FLA: 1.4\n",
      "HP: 1/4\n",
      "CHARGE: 103 07\n",
      "RA10A\n",
      "BLOWER MOTOR FLA: 6.4\n",
      "HP: 3/4\n",
      "FACTORY TEST PRESSURE PSIG LOW SIDE: 236\n",
      "HIGH SIDE: 450\n",
      "MAXIMUM HACR AMPS: 60\n",
      "PART NO.: 9140004316\n",
      "CIRCUIT BREAKER\n",
      "THI8 EQUIPMENT SUITABLE FOR OUTDOOR USE ONLY\n",
      "WHEN INSTALLING ONE OF THE ACCESSORY HEAT KITS = PERMANENTLY IDENTIFY THE MODEL ON THI8 PLATE AND MARK THE SINGLE POINT WIRING KIT IF INSTALLED.\n",
      "0” CLEARANCE TO COMBUSTIBLE ANE\n",
      "M OUTLET AIR TEMPERATURE\n"
     ]
    }
   ],
   "source": [
    "print(response.choices[0].message.content)"
   ]
  },
  {
   "cell_type": "code",
   "execution_count": null,
   "metadata": {},
   "outputs": [],
   "source": []
  }
 ],
 "metadata": {
  "kernelspec": {
   "display_name": "Python 3",
   "language": "python",
   "name": "python3"
  },
  "language_info": {
   "codemirror_mode": {
    "name": "ipython",
    "version": 3
   },
   "file_extension": ".py",
   "mimetype": "text/x-python",
   "name": "python",
   "nbconvert_exporter": "python",
   "pygments_lexer": "ipython3",
   "version": "3.11.4"
  }
 },
 "nbformat": 4,
 "nbformat_minor": 2
}
