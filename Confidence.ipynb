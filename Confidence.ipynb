{
 "cells": [
  {
   "cell_type": "code",
   "execution_count": 29,
   "id": "72073344",
   "metadata": {},
   "outputs": [],
   "source": [
    "import pytesseract\n",
    "import PIL.Image\n",
    "import pandas as pd"
   ]
  },
  {
   "cell_type": "code",
   "execution_count": 30,
   "id": "fd45fc1e",
   "metadata": {},
   "outputs": [],
   "source": [
    "myconfig = r\"--psm 6 --oem 3\""
   ]
  },
  {
   "cell_type": "code",
   "execution_count": 31,
   "id": "1c9ffabd",
   "metadata": {},
   "outputs": [],
   "source": [
    "text_data= pytesseract.image_to_data(PIL.Image.open('Adobe Scan 19-Jan-2024_2.jpg'),output_type='data.frame', config=myconfig)"
   ]
  },
  {
   "cell_type": "code",
   "execution_count": 32,
   "id": "753e9d1f",
   "metadata": {},
   "outputs": [
    {
     "data": {
      "text/html": [
       "<div>\n",
       "<style scoped>\n",
       "    .dataframe tbody tr th:only-of-type {\n",
       "        vertical-align: middle;\n",
       "    }\n",
       "\n",
       "    .dataframe tbody tr th {\n",
       "        vertical-align: top;\n",
       "    }\n",
       "\n",
       "    .dataframe thead th {\n",
       "        text-align: right;\n",
       "    }\n",
       "</style>\n",
       "<table border=\"1\" class=\"dataframe\">\n",
       "  <thead>\n",
       "    <tr style=\"text-align: right;\">\n",
       "      <th></th>\n",
       "      <th>level</th>\n",
       "      <th>page_num</th>\n",
       "      <th>block_num</th>\n",
       "      <th>par_num</th>\n",
       "      <th>line_num</th>\n",
       "      <th>word_num</th>\n",
       "      <th>left</th>\n",
       "      <th>top</th>\n",
       "      <th>width</th>\n",
       "      <th>height</th>\n",
       "      <th>conf</th>\n",
       "      <th>text</th>\n",
       "    </tr>\n",
       "  </thead>\n",
       "  <tbody>\n",
       "    <tr>\n",
       "      <th>0</th>\n",
       "      <td>1</td>\n",
       "      <td>1</td>\n",
       "      <td>0</td>\n",
       "      <td>0</td>\n",
       "      <td>0</td>\n",
       "      <td>0</td>\n",
       "      <td>0</td>\n",
       "      <td>0</td>\n",
       "      <td>1530</td>\n",
       "      <td>2200</td>\n",
       "      <td>-1.000000</td>\n",
       "      <td>NaN</td>\n",
       "    </tr>\n",
       "    <tr>\n",
       "      <th>1</th>\n",
       "      <td>2</td>\n",
       "      <td>1</td>\n",
       "      <td>1</td>\n",
       "      <td>0</td>\n",
       "      <td>0</td>\n",
       "      <td>0</td>\n",
       "      <td>2</td>\n",
       "      <td>0</td>\n",
       "      <td>1528</td>\n",
       "      <td>2153</td>\n",
       "      <td>-1.000000</td>\n",
       "      <td>NaN</td>\n",
       "    </tr>\n",
       "    <tr>\n",
       "      <th>2</th>\n",
       "      <td>3</td>\n",
       "      <td>1</td>\n",
       "      <td>1</td>\n",
       "      <td>1</td>\n",
       "      <td>0</td>\n",
       "      <td>0</td>\n",
       "      <td>384</td>\n",
       "      <td>0</td>\n",
       "      <td>1146</td>\n",
       "      <td>26</td>\n",
       "      <td>-1.000000</td>\n",
       "      <td>NaN</td>\n",
       "    </tr>\n",
       "    <tr>\n",
       "      <th>3</th>\n",
       "      <td>4</td>\n",
       "      <td>1</td>\n",
       "      <td>1</td>\n",
       "      <td>1</td>\n",
       "      <td>1</td>\n",
       "      <td>0</td>\n",
       "      <td>384</td>\n",
       "      <td>0</td>\n",
       "      <td>1146</td>\n",
       "      <td>26</td>\n",
       "      <td>-1.000000</td>\n",
       "      <td>NaN</td>\n",
       "    </tr>\n",
       "    <tr>\n",
       "      <th>4</th>\n",
       "      <td>5</td>\n",
       "      <td>1</td>\n",
       "      <td>1</td>\n",
       "      <td>1</td>\n",
       "      <td>1</td>\n",
       "      <td>1</td>\n",
       "      <td>384</td>\n",
       "      <td>0</td>\n",
       "      <td>6</td>\n",
       "      <td>1</td>\n",
       "      <td>72.672157</td>\n",
       "      <td>2</td>\n",
       "    </tr>\n",
       "    <tr>\n",
       "      <th>...</th>\n",
       "      <td>...</td>\n",
       "      <td>...</td>\n",
       "      <td>...</td>\n",
       "      <td>...</td>\n",
       "      <td>...</td>\n",
       "      <td>...</td>\n",
       "      <td>...</td>\n",
       "      <td>...</td>\n",
       "      <td>...</td>\n",
       "      <td>...</td>\n",
       "      <td>...</td>\n",
       "      <td>...</td>\n",
       "    </tr>\n",
       "    <tr>\n",
       "      <th>198</th>\n",
       "      <td>5</td>\n",
       "      <td>1</td>\n",
       "      <td>1</td>\n",
       "      <td>6</td>\n",
       "      <td>13</td>\n",
       "      <td>1</td>\n",
       "      <td>69</td>\n",
       "      <td>2008</td>\n",
       "      <td>98</td>\n",
       "      <td>34</td>\n",
       "      <td>96.565804</td>\n",
       "      <td>MADE</td>\n",
       "    </tr>\n",
       "    <tr>\n",
       "      <th>199</th>\n",
       "      <td>5</td>\n",
       "      <td>1</td>\n",
       "      <td>1</td>\n",
       "      <td>6</td>\n",
       "      <td>13</td>\n",
       "      <td>2</td>\n",
       "      <td>180</td>\n",
       "      <td>2013</td>\n",
       "      <td>32</td>\n",
       "      <td>31</td>\n",
       "      <td>95.724571</td>\n",
       "      <td>IN</td>\n",
       "    </tr>\n",
       "    <tr>\n",
       "      <th>200</th>\n",
       "      <td>5</td>\n",
       "      <td>1</td>\n",
       "      <td>1</td>\n",
       "      <td>6</td>\n",
       "      <td>13</td>\n",
       "      <td>3</td>\n",
       "      <td>224</td>\n",
       "      <td>2014</td>\n",
       "      <td>170</td>\n",
       "      <td>37</td>\n",
       "      <td>95.724571</td>\n",
       "      <td>MALAYSIA</td>\n",
       "    </tr>\n",
       "    <tr>\n",
       "      <th>201</th>\n",
       "      <td>5</td>\n",
       "      <td>1</td>\n",
       "      <td>1</td>\n",
       "      <td>6</td>\n",
       "      <td>13</td>\n",
       "      <td>4</td>\n",
       "      <td>925</td>\n",
       "      <td>1899</td>\n",
       "      <td>247</td>\n",
       "      <td>231</td>\n",
       "      <td>68.407753</td>\n",
       "      <td>A\\</td>\n",
       "    </tr>\n",
       "    <tr>\n",
       "      <th>202</th>\n",
       "      <td>5</td>\n",
       "      <td>1</td>\n",
       "      <td>1</td>\n",
       "      <td>6</td>\n",
       "      <td>13</td>\n",
       "      <td>5</td>\n",
       "      <td>1202</td>\n",
       "      <td>1920</td>\n",
       "      <td>214</td>\n",
       "      <td>233</td>\n",
       "      <td>44.709873</td>\n",
       "      <td>Em</td>\n",
       "    </tr>\n",
       "  </tbody>\n",
       "</table>\n",
       "<p>203 rows × 12 columns</p>\n",
       "</div>"
      ],
      "text/plain": [
       "     level  page_num  block_num  par_num  line_num  word_num  left   top  \\\n",
       "0        1         1          0        0         0         0     0     0   \n",
       "1        2         1          1        0         0         0     2     0   \n",
       "2        3         1          1        1         0         0   384     0   \n",
       "3        4         1          1        1         1         0   384     0   \n",
       "4        5         1          1        1         1         1   384     0   \n",
       "..     ...       ...        ...      ...       ...       ...   ...   ...   \n",
       "198      5         1          1        6        13         1    69  2008   \n",
       "199      5         1          1        6        13         2   180  2013   \n",
       "200      5         1          1        6        13         3   224  2014   \n",
       "201      5         1          1        6        13         4   925  1899   \n",
       "202      5         1          1        6        13         5  1202  1920   \n",
       "\n",
       "     width  height       conf      text  \n",
       "0     1530    2200  -1.000000       NaN  \n",
       "1     1528    2153  -1.000000       NaN  \n",
       "2     1146      26  -1.000000       NaN  \n",
       "3     1146      26  -1.000000       NaN  \n",
       "4        6       1  72.672157         2  \n",
       "..     ...     ...        ...       ...  \n",
       "198     98      34  96.565804      MADE  \n",
       "199     32      31  95.724571        IN  \n",
       "200    170      37  95.724571  MALAYSIA  \n",
       "201    247     231  68.407753        A\\  \n",
       "202    214     233  44.709873        Em  \n",
       "\n",
       "[203 rows x 12 columns]"
      ]
     },
     "execution_count": 32,
     "metadata": {},
     "output_type": "execute_result"
    }
   ],
   "source": [
    "text_data"
   ]
  },
  {
   "cell_type": "code",
   "execution_count": 33,
   "id": "56185ebb",
   "metadata": {
    "scrolled": true
   },
   "outputs": [],
   "source": [
    "text_data = text_data[text_data.conf != -1]"
   ]
  },
  {
   "cell_type": "code",
   "execution_count": 34,
   "id": "f1015cf3",
   "metadata": {},
   "outputs": [],
   "source": [
    "# Group by relevant columns (e.g., block_num, par_num, line_num)\n",
    "lines = text_data.groupby(['block_num', 'par_num', 'line_num'])['text'].apply(lambda x: ' '.join(list(x))).tolist()\n",
    "confs = text_data.groupby(['block_num', 'par_num', 'line_num'])['conf'].mean().tolist()"
   ]
  },
  {
   "cell_type": "code",
   "execution_count": 35,
   "id": "d49f686f",
   "metadata": {},
   "outputs": [],
   "source": [
    "# Create a dictionary to store confidence scores for specific words and their variations\n",
    "word_variations = {\n",
    "    \"Model\": ['ModelNbr', 'model', 'modelno', 'model no', 'MODEL', 'MODEL NO','Model_No','Model'],\n",
    "    \"Serial\": ['SerialNo', 'serial', 'serialnumber', 'serialno','Serial_No','Serial Number'],\n",
    "    \"Manufacturer\": ['Manufacturer', 'manufacturer', 'make','brand','Brand']\n",
    "}"
   ]
  },
  {
   "cell_type": "code",
   "execution_count": 36,
   "id": "233ff412",
   "metadata": {},
   "outputs": [],
   "source": [
    "# Extract confidence scores for each word and its variations\n",
    "word_confidence = {}\n",
    "for word, variations in word_variations.items():\n",
    "    for line, conf in zip(lines, confs):\n",
    "        for variation in variations:\n",
    "            if variation.lower() in line.lower():\n",
    "                word_confidence[word] = conf\n",
    "                break"
   ]
  },
  {
   "cell_type": "code",
   "execution_count": 37,
   "id": "2c75a0f2",
   "metadata": {},
   "outputs": [
    {
     "name": "stdout",
     "output_type": "stream",
     "text": [
      "Confidence for 'Model': 77.9515325\n",
      "Confidence for 'Serial': 92.17736057142858\n",
      "Confidence for 'Manufacturer': 77.583404625\n"
     ]
    }
   ],
   "source": [
    "# Print confidence scores for each word and its variations\n",
    "for word, conf in word_confidence.items():\n",
    "    print(f\"Confidence for '{word}': {conf}\")"
   ]
  },
  {
   "cell_type": "code",
   "execution_count": 38,
   "id": "6afe0d97",
   "metadata": {},
   "outputs": [
    {
     "name": "stdout",
     "output_type": "stream",
     "text": [
      "2 KGa BSE) Bee Gad AS a a Be EAE PO ae eee Fe ee Sct |HITACHI [== | H FACTORY CHARGE 1.500kg\n",
      "_ [OPERATION MODE COOLING HEATING\n",
      "MLTOTAL CURRENT (MAX. |_8.30-7.60A (12.0) | 8.40-7.74A ( 12.0A) | J RAI-E60YHA\n",
      "ROOM AIR CONDITIONER\n",
      "CAPACITY, |. NTT OW. Lo) ROO\n",
      "OPERATION MODE | COOLING | HEATING.\n",
      "HEAT PUMP OUTDOOR UNIT VOLTAGE 1 PHASE 220-240V “U\n",
      "LTOTAL INPUT (MAX) \"| T800W (2600) | 1830 (2650)\n",
      "2 ee SL C0, ES SA\n",
      "MODEL RAC-E60YHA | FREQUENCY 50/60Hz\n",
      "OTAL INPUT (MAX 7 Te00W (26000) | T950Wv (26500)\n",
      "SERIAL NO. TEST PRESSURE : HIGH 4.15MPa\n",
      "TOTAL CURRENT [MAX] | 30-7.608 (120A) | 195-8.204 (120A)\n",
      "1882483827 LOW 2.50MPa\n",
      "INDOOR UNIT MODEL RAD-E60YHA\n",
      "UNDOORUNITMODEL ss ts*=*SdY RAS-E60YHA\n",
      "}OPERATION MODE COOUNG HEATING 7\n",
      "12 A SE NER 5 AG ONG\n",
      "TOTAL INPUT (MAX) 700w 001m) | —900w (oasomh\n",
      "LTOTAL CURRENT (MAX) \"| 7.80-7.15A( 120A) 8.70-8.00A (12.0A)\n",
      "Manufacturer: Johnson Control: i Ai i IP X4\n",
      "Pol aes 0, an Kenajan Bat dad oe\n",
      "MADE IN MALAYSIA A\\ Em\n"
     ]
    }
   ],
   "source": [
    "lines = []\n",
    "\n",
    "# Iterate through the rows of the DataFrame\n",
    "for index, row in text_data.iterrows():\n",
    "    line_num = row['line_num']\n",
    "    word = row['text']\n",
    "\n",
    "    # If the lines list is empty or the current line_num is different from the previous one, start a new line\n",
    "    if not lines or lines[-1]['line_num'] != line_num:\n",
    "        lines.append({'line_num': line_num, 'text': word})\n",
    "    else:\n",
    "        # Append the word to the existing line\n",
    "        lines[-1]['text'] += ' ' + word\n",
    "\n",
    "# Combine the lines into a single variable while preserving the original sequence\n",
    "result_text = '\\n'.join(line['text'] for line in sorted(lines, key=lambda x: x['line_num']))\n",
    "\n",
    "# Display or use the extracted text\n",
    "print(result_text)"
   ]
  },
  {
   "cell_type": "code",
   "execution_count": 39,
   "id": "b9bbfeef",
   "metadata": {},
   "outputs": [
    {
     "name": "stdout",
     "output_type": "stream",
     "text": [
      "[-1, -1, -1, -1, -1]\n"
     ]
    }
   ],
   "source": [
    "from sklearn.preprocessing import LabelEncoder\n",
    "\n",
    "# Example data\n",
    "data = ['cat', 'dog', 'bird', 'cat', 'unknown_animal']\n",
    "\n",
    "label_encoder = LabelEncoder()\n",
    "\n",
    "\n",
    "\n"
   ]
  },
  {
   "cell_type": "code",
   "execution_count": 40,
   "id": "410a7859",
   "metadata": {},
   "outputs": [
    {
     "data": {
      "text/plain": [
       "array([1, 2, 0, 1, 3], dtype=int64)"
      ]
     },
     "execution_count": 40,
     "metadata": {},
     "output_type": "execute_result"
    }
   ],
   "source": [
    "label_encoder.fit_transform(data)"
   ]
  },
  {
   "cell_type": "code",
   "execution_count": 44,
   "id": "5923746e",
   "metadata": {},
   "outputs": [
    {
     "name": "stdout",
     "output_type": "stream",
     "text": [
      "hi\n"
     ]
    }
   ],
   "source": [
    "x = ['bhsggs']\n",
    "try:\n",
    "    y = label_encoder.transform(x)\n",
    "except ValueError:\n",
    "    # Handle the case when the value cannot be transformed\n",
    "    y = 'hi'  # or any other representation of missing/unknown value\n",
    "\n",
    "print(y)"
   ]
  },
  {
   "cell_type": "code",
   "execution_count": 1,
   "id": "a0b00de3",
   "metadata": {},
   "outputs": [
    {
     "ename": "ModuleNotFoundError",
     "evalue": "No module named 'fuzzywuzzy'",
     "output_type": "error",
     "traceback": [
      "\u001b[1;31m---------------------------------------------------------------------------\u001b[0m",
      "\u001b[1;31mModuleNotFoundError\u001b[0m                       Traceback (most recent call last)",
      "\u001b[1;32m~\\AppData\\Local\\Temp\\ipykernel_25112\\76722553.py\u001b[0m in \u001b[0;36m<module>\u001b[1;34m\u001b[0m\n\u001b[1;32m----> 1\u001b[1;33m \u001b[1;32mfrom\u001b[0m \u001b[0mfuzzywuzzy\u001b[0m \u001b[1;32mimport\u001b[0m \u001b[0mfuzz\u001b[0m\u001b[1;33m\u001b[0m\u001b[1;33m\u001b[0m\u001b[0m\n\u001b[0m\u001b[0;32m      2\u001b[0m \u001b[1;33m\u001b[0m\u001b[0m\n\u001b[0;32m      3\u001b[0m \u001b[1;31m# Example data\u001b[0m\u001b[1;33m\u001b[0m\u001b[1;33m\u001b[0m\u001b[0m\n\u001b[0;32m      4\u001b[0m \u001b[0mactual_serial_numbers\u001b[0m \u001b[1;33m=\u001b[0m \u001b[1;33m[\u001b[0m\u001b[1;34m\"AN000111\"\u001b[0m\u001b[1;33m,\u001b[0m \u001b[1;34m\"XYZ123\"\u001b[0m\u001b[1;33m,\u001b[0m \u001b[1;34m\"ABC456\"\u001b[0m\u001b[1;33m]\u001b[0m\u001b[1;33m\u001b[0m\u001b[1;33m\u001b[0m\u001b[0m\n\u001b[0;32m      5\u001b[0m \u001b[1;33m\u001b[0m\u001b[0m\n",
      "\u001b[1;31mModuleNotFoundError\u001b[0m: No module named 'fuzzywuzzy'"
     ]
    }
   ],
   "source": [
    "from fuzzywuzzy import fuzz\n",
    "\n",
    "# Example data\n",
    "actual_serial_numbers = [\"AN000111\", \"XYZ123\", \"ABC456\"]\n",
    "\n",
    "# Extracted serial number\n",
    "extracted_serial_number = \"ANOO0111\"\n",
    "\n",
    "# Threshold for similarity\n",
    "threshold = 80  # Adjust as needed\n",
    "\n",
    "# Find potential matches\n",
    "potential_matches = [actual_sn for actual_sn in actual_serial_numbers if fuzz.ratio(extracted_serial_number, actual_sn) >= threshold]\n",
    "\n",
    "# Display potential matches\n",
    "print(\"Potential Matches:\")\n",
    "print(potential_matches)"
   ]
  },
  {
   "cell_type": "code",
   "execution_count": 2,
   "id": "5c087d6e",
   "metadata": {},
   "outputs": [
    {
     "name": "stdout",
     "output_type": "stream",
     "text": [
      "Collecting fuzzywuzzy\n",
      "  Downloading fuzzywuzzy-0.18.0-py2.py3-none-any.whl (18 kB)\n",
      "Installing collected packages: fuzzywuzzy\n",
      "Successfully installed fuzzywuzzy-0.18.0\n",
      "Note: you may need to restart the kernel to use updated packages.\n"
     ]
    }
   ],
   "source": [
    "pip install fuzzywuzzy"
   ]
  },
  {
   "cell_type": "code",
   "execution_count": 1,
   "id": "2508fddf",
   "metadata": {},
   "outputs": [
    {
     "name": "stdout",
     "output_type": "stream",
     "text": [
      "Potential Matches:\n",
      "[]\n"
     ]
    },
    {
     "name": "stderr",
     "output_type": "stream",
     "text": [
      "C:\\ML\\lib\\site-packages\\fuzzywuzzy\\fuzz.py:11: UserWarning: Using slow pure-python SequenceMatcher. Install python-Levenshtein to remove this warning\n",
      "  warnings.warn('Using slow pure-python SequenceMatcher. Install python-Levenshtein to remove this warning')\n"
     ]
    }
   ],
   "source": [
    "from fuzzywuzzy import fuzz\n",
    "\n",
    "# Example data\n",
    "actual_serial_numbers = [\"AN000111\", \"XYZ123\", \"ABC456\"]\n",
    "\n",
    "# Extracted serial number\n",
    "extracted_serial_number = \"ANOO0111\"\n",
    "\n",
    "# Threshold for similarity\n"
   ]
  },
  {
   "cell_type": "code",
   "execution_count": 6,
   "id": "ba732581",
   "metadata": {},
   "outputs": [
    {
     "name": "stdout",
     "output_type": "stream",
     "text": [
      "Potential Matches:\n",
      "['AN000111']\n"
     ]
    }
   ],
   "source": [
    "threshold = 75  # Adjust as needed\n",
    "\n",
    "# Find potential matches\n",
    "potential_matches = [actual_sn for actual_sn in actual_serial_numbers if fuzz.ratio(extracted_serial_number, actual_sn) >= threshold]\n",
    "\n",
    "# Display potential matches\n",
    "print(\"Potential Matches:\")\n",
    "print(potential_matches)"
   ]
  },
  {
   "cell_type": "code",
   "execution_count": null,
   "id": "5505f1f4",
   "metadata": {},
   "outputs": [],
   "source": []
  }
 ],
 "metadata": {
  "kernelspec": {
   "display_name": "Python 3 (ipykernel)",
   "language": "python",
   "name": "python3"
  },
  "language_info": {
   "codemirror_mode": {
    "name": "ipython",
    "version": 3
   },
   "file_extension": ".py",
   "mimetype": "text/x-python",
   "name": "python",
   "nbconvert_exporter": "python",
   "pygments_lexer": "ipython3",
   "version": "3.9.13"
  }
 },
 "nbformat": 4,
 "nbformat_minor": 5
}
